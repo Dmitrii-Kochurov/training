{
 "cells": [
  {
   "cell_type": "markdown",
   "metadata": {},
   "source": [
    "# Телеком - прогнозирование оттока клиентов (выпускной проект)"
   ]
  },
  {
   "cell_type": "markdown",
   "metadata": {
    "toc": true
   },
   "source": [
    "<h1>Содержание<span class=\"tocSkip\"></span></h1>\n",
    "<div class=\"toc\"><ul class=\"toc-item\"><li><span><a href=\"#О-проекте\" data-toc-modified-id=\"О-проекте-1\"><span class=\"toc-item-num\">1&nbsp;&nbsp;</span>О проекте</a></span><ul class=\"toc-item\"><li><span><a href=\"#Задача-проекта\" data-toc-modified-id=\"Задача-проекта-1.1\"><span class=\"toc-item-num\">1.1&nbsp;&nbsp;</span>Задача проекта</a></span></li><li><span><a href=\"#Критерии-оценки-проекта-«Телеком»\" data-toc-modified-id=\"Критерии-оценки-проекта-«Телеком»-1.2\"><span class=\"toc-item-num\">1.2&nbsp;&nbsp;</span>Критерии оценки проекта «Телеком»</a></span></li><li><span><a href=\"#Описание-услуг\" data-toc-modified-id=\"Описание-услуг-1.3\"><span class=\"toc-item-num\">1.3&nbsp;&nbsp;</span>Описание услуг</a></span></li><li><span><a href=\"#Описание-данных\" data-toc-modified-id=\"Описание-данных-1.4\"><span class=\"toc-item-num\">1.4&nbsp;&nbsp;</span>Описание данных</a></span></li></ul></li><li><span><a href=\"#План-работы\" data-toc-modified-id=\"План-работы-2\"><span class=\"toc-item-num\">2&nbsp;&nbsp;</span>План работы</a></span></li><li><span><a href=\"#Подготовка-рабочей-среды\" data-toc-modified-id=\"Подготовка-рабочей-среды-3\"><span class=\"toc-item-num\">3&nbsp;&nbsp;</span>Подготовка рабочей среды</a></span></li><li><span><a href=\"#Изучение-и-предобработка-данных\" data-toc-modified-id=\"Изучение-и-предобработка-данных-4\"><span class=\"toc-item-num\">4&nbsp;&nbsp;</span>Изучение и предобработка данных</a></span><ul class=\"toc-item\"><li><span><a href=\"#Информация-о-договорах\" data-toc-modified-id=\"Информация-о-договорах-4.1\"><span class=\"toc-item-num\">4.1&nbsp;&nbsp;</span>Информация о договорах</a></span></li><li><span><a href=\"#Информация-о-персональных-данных-клиентов\" data-toc-modified-id=\"Информация-о-персональных-данных-клиентов-4.2\"><span class=\"toc-item-num\">4.2&nbsp;&nbsp;</span>Информация о персональных данных клиентов</a></span></li><li><span><a href=\"#Информация-об-интернет-услугах\" data-toc-modified-id=\"Информация-об-интернет-услугах-4.3\"><span class=\"toc-item-num\">4.3&nbsp;&nbsp;</span>Информация об интернет-услугах</a></span></li><li><span><a href=\"#Информация-об-услугах-телефонии\" data-toc-modified-id=\"Информация-об-услугах-телефонии-4.4\"><span class=\"toc-item-num\">4.4&nbsp;&nbsp;</span>Информация об услугах телефонии</a></span></li></ul></li><li><span><a href=\"#Подготовка-к-обучению-моделей\" data-toc-modified-id=\"Подготовка-к-обучению-моделей-5\"><span class=\"toc-item-num\">5&nbsp;&nbsp;</span>Подготовка к обучению моделей</a></span><ul class=\"toc-item\"><li><span><a href=\"#Формирование-итогового-набора-признаков\" data-toc-modified-id=\"Формирование-итогового-набора-признаков-5.1\"><span class=\"toc-item-num\">5.1&nbsp;&nbsp;</span>Формирование итогового набора признаков</a></span><ul class=\"toc-item\"><li><span><a href=\"#Объединение-данных\" data-toc-modified-id=\"Объединение-данных-5.1.1\"><span class=\"toc-item-num\">5.1.1&nbsp;&nbsp;</span>Объединение данных</a></span></li><li><span><a href=\"#Исследовательский-анализ-данных\" data-toc-modified-id=\"Исследовательский-анализ-данных-5.1.2\"><span class=\"toc-item-num\">5.1.2&nbsp;&nbsp;</span>Исследовательский анализ данных</a></span></li><li><span><a href=\"#Окончательное-добавление-и-удаление-признаков\" data-toc-modified-id=\"Окончательное-добавление-и-удаление-признаков-5.1.3\"><span class=\"toc-item-num\">5.1.3&nbsp;&nbsp;</span>Окончательное добавление и удаление признаков</a></span></li></ul></li><li><span><a href=\"#Обработка-категориальных-признаков\" data-toc-modified-id=\"Обработка-категориальных-признаков-5.2\"><span class=\"toc-item-num\">5.2&nbsp;&nbsp;</span>Обработка категориальных признаков</a></span></li><li><span><a href=\"#Разбивка-данных-на-выборки\" data-toc-modified-id=\"Разбивка-данных-на-выборки-5.3\"><span class=\"toc-item-num\">5.3&nbsp;&nbsp;</span>Разбивка данных на выборки</a></span></li><li><span><a href=\"#Масштабирование-признаков\" data-toc-modified-id=\"Масштабирование-признаков-5.4\"><span class=\"toc-item-num\">5.4&nbsp;&nbsp;</span>Масштабирование признаков</a></span></li><li><span><a href=\"#Проверка-дисбаланса-классов\" data-toc-modified-id=\"Проверка-дисбаланса-классов-5.5\"><span class=\"toc-item-num\">5.5&nbsp;&nbsp;</span>Проверка дисбаланса классов</a></span></li></ul></li><li><span><a href=\"#Обучение-моделей\" data-toc-modified-id=\"Обучение-моделей-6\"><span class=\"toc-item-num\">6&nbsp;&nbsp;</span>Обучение моделей</a></span><ul class=\"toc-item\"><li><span><a href=\"#Тривиальная-модель-(DummyClassifier)\" data-toc-modified-id=\"Тривиальная-модель-(DummyClassifier)-6.1\"><span class=\"toc-item-num\">6.1&nbsp;&nbsp;</span>Тривиальная модель (DummyClassifier)</a></span></li><li><span><a href=\"#Логистическая-регрессия\" data-toc-modified-id=\"Логистическая-регрессия-6.2\"><span class=\"toc-item-num\">6.2&nbsp;&nbsp;</span>Логистическая регрессия</a></span></li><li><span><a href=\"#Случайный-лес\" data-toc-modified-id=\"Случайный-лес-6.3\"><span class=\"toc-item-num\">6.3&nbsp;&nbsp;</span>Случайный лес</a></span></li><li><span><a href=\"#Градиентный-бустинг\" data-toc-modified-id=\"Градиентный-бустинг-6.4\"><span class=\"toc-item-num\">6.4&nbsp;&nbsp;</span>Градиентный бустинг</a></span><ul class=\"toc-item\"><li><span><a href=\"#XGBoost\" data-toc-modified-id=\"XGBoost-6.4.1\"><span class=\"toc-item-num\">6.4.1&nbsp;&nbsp;</span>XGBoost</a></span></li><li><span><a href=\"#LGBM\" data-toc-modified-id=\"LGBM-6.4.2\"><span class=\"toc-item-num\">6.4.2&nbsp;&nbsp;</span>LGBM</a></span></li><li><span><a href=\"#CatBoost\" data-toc-modified-id=\"CatBoost-6.4.3\"><span class=\"toc-item-num\">6.4.3&nbsp;&nbsp;</span>CatBoost</a></span></li></ul></li><li><span><a href=\"#Выбор-наилучшего-алгоритма\" data-toc-modified-id=\"Выбор-наилучшего-алгоритма-6.5\"><span class=\"toc-item-num\">6.5&nbsp;&nbsp;</span>Выбор наилучшего алгоритма</a></span></li><li><span><a href=\"#Проверка-модели-на-тестовой-выборке\" data-toc-modified-id=\"Проверка-модели-на-тестовой-выборке-6.6\"><span class=\"toc-item-num\">6.6&nbsp;&nbsp;</span>Проверка модели на тестовой выборке</a></span></li></ul></li><li><span><a href=\"#Общий-вывод\" data-toc-modified-id=\"Общий-вывод-7\"><span class=\"toc-item-num\">7&nbsp;&nbsp;</span>Общий вывод</a></span></li></ul></div>"
   ]
  },
  {
   "cell_type": "markdown",
   "metadata": {},
   "source": [
    "## Подготовка рабочей среды"
   ]
  },
  {
   "cell_type": "markdown",
   "metadata": {},
   "source": [
    "Импортируем необходимые библиотеки и модули:"
   ]
  },
  {
   "cell_type": "code",
   "execution_count": 1,
   "metadata": {},
   "outputs": [],
   "source": [
    "import pandas as pd\n",
    "import numpy as np\n",
    "import matplotlib.pyplot as plt\n",
    "import seaborn as sns\n",
    "from sklearn.preprocessing import StandardScaler\n",
    "from sklearn.model_selection import train_test_split, ShuffleSplit, GridSearchCV, cross_val_score\n",
    "from sklearn.dummy import DummyClassifier\n",
    "from sklearn.linear_model import LogisticRegression\n",
    "from sklearn.ensemble import RandomForestClassifier\n",
    "from xgboost import XGBClassifier\n",
    "from lightgbm import LGBMClassifier\n",
    "from catboost import CatBoostClassifier\n",
    "from sklearn.metrics import roc_auc_score, accuracy_score, confusion_matrix, roc_curve\n",
    "from IPython.display import display\n",
    "import warnings"
   ]
  },
  {
   "cell_type": "markdown",
   "metadata": {},
   "source": [
    "Задаём конфигурируемые настройки:"
   ]
  },
  {
   "cell_type": "code",
   "execution_count": 2,
   "metadata": {},
   "outputs": [],
   "source": [
    "# игнорируем предупреждения\n",
    "warnings.filterwarnings('ignore')\n",
    "\n",
    "# устанавливаем стиль оформления графиков seaborn\n",
    "sns.set_style(\"whitegrid\")\n",
    "\n",
    "# устанавливаем опцию, чтобы отображались все столбцы больших таблиц и все символы в ячейках\n",
    "pd.set_option('display.max_columns', 50)\n",
    "pd.set_option('display.max_colwidth', -1)"
   ]
  },
  {
   "cell_type": "markdown",
   "metadata": {},
   "source": [
    "Добавим константы:\n",
    "* дата выгрузки данных для анализа;\n",
    "* единое значение для воспроизводимости вычислений, основанных на случайности."
   ]
  },
  {
   "cell_type": "code",
   "execution_count": 3,
   "metadata": {},
   "outputs": [],
   "source": [
    "UPLOAD_DATE = '2020-02-01'\n",
    "GLOBAL_RANDOM_STATE = 12345"
   ]
  },
  {
   "cell_type": "markdown",
   "metadata": {},
   "source": [
    "Напишем универсальные функции для: \n",
    "* обучения моделей (по указанному алгоритму и нескольким вариантам ключевых гиперпараметров необходимо подобрать их оптимальное сочетание для получения на кросс-валидации максимального значения интересующей нас метрики AUC-ROC);\n",
    "* удобного отображения результатов обучения;\n",
    "* расчёта метрик на тестовой выборке для итоговой модели."
   ]
  },
  {
   "cell_type": "code",
   "execution_count": 4,
   "metadata": {},
   "outputs": [],
   "source": [
    "def model_learning(algorithm, params):\n",
    "    cv = ShuffleSplit(n_splits=3, test_size=0.2, random_state=GLOBAL_RANDOM_STATE)\n",
    "    grid_model = GridSearchCV(algorithm, params, scoring='roc_auc', cv=cv)\n",
    "    grid_model.fit(X_train, y_train)\n",
    "    return grid_model"
   ]
  },
  {
   "cell_type": "code",
   "execution_count": 5,
   "metadata": {},
   "outputs": [],
   "source": [
    "def train_result(grid_model, algorithm_name):\n",
    "    print('Модель с максимальной AUC-ROC на кросс-валидации:')\n",
    "    result = pd.DataFrame(\n",
    "        {'Алгоритм' : [algorithm_name],\n",
    "         'Гиперпараметры' : [grid_model.best_params_],\n",
    "         'AUC-ROC' : [grid_model.best_score_]}\n",
    "    )\n",
    "    display(result)\n",
    "    return result"
   ]
  },
  {
   "cell_type": "code",
   "execution_count": 6,
   "metadata": {},
   "outputs": [],
   "source": [
    "def test_scoring(model):\n",
    "    pred_proba_test = model.predict_proba(X_test)[:, 1]\n",
    "    pred_test = model.predict(X_test)\n",
    "    print('AUC-ROC на тестовой выборке: ', roc_auc_score(y_test, pred_proba_test))\n",
    "    print('Accuracy на тестовой выборке: ', accuracy_score(y_test, pred_test))\n",
    "\n",
    "# https://scikit-learn.org/stable/modules/generated/sklearn.metrics.roc_auc_score.html\n",
    "# https://scikit-learn.org/stable/modules/generated/sklearn.metrics.accuracy_score.html"
   ]
  },
  {
   "cell_type": "markdown",
   "metadata": {},
   "source": [
    "## Изучение и предобработка данных"
   ]
  },
  {
   "cell_type": "markdown",
   "metadata": {},
   "source": [
    "### Информация о договорах"
   ]
  },
  {
   "cell_type": "markdown",
   "metadata": {},
   "source": [
    "Получаем данные из исходной таблицы:"
   ]
  },
  {
   "cell_type": "code",
   "execution_count": 7,
   "metadata": {},
   "outputs": [],
   "source": [
    "contract = pd.read_csv('/datasets/final_provider/contract.csv')"
   ]
  },
  {
   "cell_type": "markdown",
   "metadata": {},
   "source": [
    "Посмотрим на несколько строк для получения представления о содержимом таблицы:"
   ]
  },
  {
   "cell_type": "code",
   "execution_count": 8,
   "metadata": {},
   "outputs": [
    {
     "data": {
      "text/html": [
       "<div>\n",
       "<style scoped>\n",
       "    .dataframe tbody tr th:only-of-type {\n",
       "        vertical-align: middle;\n",
       "    }\n",
       "\n",
       "    .dataframe tbody tr th {\n",
       "        vertical-align: top;\n",
       "    }\n",
       "\n",
       "    .dataframe thead th {\n",
       "        text-align: right;\n",
       "    }\n",
       "</style>\n",
       "<table border=\"1\" class=\"dataframe\">\n",
       "  <thead>\n",
       "    <tr style=\"text-align: right;\">\n",
       "      <th></th>\n",
       "      <th>customerID</th>\n",
       "      <th>BeginDate</th>\n",
       "      <th>EndDate</th>\n",
       "      <th>Type</th>\n",
       "      <th>PaperlessBilling</th>\n",
       "      <th>PaymentMethod</th>\n",
       "      <th>MonthlyCharges</th>\n",
       "      <th>TotalCharges</th>\n",
       "    </tr>\n",
       "  </thead>\n",
       "  <tbody>\n",
       "    <tr>\n",
       "      <td>0</td>\n",
       "      <td>7590-VHVEG</td>\n",
       "      <td>2020-01-01</td>\n",
       "      <td>No</td>\n",
       "      <td>Month-to-month</td>\n",
       "      <td>Yes</td>\n",
       "      <td>Electronic check</td>\n",
       "      <td>29.85</td>\n",
       "      <td>29.85</td>\n",
       "    </tr>\n",
       "    <tr>\n",
       "      <td>1</td>\n",
       "      <td>5575-GNVDE</td>\n",
       "      <td>2017-04-01</td>\n",
       "      <td>No</td>\n",
       "      <td>One year</td>\n",
       "      <td>No</td>\n",
       "      <td>Mailed check</td>\n",
       "      <td>56.95</td>\n",
       "      <td>1889.5</td>\n",
       "    </tr>\n",
       "    <tr>\n",
       "      <td>2</td>\n",
       "      <td>3668-QPYBK</td>\n",
       "      <td>2019-10-01</td>\n",
       "      <td>2019-12-01 00:00:00</td>\n",
       "      <td>Month-to-month</td>\n",
       "      <td>Yes</td>\n",
       "      <td>Mailed check</td>\n",
       "      <td>53.85</td>\n",
       "      <td>108.15</td>\n",
       "    </tr>\n",
       "    <tr>\n",
       "      <td>3</td>\n",
       "      <td>7795-CFOCW</td>\n",
       "      <td>2016-05-01</td>\n",
       "      <td>No</td>\n",
       "      <td>One year</td>\n",
       "      <td>No</td>\n",
       "      <td>Bank transfer (automatic)</td>\n",
       "      <td>42.30</td>\n",
       "      <td>1840.75</td>\n",
       "    </tr>\n",
       "    <tr>\n",
       "      <td>4</td>\n",
       "      <td>9237-HQITU</td>\n",
       "      <td>2019-09-01</td>\n",
       "      <td>2019-11-01 00:00:00</td>\n",
       "      <td>Month-to-month</td>\n",
       "      <td>Yes</td>\n",
       "      <td>Electronic check</td>\n",
       "      <td>70.70</td>\n",
       "      <td>151.65</td>\n",
       "    </tr>\n",
       "  </tbody>\n",
       "</table>\n",
       "</div>"
      ],
      "text/plain": [
       "   customerID   BeginDate              EndDate            Type  \\\n",
       "0  7590-VHVEG  2020-01-01  No                   Month-to-month   \n",
       "1  5575-GNVDE  2017-04-01  No                   One year         \n",
       "2  3668-QPYBK  2019-10-01  2019-12-01 00:00:00  Month-to-month   \n",
       "3  7795-CFOCW  2016-05-01  No                   One year         \n",
       "4  9237-HQITU  2019-09-01  2019-11-01 00:00:00  Month-to-month   \n",
       "\n",
       "  PaperlessBilling              PaymentMethod  MonthlyCharges TotalCharges  \n",
       "0  Yes              Electronic check           29.85           29.85        \n",
       "1  No               Mailed check               56.95           1889.5       \n",
       "2  Yes              Mailed check               53.85           108.15       \n",
       "3  No               Bank transfer (automatic)  42.30           1840.75      \n",
       "4  Yes              Electronic check           70.70           151.65       "
      ]
     },
     "execution_count": 8,
     "metadata": {},
     "output_type": "execute_result"
    }
   ],
   "source": [
    "contract.head()"
   ]
  },
  {
   "cell_type": "markdown",
   "metadata": {},
   "source": [
    "Посмотрим общую информацию (перечень столбцов, количество заполненных ячеек и типы данных):"
   ]
  },
  {
   "cell_type": "code",
   "execution_count": 9,
   "metadata": {},
   "outputs": [
    {
     "name": "stdout",
     "output_type": "stream",
     "text": [
      "<class 'pandas.core.frame.DataFrame'>\n",
      "RangeIndex: 7043 entries, 0 to 7042\n",
      "Data columns (total 8 columns):\n",
      "customerID          7043 non-null object\n",
      "BeginDate           7043 non-null object\n",
      "EndDate             7043 non-null object\n",
      "Type                7043 non-null object\n",
      "PaperlessBilling    7043 non-null object\n",
      "PaymentMethod       7043 non-null object\n",
      "MonthlyCharges      7043 non-null float64\n",
      "TotalCharges        7043 non-null object\n",
      "dtypes: float64(1), object(7)\n",
      "memory usage: 440.3+ KB\n"
     ]
    }
   ],
   "source": [
    "contract.info()"
   ]
  },
  {
   "cell_type": "markdown",
   "metadata": {},
   "source": [
    "Проверим на отсутствие дубликатов:"
   ]
  },
  {
   "cell_type": "code",
   "execution_count": 10,
   "metadata": {
    "scrolled": true
   },
   "outputs": [
    {
     "data": {
      "text/plain": [
       "0"
      ]
     },
     "execution_count": 10,
     "metadata": {},
     "output_type": "execute_result"
    }
   ],
   "source": [
    "contract.duplicated().sum()"
   ]
  },
  {
   "cell_type": "markdown",
   "metadata": {},
   "source": [
    "Убедимся, что все пользователи уникальны и на каждого из них только одна строка:"
   ]
  },
  {
   "cell_type": "code",
   "execution_count": 11,
   "metadata": {},
   "outputs": [
    {
     "data": {
      "text/plain": [
       "7043"
      ]
     },
     "execution_count": 11,
     "metadata": {},
     "output_type": "execute_result"
    }
   ],
   "source": [
    "contract['customerID'].nunique()"
   ]
  },
  {
   "cell_type": "markdown",
   "metadata": {},
   "source": [
    "***\n",
    "\n",
    "Пройдёмся по каждому из столбцов и сделаем преобразования, если это необходимо."
   ]
  },
  {
   "cell_type": "markdown",
   "metadata": {},
   "source": [
    "Из столбца с датой окончания пользования услугами делаем целевой признак ухода клиента:"
   ]
  },
  {
   "cell_type": "code",
   "execution_count": 12,
   "metadata": {},
   "outputs": [],
   "source": [
    "contract['Churn'] = contract['EndDate'].apply(lambda x: 0 if x=='No' else 1)"
   ]
  },
  {
   "cell_type": "markdown",
   "metadata": {},
   "source": [
    "Разберёмся с датами:"
   ]
  },
  {
   "cell_type": "code",
   "execution_count": 13,
   "metadata": {},
   "outputs": [],
   "source": [
    "# столбец с датой начала пользования услугами переводим в дату\n",
    "contract['BeginDate'] = contract['BeginDate'].astype('datetime64')\n",
    "\n",
    "# в столбце с датой окончания пользования услугами отсутствующие значения заменяем на дату выгрузки\n",
    "# по ним будем считать \"время жизни\" пользователя\n",
    "contract.loc[contract['EndDate'] == 'No', 'EndDate'] = UPLOAD_DATE\n",
    "contract['EndDate'] = contract['EndDate'].astype('datetime64')\n",
    "\n",
    "# сформируем новый признак с длительностью использования услуг\n",
    "contract['Lifetime'] = (contract['EndDate'] - contract['BeginDate']).astype('timedelta64[D]')\n",
    "#contract['Lifetime'] = ((contract['EndDate'] - contract['BeginDate'])/np.timedelta64(1, 'M'))\n",
    "contract['Lifetime'] = contract['Lifetime'].astype('int')"
   ]
  },
  {
   "cell_type": "markdown",
   "metadata": {},
   "source": [
    "При преобразовании столбца `'TotalCharges'` из строкового в числовой тип возникают ошибки, связанные с наличием пустых значений. Посмотрим на них:"
   ]
  },
  {
   "cell_type": "code",
   "execution_count": 14,
   "metadata": {
    "scrolled": true
   },
   "outputs": [
    {
     "data": {
      "text/html": [
       "<div>\n",
       "<style scoped>\n",
       "    .dataframe tbody tr th:only-of-type {\n",
       "        vertical-align: middle;\n",
       "    }\n",
       "\n",
       "    .dataframe tbody tr th {\n",
       "        vertical-align: top;\n",
       "    }\n",
       "\n",
       "    .dataframe thead th {\n",
       "        text-align: right;\n",
       "    }\n",
       "</style>\n",
       "<table border=\"1\" class=\"dataframe\">\n",
       "  <thead>\n",
       "    <tr style=\"text-align: right;\">\n",
       "      <th></th>\n",
       "      <th>customerID</th>\n",
       "      <th>BeginDate</th>\n",
       "      <th>EndDate</th>\n",
       "      <th>Type</th>\n",
       "      <th>PaperlessBilling</th>\n",
       "      <th>PaymentMethod</th>\n",
       "      <th>MonthlyCharges</th>\n",
       "      <th>TotalCharges</th>\n",
       "      <th>Churn</th>\n",
       "      <th>Lifetime</th>\n",
       "    </tr>\n",
       "  </thead>\n",
       "  <tbody>\n",
       "    <tr>\n",
       "      <td>488</td>\n",
       "      <td>4472-LVYGI</td>\n",
       "      <td>2020-02-01</td>\n",
       "      <td>2020-02-01</td>\n",
       "      <td>Two year</td>\n",
       "      <td>Yes</td>\n",
       "      <td>Bank transfer (automatic)</td>\n",
       "      <td>52.55</td>\n",
       "      <td></td>\n",
       "      <td>0</td>\n",
       "      <td>0</td>\n",
       "    </tr>\n",
       "    <tr>\n",
       "      <td>753</td>\n",
       "      <td>3115-CZMZD</td>\n",
       "      <td>2020-02-01</td>\n",
       "      <td>2020-02-01</td>\n",
       "      <td>Two year</td>\n",
       "      <td>No</td>\n",
       "      <td>Mailed check</td>\n",
       "      <td>20.25</td>\n",
       "      <td></td>\n",
       "      <td>0</td>\n",
       "      <td>0</td>\n",
       "    </tr>\n",
       "    <tr>\n",
       "      <td>936</td>\n",
       "      <td>5709-LVOEQ</td>\n",
       "      <td>2020-02-01</td>\n",
       "      <td>2020-02-01</td>\n",
       "      <td>Two year</td>\n",
       "      <td>No</td>\n",
       "      <td>Mailed check</td>\n",
       "      <td>80.85</td>\n",
       "      <td></td>\n",
       "      <td>0</td>\n",
       "      <td>0</td>\n",
       "    </tr>\n",
       "    <tr>\n",
       "      <td>1082</td>\n",
       "      <td>4367-NUYAO</td>\n",
       "      <td>2020-02-01</td>\n",
       "      <td>2020-02-01</td>\n",
       "      <td>Two year</td>\n",
       "      <td>No</td>\n",
       "      <td>Mailed check</td>\n",
       "      <td>25.75</td>\n",
       "      <td></td>\n",
       "      <td>0</td>\n",
       "      <td>0</td>\n",
       "    </tr>\n",
       "    <tr>\n",
       "      <td>1340</td>\n",
       "      <td>1371-DWPAZ</td>\n",
       "      <td>2020-02-01</td>\n",
       "      <td>2020-02-01</td>\n",
       "      <td>Two year</td>\n",
       "      <td>No</td>\n",
       "      <td>Credit card (automatic)</td>\n",
       "      <td>56.05</td>\n",
       "      <td></td>\n",
       "      <td>0</td>\n",
       "      <td>0</td>\n",
       "    </tr>\n",
       "    <tr>\n",
       "      <td>3331</td>\n",
       "      <td>7644-OMVMY</td>\n",
       "      <td>2020-02-01</td>\n",
       "      <td>2020-02-01</td>\n",
       "      <td>Two year</td>\n",
       "      <td>No</td>\n",
       "      <td>Mailed check</td>\n",
       "      <td>19.85</td>\n",
       "      <td></td>\n",
       "      <td>0</td>\n",
       "      <td>0</td>\n",
       "    </tr>\n",
       "    <tr>\n",
       "      <td>3826</td>\n",
       "      <td>3213-VVOLG</td>\n",
       "      <td>2020-02-01</td>\n",
       "      <td>2020-02-01</td>\n",
       "      <td>Two year</td>\n",
       "      <td>No</td>\n",
       "      <td>Mailed check</td>\n",
       "      <td>25.35</td>\n",
       "      <td></td>\n",
       "      <td>0</td>\n",
       "      <td>0</td>\n",
       "    </tr>\n",
       "    <tr>\n",
       "      <td>4380</td>\n",
       "      <td>2520-SGTTA</td>\n",
       "      <td>2020-02-01</td>\n",
       "      <td>2020-02-01</td>\n",
       "      <td>Two year</td>\n",
       "      <td>No</td>\n",
       "      <td>Mailed check</td>\n",
       "      <td>20.00</td>\n",
       "      <td></td>\n",
       "      <td>0</td>\n",
       "      <td>0</td>\n",
       "    </tr>\n",
       "    <tr>\n",
       "      <td>5218</td>\n",
       "      <td>2923-ARZLG</td>\n",
       "      <td>2020-02-01</td>\n",
       "      <td>2020-02-01</td>\n",
       "      <td>One year</td>\n",
       "      <td>Yes</td>\n",
       "      <td>Mailed check</td>\n",
       "      <td>19.70</td>\n",
       "      <td></td>\n",
       "      <td>0</td>\n",
       "      <td>0</td>\n",
       "    </tr>\n",
       "    <tr>\n",
       "      <td>6670</td>\n",
       "      <td>4075-WKNIU</td>\n",
       "      <td>2020-02-01</td>\n",
       "      <td>2020-02-01</td>\n",
       "      <td>Two year</td>\n",
       "      <td>No</td>\n",
       "      <td>Mailed check</td>\n",
       "      <td>73.35</td>\n",
       "      <td></td>\n",
       "      <td>0</td>\n",
       "      <td>0</td>\n",
       "    </tr>\n",
       "    <tr>\n",
       "      <td>6754</td>\n",
       "      <td>2775-SEFEE</td>\n",
       "      <td>2020-02-01</td>\n",
       "      <td>2020-02-01</td>\n",
       "      <td>Two year</td>\n",
       "      <td>Yes</td>\n",
       "      <td>Bank transfer (automatic)</td>\n",
       "      <td>61.90</td>\n",
       "      <td></td>\n",
       "      <td>0</td>\n",
       "      <td>0</td>\n",
       "    </tr>\n",
       "  </tbody>\n",
       "</table>\n",
       "</div>"
      ],
      "text/plain": [
       "      customerID  BeginDate    EndDate      Type PaperlessBilling  \\\n",
       "488   4472-LVYGI 2020-02-01 2020-02-01  Two year  Yes               \n",
       "753   3115-CZMZD 2020-02-01 2020-02-01  Two year  No                \n",
       "936   5709-LVOEQ 2020-02-01 2020-02-01  Two year  No                \n",
       "1082  4367-NUYAO 2020-02-01 2020-02-01  Two year  No                \n",
       "1340  1371-DWPAZ 2020-02-01 2020-02-01  Two year  No                \n",
       "3331  7644-OMVMY 2020-02-01 2020-02-01  Two year  No                \n",
       "3826  3213-VVOLG 2020-02-01 2020-02-01  Two year  No                \n",
       "4380  2520-SGTTA 2020-02-01 2020-02-01  Two year  No                \n",
       "5218  2923-ARZLG 2020-02-01 2020-02-01  One year  Yes               \n",
       "6670  4075-WKNIU 2020-02-01 2020-02-01  Two year  No                \n",
       "6754  2775-SEFEE 2020-02-01 2020-02-01  Two year  Yes               \n",
       "\n",
       "                  PaymentMethod  MonthlyCharges TotalCharges  Churn  Lifetime  \n",
       "488   Bank transfer (automatic)  52.55                        0      0         \n",
       "753   Mailed check               20.25                        0      0         \n",
       "936   Mailed check               80.85                        0      0         \n",
       "1082  Mailed check               25.75                        0      0         \n",
       "1340  Credit card (automatic)    56.05                        0      0         \n",
       "3331  Mailed check               19.85                        0      0         \n",
       "3826  Mailed check               25.35                        0      0         \n",
       "4380  Mailed check               20.00                        0      0         \n",
       "5218  Mailed check               19.70                        0      0         \n",
       "6670  Mailed check               73.35                        0      0         \n",
       "6754  Bank transfer (automatic)  61.90                        0      0         "
      ]
     },
     "execution_count": 14,
     "metadata": {},
     "output_type": "execute_result"
    }
   ],
   "source": [
    "contract.loc[contract['TotalCharges'] == ' ']"
   ]
  },
  {
   "cell_type": "markdown",
   "metadata": {},
   "source": [
    "Таких значений всего 11. Всё это только новые клиенты, поэтому заменяем пропущенные значения на значения из столбца `'MonthlyCharges'` и изменяем тип данных."
   ]
  },
  {
   "cell_type": "code",
   "execution_count": 15,
   "metadata": {},
   "outputs": [],
   "source": [
    "contract['TotalCharges'] = np.where(contract['TotalCharges'] != \" \", \\\n",
    "                                    contract['TotalCharges'], \\\n",
    "                                    contract['MonthlyCharges'].astype('str'))\n",
    "\n",
    "contract['TotalCharges'] = pd.to_numeric(contract['TotalCharges'])"
   ]
  },
  {
   "cell_type": "markdown",
   "metadata": {},
   "source": [
    "Убедимся, что не требуется преобразований в столбце с типом (периодичностью) оплаты, по наличному/безналичному платежу и способу оплаты:"
   ]
  },
  {
   "cell_type": "code",
   "execution_count": 16,
   "metadata": {},
   "outputs": [
    {
     "name": "stdout",
     "output_type": "stream",
     "text": [
      "Month-to-month    3875\n",
      "Two year          1695\n",
      "One year          1473\n",
      "Name: Type, dtype: int64\n",
      "\n",
      "Yes    4171\n",
      "No     2872\n",
      "Name: PaperlessBilling, dtype: int64\n",
      "\n",
      "Electronic check             2365\n",
      "Mailed check                 1612\n",
      "Bank transfer (automatic)    1544\n",
      "Credit card (automatic)      1522\n",
      "Name: PaymentMethod, dtype: int64\n",
      "\n"
     ]
    }
   ],
   "source": [
    "for col in ['Type', 'PaperlessBilling', 'PaymentMethod']:\n",
    "    print(contract[col].value_counts())\n",
    "    print(\"\")"
   ]
  },
  {
   "cell_type": "markdown",
   "metadata": {},
   "source": [
    "Сократим длинные названия значений в столбце `'PaymentMethod'`:"
   ]
  },
  {
   "cell_type": "code",
   "execution_count": 17,
   "metadata": {},
   "outputs": [],
   "source": [
    "contract['PaymentMethod'] = contract['PaymentMethod'].apply(lambda x: x.replace(\" (automatic)\", \"\"))"
   ]
  },
  {
   "cell_type": "markdown",
   "metadata": {},
   "source": [
    "Ознакомимся со значениями, представленными в столбцах с числами:"
   ]
  },
  {
   "cell_type": "code",
   "execution_count": 18,
   "metadata": {},
   "outputs": [
    {
     "data": {
      "text/html": [
       "<div>\n",
       "<style scoped>\n",
       "    .dataframe tbody tr th:only-of-type {\n",
       "        vertical-align: middle;\n",
       "    }\n",
       "\n",
       "    .dataframe tbody tr th {\n",
       "        vertical-align: top;\n",
       "    }\n",
       "\n",
       "    .dataframe thead th {\n",
       "        text-align: right;\n",
       "    }\n",
       "</style>\n",
       "<table border=\"1\" class=\"dataframe\">\n",
       "  <thead>\n",
       "    <tr style=\"text-align: right;\">\n",
       "      <th></th>\n",
       "      <th>MonthlyCharges</th>\n",
       "      <th>TotalCharges</th>\n",
       "      <th>Churn</th>\n",
       "      <th>Lifetime</th>\n",
       "    </tr>\n",
       "  </thead>\n",
       "  <tbody>\n",
       "    <tr>\n",
       "      <td>count</td>\n",
       "      <td>7043.000000</td>\n",
       "      <td>7043.000000</td>\n",
       "      <td>7043.000000</td>\n",
       "      <td>7043.000000</td>\n",
       "    </tr>\n",
       "    <tr>\n",
       "      <td>mean</td>\n",
       "      <td>64.761692</td>\n",
       "      <td>2279.798992</td>\n",
       "      <td>0.265370</td>\n",
       "      <td>985.996166</td>\n",
       "    </tr>\n",
       "    <tr>\n",
       "      <td>std</td>\n",
       "      <td>30.090047</td>\n",
       "      <td>2266.730170</td>\n",
       "      <td>0.441561</td>\n",
       "      <td>747.587844</td>\n",
       "    </tr>\n",
       "    <tr>\n",
       "      <td>min</td>\n",
       "      <td>18.250000</td>\n",
       "      <td>18.800000</td>\n",
       "      <td>0.000000</td>\n",
       "      <td>0.000000</td>\n",
       "    </tr>\n",
       "    <tr>\n",
       "      <td>25%</td>\n",
       "      <td>35.500000</td>\n",
       "      <td>398.550000</td>\n",
       "      <td>0.000000</td>\n",
       "      <td>273.000000</td>\n",
       "    </tr>\n",
       "    <tr>\n",
       "      <td>50%</td>\n",
       "      <td>70.350000</td>\n",
       "      <td>1394.550000</td>\n",
       "      <td>0.000000</td>\n",
       "      <td>883.000000</td>\n",
       "    </tr>\n",
       "    <tr>\n",
       "      <td>75%</td>\n",
       "      <td>89.850000</td>\n",
       "      <td>3786.600000</td>\n",
       "      <td>1.000000</td>\n",
       "      <td>1676.000000</td>\n",
       "    </tr>\n",
       "    <tr>\n",
       "      <td>max</td>\n",
       "      <td>118.750000</td>\n",
       "      <td>8684.800000</td>\n",
       "      <td>1.000000</td>\n",
       "      <td>2191.000000</td>\n",
       "    </tr>\n",
       "  </tbody>\n",
       "</table>\n",
       "</div>"
      ],
      "text/plain": [
       "       MonthlyCharges  TotalCharges        Churn     Lifetime\n",
       "count  7043.000000     7043.000000   7043.000000  7043.000000\n",
       "mean   64.761692       2279.798992   0.265370     985.996166 \n",
       "std    30.090047       2266.730170   0.441561     747.587844 \n",
       "min    18.250000       18.800000     0.000000     0.000000   \n",
       "25%    35.500000       398.550000    0.000000     273.000000 \n",
       "50%    70.350000       1394.550000   0.000000     883.000000 \n",
       "75%    89.850000       3786.600000   1.000000     1676.000000\n",
       "max    118.750000      8684.800000   1.000000     2191.000000"
      ]
     },
     "execution_count": 18,
     "metadata": {},
     "output_type": "execute_result"
    }
   ],
   "source": [
    "contract.describe()"
   ]
  },
  {
   "cell_type": "markdown",
   "metadata": {},
   "source": [
    "Численные признаки в порядке, чего-то подозрительного или некорректного не выявлено."
   ]
  },
  {
   "cell_type": "markdown",
   "metadata": {},
   "source": [
    "### Информация о персональных данных клиентов"
   ]
  },
  {
   "cell_type": "markdown",
   "metadata": {},
   "source": [
    "Получаем данные из исходной таблицы:"
   ]
  },
  {
   "cell_type": "code",
   "execution_count": 19,
   "metadata": {},
   "outputs": [],
   "source": [
    "personal = pd.read_csv('/datasets/final_provider/personal.csv')"
   ]
  },
  {
   "cell_type": "markdown",
   "metadata": {},
   "source": [
    "Посмотрим на несколько случайных строк для получения представления о содержимом таблицы:"
   ]
  },
  {
   "cell_type": "code",
   "execution_count": 20,
   "metadata": {},
   "outputs": [
    {
     "data": {
      "text/html": [
       "<div>\n",
       "<style scoped>\n",
       "    .dataframe tbody tr th:only-of-type {\n",
       "        vertical-align: middle;\n",
       "    }\n",
       "\n",
       "    .dataframe tbody tr th {\n",
       "        vertical-align: top;\n",
       "    }\n",
       "\n",
       "    .dataframe thead th {\n",
       "        text-align: right;\n",
       "    }\n",
       "</style>\n",
       "<table border=\"1\" class=\"dataframe\">\n",
       "  <thead>\n",
       "    <tr style=\"text-align: right;\">\n",
       "      <th></th>\n",
       "      <th>customerID</th>\n",
       "      <th>gender</th>\n",
       "      <th>SeniorCitizen</th>\n",
       "      <th>Partner</th>\n",
       "      <th>Dependents</th>\n",
       "    </tr>\n",
       "  </thead>\n",
       "  <tbody>\n",
       "    <tr>\n",
       "      <td>0</td>\n",
       "      <td>7590-VHVEG</td>\n",
       "      <td>Female</td>\n",
       "      <td>0</td>\n",
       "      <td>Yes</td>\n",
       "      <td>No</td>\n",
       "    </tr>\n",
       "    <tr>\n",
       "      <td>1</td>\n",
       "      <td>5575-GNVDE</td>\n",
       "      <td>Male</td>\n",
       "      <td>0</td>\n",
       "      <td>No</td>\n",
       "      <td>No</td>\n",
       "    </tr>\n",
       "    <tr>\n",
       "      <td>2</td>\n",
       "      <td>3668-QPYBK</td>\n",
       "      <td>Male</td>\n",
       "      <td>0</td>\n",
       "      <td>No</td>\n",
       "      <td>No</td>\n",
       "    </tr>\n",
       "    <tr>\n",
       "      <td>3</td>\n",
       "      <td>7795-CFOCW</td>\n",
       "      <td>Male</td>\n",
       "      <td>0</td>\n",
       "      <td>No</td>\n",
       "      <td>No</td>\n",
       "    </tr>\n",
       "    <tr>\n",
       "      <td>4</td>\n",
       "      <td>9237-HQITU</td>\n",
       "      <td>Female</td>\n",
       "      <td>0</td>\n",
       "      <td>No</td>\n",
       "      <td>No</td>\n",
       "    </tr>\n",
       "  </tbody>\n",
       "</table>\n",
       "</div>"
      ],
      "text/plain": [
       "   customerID  gender  SeniorCitizen Partner Dependents\n",
       "0  7590-VHVEG  Female  0              Yes     No       \n",
       "1  5575-GNVDE  Male    0              No      No       \n",
       "2  3668-QPYBK  Male    0              No      No       \n",
       "3  7795-CFOCW  Male    0              No      No       \n",
       "4  9237-HQITU  Female  0              No      No       "
      ]
     },
     "metadata": {},
     "output_type": "display_data"
    }
   ],
   "source": [
    "display(personal.head())"
   ]
  },
  {
   "cell_type": "markdown",
   "metadata": {},
   "source": [
    "Посмотрим общую информацию (перечень столбцов, количество заполненных ячеек и типы данных):"
   ]
  },
  {
   "cell_type": "code",
   "execution_count": 21,
   "metadata": {},
   "outputs": [
    {
     "name": "stdout",
     "output_type": "stream",
     "text": [
      "<class 'pandas.core.frame.DataFrame'>\n",
      "RangeIndex: 7043 entries, 0 to 7042\n",
      "Data columns (total 5 columns):\n",
      "customerID       7043 non-null object\n",
      "gender           7043 non-null object\n",
      "SeniorCitizen    7043 non-null int64\n",
      "Partner          7043 non-null object\n",
      "Dependents       7043 non-null object\n",
      "dtypes: int64(1), object(4)\n",
      "memory usage: 275.2+ KB\n"
     ]
    }
   ],
   "source": [
    "personal.info()"
   ]
  },
  {
   "cell_type": "markdown",
   "metadata": {},
   "source": [
    "Проверим на отсутствие дубликатов:"
   ]
  },
  {
   "cell_type": "code",
   "execution_count": 22,
   "metadata": {},
   "outputs": [
    {
     "data": {
      "text/plain": [
       "0"
      ]
     },
     "execution_count": 22,
     "metadata": {},
     "output_type": "execute_result"
    }
   ],
   "source": [
    "personal.duplicated().sum()"
   ]
  },
  {
   "cell_type": "markdown",
   "metadata": {},
   "source": [
    "Убедимся, что все пользователи уникальны и на каждого из них только одна строка:"
   ]
  },
  {
   "cell_type": "code",
   "execution_count": 23,
   "metadata": {},
   "outputs": [
    {
     "data": {
      "text/plain": [
       "7043"
      ]
     },
     "execution_count": 23,
     "metadata": {},
     "output_type": "execute_result"
    }
   ],
   "source": [
    "personal['customerID'].nunique()"
   ]
  },
  {
   "cell_type": "markdown",
   "metadata": {},
   "source": [
    "Убедимся, что не требуется преобразований в столбцах с информацией о поле клиента, наличии пенсионного статуса по возрасту, наличии партнёра, наличии иждивенцев (детей):"
   ]
  },
  {
   "cell_type": "code",
   "execution_count": 24,
   "metadata": {},
   "outputs": [
    {
     "name": "stdout",
     "output_type": "stream",
     "text": [
      "Male      3555\n",
      "Female    3488\n",
      "Name: gender, dtype: int64\n",
      "\n",
      "0    5901\n",
      "1    1142\n",
      "Name: SeniorCitizen, dtype: int64\n",
      "\n",
      "No     3641\n",
      "Yes    3402\n",
      "Name: Partner, dtype: int64\n",
      "\n",
      "No     4933\n",
      "Yes    2110\n",
      "Name: Dependents, dtype: int64\n",
      "\n"
     ]
    }
   ],
   "source": [
    "for col in ['gender', 'SeniorCitizen', 'Partner', 'Dependents']:\n",
    "    print(personal[col].value_counts())\n",
    "    print(\"\")"
   ]
  },
  {
   "cell_type": "markdown",
   "metadata": {},
   "source": [
    "### Информация об интернет-услугах"
   ]
  },
  {
   "cell_type": "markdown",
   "metadata": {},
   "source": [
    "Получаем данные из исходной таблицы:"
   ]
  },
  {
   "cell_type": "code",
   "execution_count": 25,
   "metadata": {},
   "outputs": [],
   "source": [
    "internet = pd.read_csv('/datasets/final_provider/internet.csv')"
   ]
  },
  {
   "cell_type": "markdown",
   "metadata": {},
   "source": [
    "Посмотрим на несколько случайных строк для получения представления о содержимом таблицы:"
   ]
  },
  {
   "cell_type": "code",
   "execution_count": 26,
   "metadata": {},
   "outputs": [
    {
     "data": {
      "text/html": [
       "<div>\n",
       "<style scoped>\n",
       "    .dataframe tbody tr th:only-of-type {\n",
       "        vertical-align: middle;\n",
       "    }\n",
       "\n",
       "    .dataframe tbody tr th {\n",
       "        vertical-align: top;\n",
       "    }\n",
       "\n",
       "    .dataframe thead th {\n",
       "        text-align: right;\n",
       "    }\n",
       "</style>\n",
       "<table border=\"1\" class=\"dataframe\">\n",
       "  <thead>\n",
       "    <tr style=\"text-align: right;\">\n",
       "      <th></th>\n",
       "      <th>customerID</th>\n",
       "      <th>InternetService</th>\n",
       "      <th>OnlineSecurity</th>\n",
       "      <th>OnlineBackup</th>\n",
       "      <th>DeviceProtection</th>\n",
       "      <th>TechSupport</th>\n",
       "      <th>StreamingTV</th>\n",
       "      <th>StreamingMovies</th>\n",
       "    </tr>\n",
       "  </thead>\n",
       "  <tbody>\n",
       "    <tr>\n",
       "      <td>0</td>\n",
       "      <td>7590-VHVEG</td>\n",
       "      <td>DSL</td>\n",
       "      <td>No</td>\n",
       "      <td>Yes</td>\n",
       "      <td>No</td>\n",
       "      <td>No</td>\n",
       "      <td>No</td>\n",
       "      <td>No</td>\n",
       "    </tr>\n",
       "    <tr>\n",
       "      <td>1</td>\n",
       "      <td>5575-GNVDE</td>\n",
       "      <td>DSL</td>\n",
       "      <td>Yes</td>\n",
       "      <td>No</td>\n",
       "      <td>Yes</td>\n",
       "      <td>No</td>\n",
       "      <td>No</td>\n",
       "      <td>No</td>\n",
       "    </tr>\n",
       "    <tr>\n",
       "      <td>2</td>\n",
       "      <td>3668-QPYBK</td>\n",
       "      <td>DSL</td>\n",
       "      <td>Yes</td>\n",
       "      <td>Yes</td>\n",
       "      <td>No</td>\n",
       "      <td>No</td>\n",
       "      <td>No</td>\n",
       "      <td>No</td>\n",
       "    </tr>\n",
       "    <tr>\n",
       "      <td>3</td>\n",
       "      <td>7795-CFOCW</td>\n",
       "      <td>DSL</td>\n",
       "      <td>Yes</td>\n",
       "      <td>No</td>\n",
       "      <td>Yes</td>\n",
       "      <td>Yes</td>\n",
       "      <td>No</td>\n",
       "      <td>No</td>\n",
       "    </tr>\n",
       "    <tr>\n",
       "      <td>4</td>\n",
       "      <td>9237-HQITU</td>\n",
       "      <td>Fiber optic</td>\n",
       "      <td>No</td>\n",
       "      <td>No</td>\n",
       "      <td>No</td>\n",
       "      <td>No</td>\n",
       "      <td>No</td>\n",
       "      <td>No</td>\n",
       "    </tr>\n",
       "  </tbody>\n",
       "</table>\n",
       "</div>"
      ],
      "text/plain": [
       "   customerID InternetService OnlineSecurity OnlineBackup DeviceProtection  \\\n",
       "0  7590-VHVEG  DSL             No             Yes          No                \n",
       "1  5575-GNVDE  DSL             Yes            No           Yes               \n",
       "2  3668-QPYBK  DSL             Yes            Yes          No                \n",
       "3  7795-CFOCW  DSL             Yes            No           Yes               \n",
       "4  9237-HQITU  Fiber optic     No             No           No                \n",
       "\n",
       "  TechSupport StreamingTV StreamingMovies  \n",
       "0  No          No          No              \n",
       "1  No          No          No              \n",
       "2  No          No          No              \n",
       "3  Yes         No          No              \n",
       "4  No          No          No              "
      ]
     },
     "metadata": {},
     "output_type": "display_data"
    }
   ],
   "source": [
    "display(internet.head())"
   ]
  },
  {
   "cell_type": "markdown",
   "metadata": {},
   "source": [
    "Посмотрим общую информацию (перечень столбцов, количество заполненных ячеек и типы данных):"
   ]
  },
  {
   "cell_type": "code",
   "execution_count": 27,
   "metadata": {},
   "outputs": [
    {
     "name": "stdout",
     "output_type": "stream",
     "text": [
      "<class 'pandas.core.frame.DataFrame'>\n",
      "RangeIndex: 5517 entries, 0 to 5516\n",
      "Data columns (total 8 columns):\n",
      "customerID          5517 non-null object\n",
      "InternetService     5517 non-null object\n",
      "OnlineSecurity      5517 non-null object\n",
      "OnlineBackup        5517 non-null object\n",
      "DeviceProtection    5517 non-null object\n",
      "TechSupport         5517 non-null object\n",
      "StreamingTV         5517 non-null object\n",
      "StreamingMovies     5517 non-null object\n",
      "dtypes: object(8)\n",
      "memory usage: 344.9+ KB\n"
     ]
    }
   ],
   "source": [
    "internet.info()"
   ]
  },
  {
   "cell_type": "markdown",
   "metadata": {},
   "source": [
    "Проверим на отсутствие дубликатов:"
   ]
  },
  {
   "cell_type": "code",
   "execution_count": 28,
   "metadata": {},
   "outputs": [
    {
     "data": {
      "text/plain": [
       "0"
      ]
     },
     "execution_count": 28,
     "metadata": {},
     "output_type": "execute_result"
    }
   ],
   "source": [
    "internet.duplicated().sum()"
   ]
  },
  {
   "cell_type": "markdown",
   "metadata": {},
   "source": [
    "Убедимся, что все пользователи уникальны и на каждого из них только одна строка:"
   ]
  },
  {
   "cell_type": "code",
   "execution_count": 29,
   "metadata": {},
   "outputs": [
    {
     "data": {
      "text/plain": [
       "5517"
      ]
     },
     "execution_count": 29,
     "metadata": {},
     "output_type": "execute_result"
    }
   ],
   "source": [
    "internet['customerID'].nunique()"
   ]
  },
  {
   "cell_type": "markdown",
   "metadata": {},
   "source": [
    "Число клиентов меньше, чем в таблице по договорам, т.к. не все клиенты используют рассматриваемую услугу."
   ]
  },
  {
   "cell_type": "markdown",
   "metadata": {},
   "source": [
    "Убедимся, что не требуется преобразований в других столбцах:"
   ]
  },
  {
   "cell_type": "code",
   "execution_count": 30,
   "metadata": {},
   "outputs": [
    {
     "name": "stdout",
     "output_type": "stream",
     "text": [
      "Fiber optic    3096\n",
      "DSL            2421\n",
      "Name: InternetService, dtype: int64\n",
      "\n",
      "No     3498\n",
      "Yes    2019\n",
      "Name: OnlineSecurity, dtype: int64\n",
      "\n",
      "No     3088\n",
      "Yes    2429\n",
      "Name: OnlineBackup, dtype: int64\n",
      "\n",
      "No     3095\n",
      "Yes    2422\n",
      "Name: DeviceProtection, dtype: int64\n",
      "\n",
      "No     3473\n",
      "Yes    2044\n",
      "Name: TechSupport, dtype: int64\n",
      "\n",
      "No     2810\n",
      "Yes    2707\n",
      "Name: StreamingTV, dtype: int64\n",
      "\n",
      "No     2785\n",
      "Yes    2732\n",
      "Name: StreamingMovies, dtype: int64\n",
      "\n"
     ]
    }
   ],
   "source": [
    "for col in ['InternetService', 'OnlineSecurity', 'OnlineBackup', 'DeviceProtection', \n",
    "            'TechSupport', 'StreamingTV', 'StreamingMovies']:\n",
    "    print(internet[col].value_counts())\n",
    "    print(\"\")"
   ]
  },
  {
   "cell_type": "markdown",
   "metadata": {},
   "source": [
    "### Информация об услугах телефонии"
   ]
  },
  {
   "cell_type": "markdown",
   "metadata": {},
   "source": [
    "Получаем данные из исходной таблицы:"
   ]
  },
  {
   "cell_type": "code",
   "execution_count": 31,
   "metadata": {},
   "outputs": [],
   "source": [
    "phone = pd.read_csv('/datasets/final_provider/phone.csv')"
   ]
  },
  {
   "cell_type": "markdown",
   "metadata": {},
   "source": [
    "Посмотрим на несколько случайных строк для получения представления о содержимом таблицы:"
   ]
  },
  {
   "cell_type": "code",
   "execution_count": 32,
   "metadata": {},
   "outputs": [
    {
     "data": {
      "text/html": [
       "<div>\n",
       "<style scoped>\n",
       "    .dataframe tbody tr th:only-of-type {\n",
       "        vertical-align: middle;\n",
       "    }\n",
       "\n",
       "    .dataframe tbody tr th {\n",
       "        vertical-align: top;\n",
       "    }\n",
       "\n",
       "    .dataframe thead th {\n",
       "        text-align: right;\n",
       "    }\n",
       "</style>\n",
       "<table border=\"1\" class=\"dataframe\">\n",
       "  <thead>\n",
       "    <tr style=\"text-align: right;\">\n",
       "      <th></th>\n",
       "      <th>customerID</th>\n",
       "      <th>MultipleLines</th>\n",
       "    </tr>\n",
       "  </thead>\n",
       "  <tbody>\n",
       "    <tr>\n",
       "      <td>0</td>\n",
       "      <td>5575-GNVDE</td>\n",
       "      <td>No</td>\n",
       "    </tr>\n",
       "    <tr>\n",
       "      <td>1</td>\n",
       "      <td>3668-QPYBK</td>\n",
       "      <td>No</td>\n",
       "    </tr>\n",
       "    <tr>\n",
       "      <td>2</td>\n",
       "      <td>9237-HQITU</td>\n",
       "      <td>No</td>\n",
       "    </tr>\n",
       "    <tr>\n",
       "      <td>3</td>\n",
       "      <td>9305-CDSKC</td>\n",
       "      <td>Yes</td>\n",
       "    </tr>\n",
       "    <tr>\n",
       "      <td>4</td>\n",
       "      <td>1452-KIOVK</td>\n",
       "      <td>Yes</td>\n",
       "    </tr>\n",
       "  </tbody>\n",
       "</table>\n",
       "</div>"
      ],
      "text/plain": [
       "   customerID MultipleLines\n",
       "0  5575-GNVDE  No          \n",
       "1  3668-QPYBK  No          \n",
       "2  9237-HQITU  No          \n",
       "3  9305-CDSKC  Yes         \n",
       "4  1452-KIOVK  Yes         "
      ]
     },
     "metadata": {},
     "output_type": "display_data"
    }
   ],
   "source": [
    "display(phone.head())"
   ]
  },
  {
   "cell_type": "markdown",
   "metadata": {},
   "source": [
    "Посмотрим общую информацию (перечень столбцов, количество заполненных ячеек и типы данных):"
   ]
  },
  {
   "cell_type": "code",
   "execution_count": 33,
   "metadata": {},
   "outputs": [
    {
     "name": "stdout",
     "output_type": "stream",
     "text": [
      "<class 'pandas.core.frame.DataFrame'>\n",
      "RangeIndex: 6361 entries, 0 to 6360\n",
      "Data columns (total 2 columns):\n",
      "customerID       6361 non-null object\n",
      "MultipleLines    6361 non-null object\n",
      "dtypes: object(2)\n",
      "memory usage: 99.5+ KB\n"
     ]
    }
   ],
   "source": [
    "phone.info()"
   ]
  },
  {
   "cell_type": "markdown",
   "metadata": {},
   "source": [
    "Проверим на отсутствие дубликатов:"
   ]
  },
  {
   "cell_type": "code",
   "execution_count": 34,
   "metadata": {},
   "outputs": [
    {
     "data": {
      "text/plain": [
       "0"
      ]
     },
     "execution_count": 34,
     "metadata": {},
     "output_type": "execute_result"
    }
   ],
   "source": [
    "phone.duplicated().sum()"
   ]
  },
  {
   "cell_type": "markdown",
   "metadata": {},
   "source": [
    "Убедимся, что все пользователи уникальны и на каждого из них только одна строка:"
   ]
  },
  {
   "cell_type": "code",
   "execution_count": 35,
   "metadata": {},
   "outputs": [
    {
     "data": {
      "text/plain": [
       "6361"
      ]
     },
     "execution_count": 35,
     "metadata": {},
     "output_type": "execute_result"
    }
   ],
   "source": [
    "phone['customerID'].nunique()"
   ]
  },
  {
   "cell_type": "markdown",
   "metadata": {},
   "source": [
    "Число клиентов меньше, чем в таблице по договорам, т.к. не все клиенты используют рассматриваемую услугу."
   ]
  },
  {
   "cell_type": "markdown",
   "metadata": {},
   "source": [
    "Столбец по наличию возможности ведения параллельных линий во время звонка оставим категориальным, т.к. в объединенной таблице для построения модели нам необходимо будет ещё добавить вариант отсутствия услуги."
   ]
  },
  {
   "cell_type": "code",
   "execution_count": 36,
   "metadata": {},
   "outputs": [
    {
     "data": {
      "text/plain": [
       "No     3390\n",
       "Yes    2971\n",
       "Name: MultipleLines, dtype: int64"
      ]
     },
     "execution_count": 36,
     "metadata": {},
     "output_type": "execute_result"
    }
   ],
   "source": [
    "phone['MultipleLines'].value_counts()"
   ]
  },
  {
   "cell_type": "markdown",
   "metadata": {},
   "source": [
    "## Подготовка к обучению моделей"
   ]
  },
  {
   "cell_type": "markdown",
   "metadata": {},
   "source": [
    "### Формирование итогового набора признаков"
   ]
  },
  {
   "cell_type": "markdown",
   "metadata": {},
   "source": [
    "#### Объединение данных"
   ]
  },
  {
   "cell_type": "markdown",
   "metadata": {},
   "source": [
    "Объеденим данные из всех таблиц:"
   ]
  },
  {
   "cell_type": "code",
   "execution_count": 37,
   "metadata": {},
   "outputs": [
    {
     "data": {
      "text/html": [
       "<div>\n",
       "<style scoped>\n",
       "    .dataframe tbody tr th:only-of-type {\n",
       "        vertical-align: middle;\n",
       "    }\n",
       "\n",
       "    .dataframe tbody tr th {\n",
       "        vertical-align: top;\n",
       "    }\n",
       "\n",
       "    .dataframe thead th {\n",
       "        text-align: right;\n",
       "    }\n",
       "</style>\n",
       "<table border=\"1\" class=\"dataframe\">\n",
       "  <thead>\n",
       "    <tr style=\"text-align: right;\">\n",
       "      <th></th>\n",
       "      <th>customerID</th>\n",
       "      <th>BeginDate</th>\n",
       "      <th>EndDate</th>\n",
       "      <th>Type</th>\n",
       "      <th>PaperlessBilling</th>\n",
       "      <th>PaymentMethod</th>\n",
       "      <th>MonthlyCharges</th>\n",
       "      <th>TotalCharges</th>\n",
       "      <th>Churn</th>\n",
       "      <th>Lifetime</th>\n",
       "      <th>gender</th>\n",
       "      <th>SeniorCitizen</th>\n",
       "      <th>Partner</th>\n",
       "      <th>Dependents</th>\n",
       "      <th>InternetService</th>\n",
       "      <th>OnlineSecurity</th>\n",
       "      <th>OnlineBackup</th>\n",
       "      <th>DeviceProtection</th>\n",
       "      <th>TechSupport</th>\n",
       "      <th>StreamingTV</th>\n",
       "      <th>StreamingMovies</th>\n",
       "      <th>MultipleLines</th>\n",
       "    </tr>\n",
       "  </thead>\n",
       "  <tbody>\n",
       "    <tr>\n",
       "      <td>0</td>\n",
       "      <td>7590-VHVEG</td>\n",
       "      <td>2020-01-01</td>\n",
       "      <td>2020-02-01</td>\n",
       "      <td>Month-to-month</td>\n",
       "      <td>Yes</td>\n",
       "      <td>Electronic check</td>\n",
       "      <td>29.85</td>\n",
       "      <td>29.85</td>\n",
       "      <td>0</td>\n",
       "      <td>31</td>\n",
       "      <td>Female</td>\n",
       "      <td>0</td>\n",
       "      <td>Yes</td>\n",
       "      <td>No</td>\n",
       "      <td>DSL</td>\n",
       "      <td>No</td>\n",
       "      <td>Yes</td>\n",
       "      <td>No</td>\n",
       "      <td>No</td>\n",
       "      <td>No</td>\n",
       "      <td>No</td>\n",
       "      <td>NaN</td>\n",
       "    </tr>\n",
       "    <tr>\n",
       "      <td>1</td>\n",
       "      <td>5575-GNVDE</td>\n",
       "      <td>2017-04-01</td>\n",
       "      <td>2020-02-01</td>\n",
       "      <td>One year</td>\n",
       "      <td>No</td>\n",
       "      <td>Mailed check</td>\n",
       "      <td>56.95</td>\n",
       "      <td>1889.50</td>\n",
       "      <td>0</td>\n",
       "      <td>1036</td>\n",
       "      <td>Male</td>\n",
       "      <td>0</td>\n",
       "      <td>No</td>\n",
       "      <td>No</td>\n",
       "      <td>DSL</td>\n",
       "      <td>Yes</td>\n",
       "      <td>No</td>\n",
       "      <td>Yes</td>\n",
       "      <td>No</td>\n",
       "      <td>No</td>\n",
       "      <td>No</td>\n",
       "      <td>No</td>\n",
       "    </tr>\n",
       "    <tr>\n",
       "      <td>2</td>\n",
       "      <td>3668-QPYBK</td>\n",
       "      <td>2019-10-01</td>\n",
       "      <td>2019-12-01</td>\n",
       "      <td>Month-to-month</td>\n",
       "      <td>Yes</td>\n",
       "      <td>Mailed check</td>\n",
       "      <td>53.85</td>\n",
       "      <td>108.15</td>\n",
       "      <td>1</td>\n",
       "      <td>61</td>\n",
       "      <td>Male</td>\n",
       "      <td>0</td>\n",
       "      <td>No</td>\n",
       "      <td>No</td>\n",
       "      <td>DSL</td>\n",
       "      <td>Yes</td>\n",
       "      <td>Yes</td>\n",
       "      <td>No</td>\n",
       "      <td>No</td>\n",
       "      <td>No</td>\n",
       "      <td>No</td>\n",
       "      <td>No</td>\n",
       "    </tr>\n",
       "    <tr>\n",
       "      <td>3</td>\n",
       "      <td>7795-CFOCW</td>\n",
       "      <td>2016-05-01</td>\n",
       "      <td>2020-02-01</td>\n",
       "      <td>One year</td>\n",
       "      <td>No</td>\n",
       "      <td>Bank transfer</td>\n",
       "      <td>42.30</td>\n",
       "      <td>1840.75</td>\n",
       "      <td>0</td>\n",
       "      <td>1371</td>\n",
       "      <td>Male</td>\n",
       "      <td>0</td>\n",
       "      <td>No</td>\n",
       "      <td>No</td>\n",
       "      <td>DSL</td>\n",
       "      <td>Yes</td>\n",
       "      <td>No</td>\n",
       "      <td>Yes</td>\n",
       "      <td>Yes</td>\n",
       "      <td>No</td>\n",
       "      <td>No</td>\n",
       "      <td>NaN</td>\n",
       "    </tr>\n",
       "    <tr>\n",
       "      <td>4</td>\n",
       "      <td>9237-HQITU</td>\n",
       "      <td>2019-09-01</td>\n",
       "      <td>2019-11-01</td>\n",
       "      <td>Month-to-month</td>\n",
       "      <td>Yes</td>\n",
       "      <td>Electronic check</td>\n",
       "      <td>70.70</td>\n",
       "      <td>151.65</td>\n",
       "      <td>1</td>\n",
       "      <td>61</td>\n",
       "      <td>Female</td>\n",
       "      <td>0</td>\n",
       "      <td>No</td>\n",
       "      <td>No</td>\n",
       "      <td>Fiber optic</td>\n",
       "      <td>No</td>\n",
       "      <td>No</td>\n",
       "      <td>No</td>\n",
       "      <td>No</td>\n",
       "      <td>No</td>\n",
       "      <td>No</td>\n",
       "      <td>No</td>\n",
       "    </tr>\n",
       "  </tbody>\n",
       "</table>\n",
       "</div>"
      ],
      "text/plain": [
       "   customerID  BeginDate    EndDate            Type PaperlessBilling  \\\n",
       "0  7590-VHVEG 2020-01-01 2020-02-01  Month-to-month  Yes               \n",
       "1  5575-GNVDE 2017-04-01 2020-02-01  One year        No                \n",
       "2  3668-QPYBK 2019-10-01 2019-12-01  Month-to-month  Yes               \n",
       "3  7795-CFOCW 2016-05-01 2020-02-01  One year        No                \n",
       "4  9237-HQITU 2019-09-01 2019-11-01  Month-to-month  Yes               \n",
       "\n",
       "      PaymentMethod  MonthlyCharges  TotalCharges  Churn  Lifetime  gender  \\\n",
       "0  Electronic check  29.85           29.85         0      31        Female   \n",
       "1  Mailed check      56.95           1889.50       0      1036      Male     \n",
       "2  Mailed check      53.85           108.15        1      61        Male     \n",
       "3  Bank transfer     42.30           1840.75       0      1371      Male     \n",
       "4  Electronic check  70.70           151.65        1      61        Female   \n",
       "\n",
       "   SeniorCitizen Partner Dependents InternetService OnlineSecurity  \\\n",
       "0  0              Yes     No         DSL             No              \n",
       "1  0              No      No         DSL             Yes             \n",
       "2  0              No      No         DSL             Yes             \n",
       "3  0              No      No         DSL             Yes             \n",
       "4  0              No      No         Fiber optic     No              \n",
       "\n",
       "  OnlineBackup DeviceProtection TechSupport StreamingTV StreamingMovies  \\\n",
       "0  Yes          No               No          No          No               \n",
       "1  No           Yes              No          No          No               \n",
       "2  Yes          No               No          No          No               \n",
       "3  No           Yes              Yes         No          No               \n",
       "4  No           No               No          No          No               \n",
       "\n",
       "  MultipleLines  \n",
       "0  NaN           \n",
       "1  No            \n",
       "2  No            \n",
       "3  NaN           \n",
       "4  No            "
      ]
     },
     "execution_count": 37,
     "metadata": {},
     "output_type": "execute_result"
    }
   ],
   "source": [
    "df = contract.merge(personal, on='customerID', how='outer') \\\n",
    "             .merge(internet, on='customerID', how='outer') \\\n",
    "             .merge(phone, on='customerID', how='outer')\n",
    "\n",
    "df.head()"
   ]
  },
  {
   "cell_type": "markdown",
   "metadata": {},
   "source": [
    "Посмотрим, в каких полях при объединении появлись пропуски:"
   ]
  },
  {
   "cell_type": "code",
   "execution_count": 38,
   "metadata": {},
   "outputs": [
    {
     "name": "stdout",
     "output_type": "stream",
     "text": [
      "<class 'pandas.core.frame.DataFrame'>\n",
      "Int64Index: 7043 entries, 0 to 7042\n",
      "Data columns (total 22 columns):\n",
      "customerID          7043 non-null object\n",
      "BeginDate           7043 non-null datetime64[ns]\n",
      "EndDate             7043 non-null datetime64[ns]\n",
      "Type                7043 non-null object\n",
      "PaperlessBilling    7043 non-null object\n",
      "PaymentMethod       7043 non-null object\n",
      "MonthlyCharges      7043 non-null float64\n",
      "TotalCharges        7043 non-null float64\n",
      "Churn               7043 non-null int64\n",
      "Lifetime            7043 non-null int64\n",
      "gender              7043 non-null object\n",
      "SeniorCitizen       7043 non-null int64\n",
      "Partner             7043 non-null object\n",
      "Dependents          7043 non-null object\n",
      "InternetService     5517 non-null object\n",
      "OnlineSecurity      5517 non-null object\n",
      "OnlineBackup        5517 non-null object\n",
      "DeviceProtection    5517 non-null object\n",
      "TechSupport         5517 non-null object\n",
      "StreamingTV         5517 non-null object\n",
      "StreamingMovies     5517 non-null object\n",
      "MultipleLines       6361 non-null object\n",
      "dtypes: datetime64[ns](2), float64(2), int64(3), object(15)\n",
      "memory usage: 1.2+ MB\n"
     ]
    }
   ],
   "source": [
    "df.info()"
   ]
  },
  {
   "cell_type": "markdown",
   "metadata": {},
   "source": [
    "Все пропуски обнаружены в категориальных признаках - будем рассматривать их как отдельное значение `'None'`:"
   ]
  },
  {
   "cell_type": "code",
   "execution_count": 39,
   "metadata": {},
   "outputs": [],
   "source": [
    "for col in ['InternetService', 'OnlineSecurity', 'OnlineBackup', 'DeviceProtection', \n",
    "            'TechSupport', 'StreamingTV', 'StreamingMovies', 'MultipleLines']:\n",
    "    df[col] = df[col].fillna('None')"
   ]
  },
  {
   "cell_type": "markdown",
   "metadata": {},
   "source": [
    "#### Исследовательский анализ данных"
   ]
  },
  {
   "cell_type": "markdown",
   "metadata": {},
   "source": [
    "Оценим на графиках влияние численных признаков на целевой признак:"
   ]
  },
  {
   "cell_type": "code",
   "execution_count": 40,
   "metadata": {},
   "outputs": [
    {
     "data": {
      "text/plain": [
       "<matplotlib.axes._subplots.AxesSubplot at 0x7f24bb25cb90>"
      ]
     },
     "execution_count": 40,
     "metadata": {},
     "output_type": "execute_result"
    },
    {
     "data": {
      "image/png": "[encoded data removed]",
      "text/plain": [
       "<Figure size 432x288 with 1 Axes>"
      ]
     },
     "metadata": {},
     "output_type": "display_data"
    }
   ],
   "source": [
    "sns.violinplot(x='Churn', y='MonthlyCharges', data=df, palette=['seagreen', 'crimson'])"
   ]
  },
  {
   "cell_type": "code",
   "execution_count": 41,
   "metadata": {},
   "outputs": [
    {
     "data": {
      "text/plain": [
       "<matplotlib.axes._subplots.AxesSubplot at 0x7f24b0fe76d0>"
      ]
     },
     "execution_count": 41,
     "metadata": {},
     "output_type": "execute_result"
    },
    {
     "data": {
      "image/png": "[encoded data removed]",
      "text/plain": [
       "<Figure size 432x288 with 1 Axes>"
      ]
     },
     "metadata": {},
     "output_type": "display_data"
    }
   ],
   "source": [
    "sns.violinplot(x='Churn', y='TotalCharges', data=df, palette=['seagreen', 'crimson'])"
   ]
  },
  {
   "cell_type": "code",
   "execution_count": 42,
   "metadata": {},
   "outputs": [
    {
     "data": {
      "text/plain": [
       "<matplotlib.axes._subplots.AxesSubplot at 0x7f24b0fd2510>"
      ]
     },
     "execution_count": 42,
     "metadata": {},
     "output_type": "execute_result"
    },
    {
     "data": {
      "image/png": "[encoded data removed]",
      "text/plain": [
       "<Figure size 432x288 with 1 Axes>"
      ]
     },
     "metadata": {},
     "output_type": "display_data"
    }
   ],
   "source": [
    "sns.violinplot(x='Churn', y='Lifetime', data=df, palette=['seagreen', 'crimson'])"
   ]
  },
  {
   "cell_type": "markdown",
   "metadata": {},
   "source": [
    "По результатам анализа получается, что компанию в основном покидают новые пользователи с высокими ежемесячными платежами. Из-за того что с момента их подключения ещё не проходит достаточного времени (меньше 1 года), их общая потраченная сумма не выделяется."
   ]
  },
  {
   "cell_type": "markdown",
   "metadata": {},
   "source": [
    "Проверим корреляцию между численными признаками:"
   ]
  },
  {
   "cell_type": "code",
   "execution_count": 43,
   "metadata": {},
   "outputs": [
    {
     "data": {
      "text/plain": [
       "<matplotlib.axes._subplots.AxesSubplot at 0x7f24b0f46690>"
      ]
     },
     "execution_count": 43,
     "metadata": {},
     "output_type": "execute_result"
    },
    {
     "data": {
      "image/png": "[encoded data removed]",
      "text/plain": [
       "<Figure size 576x576 with 2 Axes>"
      ]
     },
     "metadata": {},
     "output_type": "display_data"
    }
   ],
   "source": [
    "numeric_cols = ['MonthlyCharges', 'TotalCharges', 'Lifetime', 'Churn']\n",
    "\n",
    "plt.figure(figsize = (8,8))\n",
    "plt.title('Корреляция между признаками\\n', size=12)\n",
    "sns.heatmap(df[numeric_cols].corr(), annot=True, square=True, cmap='coolwarm')"
   ]
  },
  {
   "cell_type": "markdown",
   "metadata": {},
   "source": [
    "Общая потраченная сумма `'TotalCharges'` имеет корреляюцию с `'MonthCharges'` и `'Lifetime'` и вероятно может быть выражена через них."
   ]
  },
  {
   "cell_type": "markdown",
   "metadata": {},
   "source": [
    "Оценим на графиках влияние категориальных признаков на целевой признак:"
   ]
  },
  {
   "cell_type": "code",
   "execution_count": 44,
   "metadata": {
    "scrolled": false
   },
   "outputs": [
    {
     "data": {
      "image/png": "[encoded data removed]",
      "text/plain": [
       "<Figure size 1440x2160 with 15 Axes>"
      ]
     },
     "metadata": {},
     "output_type": "display_data"
    }
   ],
   "source": [
    "cat_cols =  ['Type', 'PaperlessBilling', 'PaymentMethod', 'gender', 'SeniorCitizen', 'Partner', \n",
    "             'Dependents', 'InternetService', 'OnlineSecurity', 'OnlineBackup', 'DeviceProtection', \n",
    "             'TechSupport', 'StreamingTV', 'StreamingMovies', 'MultipleLines']\n",
    "\n",
    "fig, ax = plt.subplots(round(len(cat_cols) / 3), 3, figsize = (20, 30))\n",
    "\n",
    "for col, subplot in zip(cat_cols, ax.flatten()):\n",
    "    sns.countplot(x=col, hue='Churn', data=df, palette=['seagreen', 'crimson'], ax=subplot)"
   ]
  },
  {
   "cell_type": "markdown",
   "metadata": {},
   "source": [
    "Можно предположить, что к уходу более склонны пользователи следующих категорий:\n",
    "* оплачивающие услуги помесячно, безналичным расчётом, по электронному чеку; \n",
    "* пенсионеры, без партнёра и без иждивенцев;\n",
    "* пользующиеся Интернетом по технологии Fiber optic, без дополнительных услуг."
   ]
  },
  {
   "cell_type": "markdown",
   "metadata": {},
   "source": [
    "Посмотрим, насколько оправдаются наши предположения в рамках обучения моделей."
   ]
  },
  {
   "cell_type": "markdown",
   "metadata": {},
   "source": [
    "Убедимся, что нет однозначной связи между способом оплаты и безналичным расчётом:"
   ]
  },
  {
   "cell_type": "code",
   "execution_count": 45,
   "metadata": {},
   "outputs": [
    {
     "data": {
      "text/html": [
       "<div>\n",
       "<style scoped>\n",
       "    .dataframe tbody tr th:only-of-type {\n",
       "        vertical-align: middle;\n",
       "    }\n",
       "\n",
       "    .dataframe tbody tr th {\n",
       "        vertical-align: top;\n",
       "    }\n",
       "\n",
       "    .dataframe thead th {\n",
       "        text-align: right;\n",
       "    }\n",
       "</style>\n",
       "<table border=\"1\" class=\"dataframe\">\n",
       "  <thead>\n",
       "    <tr style=\"text-align: right;\">\n",
       "      <th>PaymentMethod</th>\n",
       "      <th>Bank transfer</th>\n",
       "      <th>Credit card</th>\n",
       "      <th>Electronic check</th>\n",
       "      <th>Mailed check</th>\n",
       "    </tr>\n",
       "    <tr>\n",
       "      <th>PaperlessBilling</th>\n",
       "      <th></th>\n",
       "      <th></th>\n",
       "      <th></th>\n",
       "      <th></th>\n",
       "    </tr>\n",
       "  </thead>\n",
       "  <tbody>\n",
       "    <tr>\n",
       "      <td>No</td>\n",
       "      <td>653</td>\n",
       "      <td>640</td>\n",
       "      <td>623</td>\n",
       "      <td>956</td>\n",
       "    </tr>\n",
       "    <tr>\n",
       "      <td>Yes</td>\n",
       "      <td>891</td>\n",
       "      <td>882</td>\n",
       "      <td>1742</td>\n",
       "      <td>656</td>\n",
       "    </tr>\n",
       "  </tbody>\n",
       "</table>\n",
       "</div>"
      ],
      "text/plain": [
       "PaymentMethod     Bank transfer  Credit card  Electronic check  Mailed check\n",
       "PaperlessBilling                                                            \n",
       "No                653            640          623               956         \n",
       "Yes               891            882          1742              656         "
      ]
     },
     "execution_count": 45,
     "metadata": {},
     "output_type": "execute_result"
    }
   ],
   "source": [
    "df.groupby(['PaperlessBilling', 'PaymentMethod'])['PaymentMethod'].aggregate('count').unstack()"
   ]
  },
  {
   "cell_type": "markdown",
   "metadata": {},
   "source": [
    "#### Окончательное добавление и удаление признаков"
   ]
  },
  {
   "cell_type": "markdown",
   "metadata": {},
   "source": [
    "Исключим столбцы, не представляющие ценности:\n",
    "* ID и даты нам не интересны (строим универсальную модель)\n",
    "* общая потраченная сумма `'TotalCharges'` может быть выражена через `MonthCharges` и `Lifetime` (подтверждено проверкой на корреляцию)"
   ]
  },
  {
   "cell_type": "code",
   "execution_count": 46,
   "metadata": {},
   "outputs": [],
   "source": [
    "df = df.drop(['customerID', 'BeginDate', 'EndDate', 'TotalCharges'], axis=1)"
   ]
  },
  {
   "cell_type": "markdown",
   "metadata": {},
   "source": [
    "Помимо созданного выше признака `'Lifetime'` попробуем обойтись без добавления других признаков."
   ]
  },
  {
   "cell_type": "markdown",
   "metadata": {},
   "source": [
    "### Обработка категориальных признаков"
   ]
  },
  {
   "cell_type": "markdown",
   "metadata": {},
   "source": [
    "Техникой прямого кодирования (One-Hot Encoding, OHE) преобразуем категориальные признаки в численные. При этом для каждого значения категориального признака будет создан столбец со значениями 0 и 1 (за исключением одного, т.к. он может быть определен по совокупности значений в других новых признаках)."
   ]
  },
  {
   "cell_type": "code",
   "execution_count": 47,
   "metadata": {},
   "outputs": [
    {
     "data": {
      "text/html": [
       "<div>\n",
       "<style scoped>\n",
       "    .dataframe tbody tr th:only-of-type {\n",
       "        vertical-align: middle;\n",
       "    }\n",
       "\n",
       "    .dataframe tbody tr th {\n",
       "        vertical-align: top;\n",
       "    }\n",
       "\n",
       "    .dataframe thead th {\n",
       "        text-align: right;\n",
       "    }\n",
       "</style>\n",
       "<table border=\"1\" class=\"dataframe\">\n",
       "  <thead>\n",
       "    <tr style=\"text-align: right;\">\n",
       "      <th></th>\n",
       "      <th>MonthlyCharges</th>\n",
       "      <th>Churn</th>\n",
       "      <th>Lifetime</th>\n",
       "      <th>SeniorCitizen</th>\n",
       "      <th>Type_One year</th>\n",
       "      <th>Type_Two year</th>\n",
       "      <th>PaperlessBilling_Yes</th>\n",
       "      <th>PaymentMethod_Credit card</th>\n",
       "      <th>PaymentMethod_Electronic check</th>\n",
       "      <th>PaymentMethod_Mailed check</th>\n",
       "      <th>gender_Male</th>\n",
       "      <th>Partner_Yes</th>\n",
       "      <th>Dependents_Yes</th>\n",
       "      <th>InternetService_Fiber optic</th>\n",
       "      <th>InternetService_None</th>\n",
       "      <th>OnlineSecurity_None</th>\n",
       "      <th>OnlineSecurity_Yes</th>\n",
       "      <th>OnlineBackup_None</th>\n",
       "      <th>OnlineBackup_Yes</th>\n",
       "      <th>DeviceProtection_None</th>\n",
       "      <th>DeviceProtection_Yes</th>\n",
       "      <th>TechSupport_None</th>\n",
       "      <th>TechSupport_Yes</th>\n",
       "      <th>StreamingTV_None</th>\n",
       "      <th>StreamingTV_Yes</th>\n",
       "      <th>StreamingMovies_None</th>\n",
       "      <th>StreamingMovies_Yes</th>\n",
       "      <th>MultipleLines_None</th>\n",
       "      <th>MultipleLines_Yes</th>\n",
       "    </tr>\n",
       "  </thead>\n",
       "  <tbody>\n",
       "    <tr>\n",
       "      <td>0</td>\n",
       "      <td>29.85</td>\n",
       "      <td>0</td>\n",
       "      <td>31</td>\n",
       "      <td>0</td>\n",
       "      <td>0</td>\n",
       "      <td>0</td>\n",
       "      <td>1</td>\n",
       "      <td>0</td>\n",
       "      <td>1</td>\n",
       "      <td>0</td>\n",
       "      <td>0</td>\n",
       "      <td>1</td>\n",
       "      <td>0</td>\n",
       "      <td>0</td>\n",
       "      <td>0</td>\n",
       "      <td>0</td>\n",
       "      <td>0</td>\n",
       "      <td>0</td>\n",
       "      <td>1</td>\n",
       "      <td>0</td>\n",
       "      <td>0</td>\n",
       "      <td>0</td>\n",
       "      <td>0</td>\n",
       "      <td>0</td>\n",
       "      <td>0</td>\n",
       "      <td>0</td>\n",
       "      <td>0</td>\n",
       "      <td>1</td>\n",
       "      <td>0</td>\n",
       "    </tr>\n",
       "    <tr>\n",
       "      <td>1</td>\n",
       "      <td>56.95</td>\n",
       "      <td>0</td>\n",
       "      <td>1036</td>\n",
       "      <td>0</td>\n",
       "      <td>1</td>\n",
       "      <td>0</td>\n",
       "      <td>0</td>\n",
       "      <td>0</td>\n",
       "      <td>0</td>\n",
       "      <td>1</td>\n",
       "      <td>1</td>\n",
       "      <td>0</td>\n",
       "      <td>0</td>\n",
       "      <td>0</td>\n",
       "      <td>0</td>\n",
       "      <td>0</td>\n",
       "      <td>1</td>\n",
       "      <td>0</td>\n",
       "      <td>0</td>\n",
       "      <td>0</td>\n",
       "      <td>1</td>\n",
       "      <td>0</td>\n",
       "      <td>0</td>\n",
       "      <td>0</td>\n",
       "      <td>0</td>\n",
       "      <td>0</td>\n",
       "      <td>0</td>\n",
       "      <td>0</td>\n",
       "      <td>0</td>\n",
       "    </tr>\n",
       "    <tr>\n",
       "      <td>2</td>\n",
       "      <td>53.85</td>\n",
       "      <td>1</td>\n",
       "      <td>61</td>\n",
       "      <td>0</td>\n",
       "      <td>0</td>\n",
       "      <td>0</td>\n",
       "      <td>1</td>\n",
       "      <td>0</td>\n",
       "      <td>0</td>\n",
       "      <td>1</td>\n",
       "      <td>1</td>\n",
       "      <td>0</td>\n",
       "      <td>0</td>\n",
       "      <td>0</td>\n",
       "      <td>0</td>\n",
       "      <td>0</td>\n",
       "      <td>1</td>\n",
       "      <td>0</td>\n",
       "      <td>1</td>\n",
       "      <td>0</td>\n",
       "      <td>0</td>\n",
       "      <td>0</td>\n",
       "      <td>0</td>\n",
       "      <td>0</td>\n",
       "      <td>0</td>\n",
       "      <td>0</td>\n",
       "      <td>0</td>\n",
       "      <td>0</td>\n",
       "      <td>0</td>\n",
       "    </tr>\n",
       "    <tr>\n",
       "      <td>3</td>\n",
       "      <td>42.30</td>\n",
       "      <td>0</td>\n",
       "      <td>1371</td>\n",
       "      <td>0</td>\n",
       "      <td>1</td>\n",
       "      <td>0</td>\n",
       "      <td>0</td>\n",
       "      <td>0</td>\n",
       "      <td>0</td>\n",
       "      <td>0</td>\n",
       "      <td>1</td>\n",
       "      <td>0</td>\n",
       "      <td>0</td>\n",
       "      <td>0</td>\n",
       "      <td>0</td>\n",
       "      <td>0</td>\n",
       "      <td>1</td>\n",
       "      <td>0</td>\n",
       "      <td>0</td>\n",
       "      <td>0</td>\n",
       "      <td>1</td>\n",
       "      <td>0</td>\n",
       "      <td>1</td>\n",
       "      <td>0</td>\n",
       "      <td>0</td>\n",
       "      <td>0</td>\n",
       "      <td>0</td>\n",
       "      <td>1</td>\n",
       "      <td>0</td>\n",
       "    </tr>\n",
       "    <tr>\n",
       "      <td>4</td>\n",
       "      <td>70.70</td>\n",
       "      <td>1</td>\n",
       "      <td>61</td>\n",
       "      <td>0</td>\n",
       "      <td>0</td>\n",
       "      <td>0</td>\n",
       "      <td>1</td>\n",
       "      <td>0</td>\n",
       "      <td>1</td>\n",
       "      <td>0</td>\n",
       "      <td>0</td>\n",
       "      <td>0</td>\n",
       "      <td>0</td>\n",
       "      <td>1</td>\n",
       "      <td>0</td>\n",
       "      <td>0</td>\n",
       "      <td>0</td>\n",
       "      <td>0</td>\n",
       "      <td>0</td>\n",
       "      <td>0</td>\n",
       "      <td>0</td>\n",
       "      <td>0</td>\n",
       "      <td>0</td>\n",
       "      <td>0</td>\n",
       "      <td>0</td>\n",
       "      <td>0</td>\n",
       "      <td>0</td>\n",
       "      <td>0</td>\n",
       "      <td>0</td>\n",
       "    </tr>\n",
       "  </tbody>\n",
       "</table>\n",
       "</div>"
      ],
      "text/plain": [
       "   MonthlyCharges  Churn  Lifetime  SeniorCitizen  Type_One year  \\\n",
       "0  29.85           0      31        0              0               \n",
       "1  56.95           0      1036      0              1               \n",
       "2  53.85           1      61        0              0               \n",
       "3  42.30           0      1371      0              1               \n",
       "4  70.70           1      61        0              0               \n",
       "\n",
       "   Type_Two year  PaperlessBilling_Yes  PaymentMethod_Credit card  \\\n",
       "0  0              1                     0                           \n",
       "1  0              0                     0                           \n",
       "2  0              1                     0                           \n",
       "3  0              0                     0                           \n",
       "4  0              1                     0                           \n",
       "\n",
       "   PaymentMethod_Electronic check  PaymentMethod_Mailed check  gender_Male  \\\n",
       "0  1                               0                           0             \n",
       "1  0                               1                           1             \n",
       "2  0                               1                           1             \n",
       "3  0                               0                           1             \n",
       "4  1                               0                           0             \n",
       "\n",
       "   Partner_Yes  Dependents_Yes  InternetService_Fiber optic  \\\n",
       "0  1            0               0                             \n",
       "1  0            0               0                             \n",
       "2  0            0               0                             \n",
       "3  0            0               0                             \n",
       "4  0            0               1                             \n",
       "\n",
       "   InternetService_None  OnlineSecurity_None  OnlineSecurity_Yes  \\\n",
       "0  0                     0                    0                    \n",
       "1  0                     0                    1                    \n",
       "2  0                     0                    1                    \n",
       "3  0                     0                    1                    \n",
       "4  0                     0                    0                    \n",
       "\n",
       "   OnlineBackup_None  OnlineBackup_Yes  DeviceProtection_None  \\\n",
       "0  0                  1                 0                       \n",
       "1  0                  0                 0                       \n",
       "2  0                  1                 0                       \n",
       "3  0                  0                 0                       \n",
       "4  0                  0                 0                       \n",
       "\n",
       "   DeviceProtection_Yes  TechSupport_None  TechSupport_Yes  StreamingTV_None  \\\n",
       "0  0                     0                 0                0                  \n",
       "1  1                     0                 0                0                  \n",
       "2  0                     0                 0                0                  \n",
       "3  1                     0                 1                0                  \n",
       "4  0                     0                 0                0                  \n",
       "\n",
       "   StreamingTV_Yes  StreamingMovies_None  StreamingMovies_Yes  \\\n",
       "0  0                0                     0                     \n",
       "1  0                0                     0                     \n",
       "2  0                0                     0                     \n",
       "3  0                0                     0                     \n",
       "4  0                0                     0                     \n",
       "\n",
       "   MultipleLines_None  MultipleLines_Yes  \n",
       "0  1                   0                  \n",
       "1  0                   0                  \n",
       "2  0                   0                  \n",
       "3  1                   0                  \n",
       "4  0                   0                  "
      ]
     },
     "execution_count": 47,
     "metadata": {},
     "output_type": "execute_result"
    }
   ],
   "source": [
    "df = pd.get_dummies(df, drop_first=True)\n",
    "\n",
    "df.head()"
   ]
  },
  {
   "cell_type": "markdown",
   "metadata": {},
   "source": [
    "### Разбивка данных на выборки"
   ]
  },
  {
   "cell_type": "markdown",
   "metadata": {},
   "source": [
    "Разделим данные на обучающую и тестовую выбороки. \n",
    "\n",
    "Валидационная выборка нам не потребуется, т.к. в рамках обучения моделей на обучающей выборке будет проводиться кросс-валидация."
   ]
  },
  {
   "cell_type": "code",
   "execution_count": 48,
   "metadata": {},
   "outputs": [
    {
     "name": "stdout",
     "output_type": "stream",
     "text": [
      "Размер обучающей выборки:  (5634, 28) (5634,)\n",
      "Размер тестовой выборки:  (1409, 28) (1409,)\n"
     ]
    }
   ],
   "source": [
    "# разделяем признаки и целевой признак\n",
    "X = df.drop(columns=['Churn'])\n",
    "y = df['Churn']\n",
    "\n",
    "# разделяем признаки и целевой признак на обучающую и тестовую выборки, учитывая баланс классов\n",
    "X_train, X_test, y_train, y_test = train_test_split(\n",
    "    X, y, train_size=0.8, test_size=0.2, random_state=GLOBAL_RANDOM_STATE, stratify=y\n",
    ")\n",
    "\n",
    "print('Размер обучающей выборки: ', X_train.shape, y_train.shape)\n",
    "print('Размер тестовой выборки: ', X_test.shape, y_test.shape)"
   ]
  },
  {
   "cell_type": "markdown",
   "metadata": {},
   "source": [
    "### Масштабирование признаков"
   ]
  },
  {
   "cell_type": "markdown",
   "metadata": {},
   "source": [
    "Для численных признаков проведём масштабирование, чтобы исключить влияние шкалы на работу алгоритмов, которые основаны на учёте расстояния между измерениями."
   ]
  },
  {
   "cell_type": "code",
   "execution_count": 49,
   "metadata": {},
   "outputs": [],
   "source": [
    "# настройка scaler\n",
    "numeric_cols = ['MonthlyCharges', 'Lifetime']\n",
    "scaler = StandardScaler()\n",
    "scaler.fit(X_train[numeric_cols])\n",
    "\n",
    "# масштабирование обучающей выборки настроенным scaler\n",
    "X_train[numeric_cols] = scaler.transform(X_train[numeric_cols])\n",
    "\n",
    "# масштабирование тестовой выборки настроенным scaler\n",
    "X_test[numeric_cols] = scaler.transform(X_test[numeric_cols])"
   ]
  },
  {
   "cell_type": "markdown",
   "metadata": {},
   "source": [
    "Проверим, что значения в столбцах изменились:"
   ]
  },
  {
   "cell_type": "code",
   "execution_count": 50,
   "metadata": {},
   "outputs": [
    {
     "data": {
      "text/html": [
       "<div>\n",
       "<style scoped>\n",
       "    .dataframe tbody tr th:only-of-type {\n",
       "        vertical-align: middle;\n",
       "    }\n",
       "\n",
       "    .dataframe tbody tr th {\n",
       "        vertical-align: top;\n",
       "    }\n",
       "\n",
       "    .dataframe thead th {\n",
       "        text-align: right;\n",
       "    }\n",
       "</style>\n",
       "<table border=\"1\" class=\"dataframe\">\n",
       "  <thead>\n",
       "    <tr style=\"text-align: right;\">\n",
       "      <th></th>\n",
       "      <th>MonthlyCharges</th>\n",
       "      <th>Lifetime</th>\n",
       "      <th>SeniorCitizen</th>\n",
       "      <th>Type_One year</th>\n",
       "      <th>Type_Two year</th>\n",
       "      <th>PaperlessBilling_Yes</th>\n",
       "      <th>PaymentMethod_Credit card</th>\n",
       "      <th>PaymentMethod_Electronic check</th>\n",
       "      <th>PaymentMethod_Mailed check</th>\n",
       "      <th>gender_Male</th>\n",
       "      <th>Partner_Yes</th>\n",
       "      <th>Dependents_Yes</th>\n",
       "      <th>InternetService_Fiber optic</th>\n",
       "      <th>InternetService_None</th>\n",
       "      <th>OnlineSecurity_None</th>\n",
       "      <th>OnlineSecurity_Yes</th>\n",
       "      <th>OnlineBackup_None</th>\n",
       "      <th>OnlineBackup_Yes</th>\n",
       "      <th>DeviceProtection_None</th>\n",
       "      <th>DeviceProtection_Yes</th>\n",
       "      <th>TechSupport_None</th>\n",
       "      <th>TechSupport_Yes</th>\n",
       "      <th>StreamingTV_None</th>\n",
       "      <th>StreamingTV_Yes</th>\n",
       "      <th>StreamingMovies_None</th>\n",
       "      <th>StreamingMovies_Yes</th>\n",
       "      <th>MultipleLines_None</th>\n",
       "      <th>MultipleLines_Yes</th>\n",
       "    </tr>\n",
       "  </thead>\n",
       "  <tbody>\n",
       "    <tr>\n",
       "      <td>1212</td>\n",
       "      <td>0.165477</td>\n",
       "      <td>-1.033811</td>\n",
       "      <td>0</td>\n",
       "      <td>0</td>\n",
       "      <td>0</td>\n",
       "      <td>1</td>\n",
       "      <td>0</td>\n",
       "      <td>1</td>\n",
       "      <td>0</td>\n",
       "      <td>1</td>\n",
       "      <td>0</td>\n",
       "      <td>0</td>\n",
       "      <td>1</td>\n",
       "      <td>0</td>\n",
       "      <td>0</td>\n",
       "      <td>0</td>\n",
       "      <td>0</td>\n",
       "      <td>0</td>\n",
       "      <td>0</td>\n",
       "      <td>0</td>\n",
       "      <td>0</td>\n",
       "      <td>0</td>\n",
       "      <td>0</td>\n",
       "      <td>0</td>\n",
       "      <td>0</td>\n",
       "      <td>0</td>\n",
       "      <td>0</td>\n",
       "      <td>0</td>\n",
       "    </tr>\n",
       "    <tr>\n",
       "      <td>3759</td>\n",
       "      <td>0.823991</td>\n",
       "      <td>-1.035145</td>\n",
       "      <td>0</td>\n",
       "      <td>0</td>\n",
       "      <td>0</td>\n",
       "      <td>1</td>\n",
       "      <td>1</td>\n",
       "      <td>0</td>\n",
       "      <td>0</td>\n",
       "      <td>1</td>\n",
       "      <td>0</td>\n",
       "      <td>0</td>\n",
       "      <td>1</td>\n",
       "      <td>0</td>\n",
       "      <td>0</td>\n",
       "      <td>0</td>\n",
       "      <td>0</td>\n",
       "      <td>0</td>\n",
       "      <td>0</td>\n",
       "      <td>1</td>\n",
       "      <td>0</td>\n",
       "      <td>0</td>\n",
       "      <td>0</td>\n",
       "      <td>1</td>\n",
       "      <td>0</td>\n",
       "      <td>0</td>\n",
       "      <td>0</td>\n",
       "      <td>1</td>\n",
       "    </tr>\n",
       "    <tr>\n",
       "      <td>4082</td>\n",
       "      <td>0.657700</td>\n",
       "      <td>0.670234</td>\n",
       "      <td>0</td>\n",
       "      <td>1</td>\n",
       "      <td>0</td>\n",
       "      <td>0</td>\n",
       "      <td>0</td>\n",
       "      <td>1</td>\n",
       "      <td>0</td>\n",
       "      <td>1</td>\n",
       "      <td>1</td>\n",
       "      <td>0</td>\n",
       "      <td>0</td>\n",
       "      <td>0</td>\n",
       "      <td>0</td>\n",
       "      <td>1</td>\n",
       "      <td>0</td>\n",
       "      <td>0</td>\n",
       "      <td>0</td>\n",
       "      <td>1</td>\n",
       "      <td>0</td>\n",
       "      <td>1</td>\n",
       "      <td>0</td>\n",
       "      <td>1</td>\n",
       "      <td>0</td>\n",
       "      <td>1</td>\n",
       "      <td>0</td>\n",
       "      <td>1</td>\n",
       "    </tr>\n",
       "    <tr>\n",
       "      <td>413</td>\n",
       "      <td>0.757475</td>\n",
       "      <td>0.751633</td>\n",
       "      <td>0</td>\n",
       "      <td>0</td>\n",
       "      <td>0</td>\n",
       "      <td>1</td>\n",
       "      <td>0</td>\n",
       "      <td>1</td>\n",
       "      <td>0</td>\n",
       "      <td>1</td>\n",
       "      <td>0</td>\n",
       "      <td>0</td>\n",
       "      <td>1</td>\n",
       "      <td>0</td>\n",
       "      <td>0</td>\n",
       "      <td>0</td>\n",
       "      <td>0</td>\n",
       "      <td>1</td>\n",
       "      <td>0</td>\n",
       "      <td>1</td>\n",
       "      <td>0</td>\n",
       "      <td>1</td>\n",
       "      <td>0</td>\n",
       "      <td>0</td>\n",
       "      <td>0</td>\n",
       "      <td>0</td>\n",
       "      <td>0</td>\n",
       "      <td>1</td>\n",
       "    </tr>\n",
       "    <tr>\n",
       "      <td>6805</td>\n",
       "      <td>1.362776</td>\n",
       "      <td>1.524258</td>\n",
       "      <td>1</td>\n",
       "      <td>1</td>\n",
       "      <td>0</td>\n",
       "      <td>1</td>\n",
       "      <td>0</td>\n",
       "      <td>0</td>\n",
       "      <td>0</td>\n",
       "      <td>0</td>\n",
       "      <td>1</td>\n",
       "      <td>0</td>\n",
       "      <td>1</td>\n",
       "      <td>0</td>\n",
       "      <td>0</td>\n",
       "      <td>0</td>\n",
       "      <td>0</td>\n",
       "      <td>1</td>\n",
       "      <td>0</td>\n",
       "      <td>0</td>\n",
       "      <td>0</td>\n",
       "      <td>1</td>\n",
       "      <td>0</td>\n",
       "      <td>1</td>\n",
       "      <td>0</td>\n",
       "      <td>1</td>\n",
       "      <td>0</td>\n",
       "      <td>1</td>\n",
       "    </tr>\n",
       "  </tbody>\n",
       "</table>\n",
       "</div>"
      ],
      "text/plain": [
       "      MonthlyCharges  Lifetime  SeniorCitizen  Type_One year  Type_Two year  \\\n",
       "1212  0.165477       -1.033811  0              0              0               \n",
       "3759  0.823991       -1.035145  0              0              0               \n",
       "4082  0.657700        0.670234  0              1              0               \n",
       "413   0.757475        0.751633  0              0              0               \n",
       "6805  1.362776        1.524258  1              1              0               \n",
       "\n",
       "      PaperlessBilling_Yes  PaymentMethod_Credit card  \\\n",
       "1212  1                     0                           \n",
       "3759  1                     1                           \n",
       "4082  0                     0                           \n",
       "413   1                     0                           \n",
       "6805  1                     0                           \n",
       "\n",
       "      PaymentMethod_Electronic check  PaymentMethod_Mailed check  gender_Male  \\\n",
       "1212  1                               0                           1             \n",
       "3759  0                               0                           1             \n",
       "4082  1                               0                           1             \n",
       "413   1                               0                           1             \n",
       "6805  0                               0                           0             \n",
       "\n",
       "      Partner_Yes  Dependents_Yes  InternetService_Fiber optic  \\\n",
       "1212  0            0               1                             \n",
       "3759  0            0               1                             \n",
       "4082  1            0               0                             \n",
       "413   0            0               1                             \n",
       "6805  1            0               1                             \n",
       "\n",
       "      InternetService_None  OnlineSecurity_None  OnlineSecurity_Yes  \\\n",
       "1212  0                     0                    0                    \n",
       "3759  0                     0                    0                    \n",
       "4082  0                     0                    1                    \n",
       "413   0                     0                    0                    \n",
       "6805  0                     0                    0                    \n",
       "\n",
       "      OnlineBackup_None  OnlineBackup_Yes  DeviceProtection_None  \\\n",
       "1212  0                  0                 0                       \n",
       "3759  0                  0                 0                       \n",
       "4082  0                  0                 0                       \n",
       "413   0                  1                 0                       \n",
       "6805  0                  1                 0                       \n",
       "\n",
       "      DeviceProtection_Yes  TechSupport_None  TechSupport_Yes  \\\n",
       "1212  0                     0                 0                 \n",
       "3759  1                     0                 0                 \n",
       "4082  1                     0                 1                 \n",
       "413   1                     0                 1                 \n",
       "6805  0                     0                 1                 \n",
       "\n",
       "      StreamingTV_None  StreamingTV_Yes  StreamingMovies_None  \\\n",
       "1212  0                 0                0                      \n",
       "3759  0                 1                0                      \n",
       "4082  0                 1                0                      \n",
       "413   0                 0                0                      \n",
       "6805  0                 1                0                      \n",
       "\n",
       "      StreamingMovies_Yes  MultipleLines_None  MultipleLines_Yes  \n",
       "1212  0                    0                   0                  \n",
       "3759  0                    0                   1                  \n",
       "4082  1                    0                   1                  \n",
       "413   0                    0                   1                  \n",
       "6805  1                    0                   1                  "
      ]
     },
     "execution_count": 50,
     "metadata": {},
     "output_type": "execute_result"
    }
   ],
   "source": [
    "X_train.head()"
   ]
  },
  {
   "cell_type": "markdown",
   "metadata": {},
   "source": [
    "### Проверка дисбаланса классов"
   ]
  },
  {
   "cell_type": "markdown",
   "metadata": {},
   "source": [
    "Посмотрим на долю ушедших пользователей по отношению ко всем пользователям:"
   ]
  },
  {
   "cell_type": "code",
   "execution_count": 51,
   "metadata": {},
   "outputs": [
    {
     "name": "stdout",
     "output_type": "stream",
     "text": [
      "0    4139\n",
      "1    1495\n",
      "Name: Churn, dtype: int64\n",
      "\n",
      "Доля ушедших пользователей:  26.5 %\n"
     ]
    }
   ],
   "source": [
    "print(y_train.value_counts())\n",
    "print('')\n",
    "print('Доля ушедших пользователей: ', round(100 * len(y_train[y_train == 1]) / len(y_train), 1), '%')"
   ]
  },
  {
   "cell_type": "markdown",
   "metadata": {},
   "source": [
    "Дисбаланс небольшой, количество ушедших пользователей больше чем 1/4 от всех пользователей.\n",
    "\n",
    "Предпочтительнее отказаться от использования средств борьбы с дисбалансом (upsampling и т.п.) и оставить данные неискажёнными."
   ]
  },
  {
   "cell_type": "markdown",
   "metadata": {},
   "source": [
    "## Обучение моделей"
   ]
  },
  {
   "cell_type": "markdown",
   "metadata": {},
   "source": [
    "### Тривиальная модель (DummyClassifier)"
   ]
  },
  {
   "cell_type": "markdown",
   "metadata": {},
   "source": [
    "Построим тривиальную модель, которая поможет проверить реальные модели на адекватность. Её результаты должны быть значительно хуже по сравнению с итоговой моделью."
   ]
  },
  {
   "cell_type": "code",
   "execution_count": 52,
   "metadata": {},
   "outputs": [
    {
     "name": "stdout",
     "output_type": "stream",
     "text": [
      "Модель с максимальной AUC-ROC на кросс-валидации:\n"
     ]
    },
    {
     "data": {
      "text/html": [
       "<div>\n",
       "<style scoped>\n",
       "    .dataframe tbody tr th:only-of-type {\n",
       "        vertical-align: middle;\n",
       "    }\n",
       "\n",
       "    .dataframe tbody tr th {\n",
       "        vertical-align: top;\n",
       "    }\n",
       "\n",
       "    .dataframe thead th {\n",
       "        text-align: right;\n",
       "    }\n",
       "</style>\n",
       "<table border=\"1\" class=\"dataframe\">\n",
       "  <thead>\n",
       "    <tr style=\"text-align: right;\">\n",
       "      <th></th>\n",
       "      <th>Алгоритм</th>\n",
       "      <th>Гиперпараметры</th>\n",
       "      <th>AUC-ROC</th>\n",
       "    </tr>\n",
       "  </thead>\n",
       "  <tbody>\n",
       "    <tr>\n",
       "      <td>0</td>\n",
       "      <td>DummyClassifier</td>\n",
       "      <td>{'strategy': 'stratified'}</td>\n",
       "      <td>0.514487</td>\n",
       "    </tr>\n",
       "  </tbody>\n",
       "</table>\n",
       "</div>"
      ],
      "text/plain": [
       "          Алгоритм              Гиперпараметры   AUC-ROC\n",
       "0  DummyClassifier  {'strategy': 'stratified'}  0.514487"
      ]
     },
     "metadata": {},
     "output_type": "display_data"
    },
    {
     "name": "stdout",
     "output_type": "stream",
     "text": [
      "CPU times: user 103 ms, sys: 3.7 ms, total: 106 ms\n",
      "Wall time: 104 ms\n"
     ]
    }
   ],
   "source": [
    "%%time\n",
    "\n",
    "# варианты ключевых гиперпараметров \n",
    "dm_params = {\n",
    "    'strategy' : ['stratified', 'most_frequent', 'prior', 'uniform', 'constant']\n",
    "}\n",
    "\n",
    "# подбор оптимального сочетания гиперпараметров с помощью GridSearchCV \n",
    "dm_model = model_learning(\n",
    "    DummyClassifier(random_state=GLOBAL_RANDOM_STATE, constant=1), \n",
    "    dm_params\n",
    ")\n",
    "\n",
    "# отображение результатов\n",
    "dm_result = train_result(dm_model, 'DummyClassifier')"
   ]
  },
  {
   "cell_type": "markdown",
   "metadata": {},
   "source": [
    "### Логистическая регрессия"
   ]
  },
  {
   "cell_type": "code",
   "execution_count": 53,
   "metadata": {
    "scrolled": true
   },
   "outputs": [
    {
     "name": "stdout",
     "output_type": "stream",
     "text": [
      "Модель с максимальной AUC-ROC на кросс-валидации:\n"
     ]
    },
    {
     "data": {
      "text/html": [
       "<div>\n",
       "<style scoped>\n",
       "    .dataframe tbody tr th:only-of-type {\n",
       "        vertical-align: middle;\n",
       "    }\n",
       "\n",
       "    .dataframe tbody tr th {\n",
       "        vertical-align: top;\n",
       "    }\n",
       "\n",
       "    .dataframe thead th {\n",
       "        text-align: right;\n",
       "    }\n",
       "</style>\n",
       "<table border=\"1\" class=\"dataframe\">\n",
       "  <thead>\n",
       "    <tr style=\"text-align: right;\">\n",
       "      <th></th>\n",
       "      <th>Алгоритм</th>\n",
       "      <th>Гиперпараметры</th>\n",
       "      <th>AUC-ROC</th>\n",
       "    </tr>\n",
       "  </thead>\n",
       "  <tbody>\n",
       "    <tr>\n",
       "      <td>0</td>\n",
       "      <td>LogisticRegression</td>\n",
       "      <td>{'C': 0.1, 'solver': 'newton-cg'}</td>\n",
       "      <td>0.842491</td>\n",
       "    </tr>\n",
       "  </tbody>\n",
       "</table>\n",
       "</div>"
      ],
      "text/plain": [
       "             Алгоритм                     Гиперпараметры   AUC-ROC\n",
       "0  LogisticRegression  {'C': 0.1, 'solver': 'newton-cg'}  0.842491"
      ]
     },
     "metadata": {},
     "output_type": "display_data"
    },
    {
     "name": "stdout",
     "output_type": "stream",
     "text": [
      "CPU times: user 8.16 s, sys: 9.43 s, total: 17.6 s\n",
      "Wall time: 18.1 s\n"
     ]
    }
   ],
   "source": [
    "%%time\n",
    "\n",
    "# варианты ключевых гиперпараметров \n",
    "lr_params = {\n",
    "    'C' : [0.1, 0.3, 1],\n",
    "    'solver' : ['newton-cg', 'sag', 'saga', 'lbfgs', 'liblinear']\n",
    "}\n",
    "\n",
    "# подбор оптимального сочетания гиперпараметров с помощью GridSearchCV\n",
    "lr_model = model_learning(\n",
    "    LogisticRegression(random_state=GLOBAL_RANDOM_STATE, penalty='l2'), \n",
    "    lr_params\n",
    ")\n",
    "\n",
    "# отображение результатов\n",
    "lr_result = train_result(lr_model, 'LogisticRegression')"
   ]
  },
  {
   "cell_type": "markdown",
   "metadata": {},
   "source": [
    "### Случайный лес"
   ]
  },
  {
   "cell_type": "code",
   "execution_count": 54,
   "metadata": {
    "scrolled": false
   },
   "outputs": [
    {
     "name": "stdout",
     "output_type": "stream",
     "text": [
      "Модель с максимальной AUC-ROC на кросс-валидации:\n"
     ]
    },
    {
     "data": {
      "text/html": [
       "<div>\n",
       "<style scoped>\n",
       "    .dataframe tbody tr th:only-of-type {\n",
       "        vertical-align: middle;\n",
       "    }\n",
       "\n",
       "    .dataframe tbody tr th {\n",
       "        vertical-align: top;\n",
       "    }\n",
       "\n",
       "    .dataframe thead th {\n",
       "        text-align: right;\n",
       "    }\n",
       "</style>\n",
       "<table border=\"1\" class=\"dataframe\">\n",
       "  <thead>\n",
       "    <tr style=\"text-align: right;\">\n",
       "      <th></th>\n",
       "      <th>Алгоритм</th>\n",
       "      <th>Гиперпараметры</th>\n",
       "      <th>AUC-ROC</th>\n",
       "    </tr>\n",
       "  </thead>\n",
       "  <tbody>\n",
       "    <tr>\n",
       "      <td>0</td>\n",
       "      <td>RandomForestClassifier</td>\n",
       "      <td>{'max_depth': 9, 'n_estimators': 100}</td>\n",
       "      <td>0.859624</td>\n",
       "    </tr>\n",
       "  </tbody>\n",
       "</table>\n",
       "</div>"
      ],
      "text/plain": [
       "                 Алгоритм                         Гиперпараметры   AUC-ROC\n",
       "0  RandomForestClassifier  {'max_depth': 9, 'n_estimators': 100}  0.859624"
      ]
     },
     "metadata": {},
     "output_type": "display_data"
    },
    {
     "name": "stdout",
     "output_type": "stream",
     "text": [
      "CPU times: user 40.7 s, sys: 0 ns, total: 40.7 s\n",
      "Wall time: 40.9 s\n"
     ]
    }
   ],
   "source": [
    "%%time\n",
    "\n",
    "# варианты ключевых гиперпараметров \n",
    "rf_params = {'n_estimators': range(100, 510, 200),\n",
    "             'max_depth': range(3, 10, 3)}\n",
    "\n",
    "# подбор оптимального сочетания гиперпараметров с помощью GridSearchCV\n",
    "rf_model = model_learning(\n",
    "    RandomForestClassifier(random_state=GLOBAL_RANDOM_STATE), \n",
    "    rf_params\n",
    ")\n",
    "\n",
    "# отображение результатов\n",
    "rf_result = train_result(rf_model, 'RandomForestClassifier')"
   ]
  },
  {
   "cell_type": "markdown",
   "metadata": {},
   "source": [
    "### Градиентный бустинг"
   ]
  },
  {
   "cell_type": "markdown",
   "metadata": {},
   "source": [
    "#### XGBoost"
   ]
  },
  {
   "cell_type": "code",
   "execution_count": 55,
   "metadata": {},
   "outputs": [
    {
     "name": "stdout",
     "output_type": "stream",
     "text": [
      "Модель с максимальной AUC-ROC на кросс-валидации:\n"
     ]
    },
    {
     "data": {
      "text/html": [
       "<div>\n",
       "<style scoped>\n",
       "    .dataframe tbody tr th:only-of-type {\n",
       "        vertical-align: middle;\n",
       "    }\n",
       "\n",
       "    .dataframe tbody tr th {\n",
       "        vertical-align: top;\n",
       "    }\n",
       "\n",
       "    .dataframe thead th {\n",
       "        text-align: right;\n",
       "    }\n",
       "</style>\n",
       "<table border=\"1\" class=\"dataframe\">\n",
       "  <thead>\n",
       "    <tr style=\"text-align: right;\">\n",
       "      <th></th>\n",
       "      <th>Алгоритм</th>\n",
       "      <th>Гиперпараметры</th>\n",
       "      <th>AUC-ROC</th>\n",
       "    </tr>\n",
       "  </thead>\n",
       "  <tbody>\n",
       "    <tr>\n",
       "      <td>0</td>\n",
       "      <td>XGBClassifier</td>\n",
       "      <td>{'learning_rate': 0.25, 'max_depth': 3, 'n_estimators': 800}</td>\n",
       "      <td>0.924184</td>\n",
       "    </tr>\n",
       "  </tbody>\n",
       "</table>\n",
       "</div>"
      ],
      "text/plain": [
       "        Алгоритм  \\\n",
       "0  XGBClassifier   \n",
       "\n",
       "                                                 Гиперпараметры   AUC-ROC  \n",
       "0  {'learning_rate': 0.25, 'max_depth': 3, 'n_estimators': 800}  0.924184  "
      ]
     },
     "metadata": {},
     "output_type": "display_data"
    },
    {
     "name": "stdout",
     "output_type": "stream",
     "text": [
      "CPU times: user 7min 16s, sys: 1.34 s, total: 7min 18s\n",
      "Wall time: 7min 24s\n"
     ]
    }
   ],
   "source": [
    "%%time\n",
    "\n",
    "# варианты ключевых гиперпараметров \n",
    "xgb_params = {\n",
    "    'n_estimators': [400, 600, 800],\n",
    "    'learning_rate': [0.01, 0.1, 0.25, 0.5],\n",
    "    'max_depth': [3, 4, 5]\n",
    "}\n",
    "\n",
    "# подбор оптимального сочетания гиперпараметров с помощью GridSearchCV\n",
    "xgb_model = model_learning(\n",
    "    XGBClassifier(random_state=GLOBAL_RANDOM_STATE), \n",
    "    xgb_params\n",
    ")\n",
    "\n",
    "# отображение результатов\n",
    "xgb_result = train_result(xgb_model, 'XGBClassifier')"
   ]
  },
  {
   "cell_type": "markdown",
   "metadata": {},
   "source": [
    "#### LGBM"
   ]
  },
  {
   "cell_type": "code",
   "execution_count": 56,
   "metadata": {},
   "outputs": [
    {
     "name": "stdout",
     "output_type": "stream",
     "text": [
      "Модель с максимальной AUC-ROC на кросс-валидации:\n"
     ]
    },
    {
     "data": {
      "text/html": [
       "<div>\n",
       "<style scoped>\n",
       "    .dataframe tbody tr th:only-of-type {\n",
       "        vertical-align: middle;\n",
       "    }\n",
       "\n",
       "    .dataframe tbody tr th {\n",
       "        vertical-align: top;\n",
       "    }\n",
       "\n",
       "    .dataframe thead th {\n",
       "        text-align: right;\n",
       "    }\n",
       "</style>\n",
       "<table border=\"1\" class=\"dataframe\">\n",
       "  <thead>\n",
       "    <tr style=\"text-align: right;\">\n",
       "      <th></th>\n",
       "      <th>Алгоритм</th>\n",
       "      <th>Гиперпараметры</th>\n",
       "      <th>AUC-ROC</th>\n",
       "    </tr>\n",
       "  </thead>\n",
       "  <tbody>\n",
       "    <tr>\n",
       "      <td>0</td>\n",
       "      <td>LGBMClassifier</td>\n",
       "      <td>{'learning_rate': 0.25, 'max_depth': 3, 'n_estimators': 600}</td>\n",
       "      <td>0.918712</td>\n",
       "    </tr>\n",
       "  </tbody>\n",
       "</table>\n",
       "</div>"
      ],
      "text/plain": [
       "         Алгоритм  \\\n",
       "0  LGBMClassifier   \n",
       "\n",
       "                                                 Гиперпараметры   AUC-ROC  \n",
       "0  {'learning_rate': 0.25, 'max_depth': 3, 'n_estimators': 600}  0.918712  "
      ]
     },
     "metadata": {},
     "output_type": "display_data"
    },
    {
     "name": "stdout",
     "output_type": "stream",
     "text": [
      "CPU times: user 1min 20s, sys: 2.76 s, total: 1min 23s\n",
      "Wall time: 1min 25s\n"
     ]
    }
   ],
   "source": [
    "%%time\n",
    " \n",
    "# варианты ключевых гиперпараметров     \n",
    "lgbm_params = {\n",
    "    'n_estimators': [400, 600, 800],\n",
    "    'learning_rate': [0.01, 0.1, 0.25, 0.5],\n",
    "    'max_depth': [3, 4, 5]\n",
    "}\n",
    "\n",
    "# подбор оптимального сочетания гиперпараметров с помощью GridSearchCV\n",
    "lgbm_model = model_learning(\n",
    "    LGBMClassifier(random_state=GLOBAL_RANDOM_STATE), \n",
    "    lgbm_params\n",
    ")\n",
    "\n",
    "# отображение результатов\n",
    "lgbm_result = train_result(lgbm_model, 'LGBMClassifier')"
   ]
  },
  {
   "cell_type": "markdown",
   "metadata": {},
   "source": [
    "#### CatBoost"
   ]
  },
  {
   "cell_type": "code",
   "execution_count": 57,
   "metadata": {
    "scrolled": true
   },
   "outputs": [
    {
     "name": "stdout",
     "output_type": "stream",
     "text": [
      "Модель с максимальной AUC-ROC на кросс-валидации:\n"
     ]
    },
    {
     "data": {
      "text/html": [
       "<div>\n",
       "<style scoped>\n",
       "    .dataframe tbody tr th:only-of-type {\n",
       "        vertical-align: middle;\n",
       "    }\n",
       "\n",
       "    .dataframe tbody tr th {\n",
       "        vertical-align: top;\n",
       "    }\n",
       "\n",
       "    .dataframe thead th {\n",
       "        text-align: right;\n",
       "    }\n",
       "</style>\n",
       "<table border=\"1\" class=\"dataframe\">\n",
       "  <thead>\n",
       "    <tr style=\"text-align: right;\">\n",
       "      <th></th>\n",
       "      <th>Алгоритм</th>\n",
       "      <th>Гиперпараметры</th>\n",
       "      <th>AUC-ROC</th>\n",
       "    </tr>\n",
       "  </thead>\n",
       "  <tbody>\n",
       "    <tr>\n",
       "      <td>0</td>\n",
       "      <td>CatBoostClassifier</td>\n",
       "      <td>{'learning_rate': 0.25, 'max_depth': 3, 'n_estimators': 600}</td>\n",
       "      <td>0.936468</td>\n",
       "    </tr>\n",
       "  </tbody>\n",
       "</table>\n",
       "</div>"
      ],
      "text/plain": [
       "             Алгоритм  \\\n",
       "0  CatBoostClassifier   \n",
       "\n",
       "                                                 Гиперпараметры   AUC-ROC  \n",
       "0  {'learning_rate': 0.25, 'max_depth': 3, 'n_estimators': 600}  0.936468  "
      ]
     },
     "metadata": {},
     "output_type": "display_data"
    },
    {
     "name": "stdout",
     "output_type": "stream",
     "text": [
      "CPU times: user 21min 47s, sys: 3min 5s, total: 24min 52s\n",
      "Wall time: 28min 11s\n"
     ]
    }
   ],
   "source": [
    "%%time\n",
    "\n",
    "# варианты ключевых гиперпараметров \n",
    "cb_params = {\n",
    "    'n_estimators': [400, 600, 800],\n",
    "    'learning_rate': [0.01, 0.1, 0.25, 0.5],\n",
    "    'max_depth': [3, 4, 5]\n",
    "}\n",
    "\n",
    "# подбор оптимального сочетания гиперпараметров с помощью GridSearchCV\n",
    "cb_model = model_learning(\n",
    "    CatBoostClassifier(random_state=GLOBAL_RANDOM_STATE, verbose=0), \n",
    "    cb_params\n",
    ")\n",
    "\n",
    "# отображение результатов\n",
    "cb_result = train_result(cb_model, 'CatBoostClassifier')"
   ]
  },
  {
   "cell_type": "markdown",
   "metadata": {},
   "source": [
    "### Выбор наилучшего алгоритма"
   ]
  },
  {
   "cell_type": "markdown",
   "metadata": {},
   "source": [
    "Сведём оценки лучших вариантов по каждому алгоритму в общую таблицу и выберем наилучший алгоритм с максимальным значением основной метрики (AUC-ROC) на кросс-валидации:"
   ]
  },
  {
   "cell_type": "code",
   "execution_count": 58,
   "metadata": {},
   "outputs": [
    {
     "data": {
      "text/html": [
       "<div>\n",
       "<style scoped>\n",
       "    .dataframe tbody tr th:only-of-type {\n",
       "        vertical-align: middle;\n",
       "    }\n",
       "\n",
       "    .dataframe tbody tr th {\n",
       "        vertical-align: top;\n",
       "    }\n",
       "\n",
       "    .dataframe thead th {\n",
       "        text-align: right;\n",
       "    }\n",
       "</style>\n",
       "<table border=\"1\" class=\"dataframe\">\n",
       "  <thead>\n",
       "    <tr style=\"text-align: right;\">\n",
       "      <th></th>\n",
       "      <th>Алгоритм</th>\n",
       "      <th>Гиперпараметры</th>\n",
       "      <th>AUC-ROC</th>\n",
       "    </tr>\n",
       "  </thead>\n",
       "  <tbody>\n",
       "    <tr>\n",
       "      <td>0</td>\n",
       "      <td>CatBoostClassifier</td>\n",
       "      <td>{'learning_rate': 0.25, 'max_depth': 3, 'n_estimators': 600}</td>\n",
       "      <td>0.936468</td>\n",
       "    </tr>\n",
       "    <tr>\n",
       "      <td>1</td>\n",
       "      <td>XGBClassifier</td>\n",
       "      <td>{'learning_rate': 0.25, 'max_depth': 3, 'n_estimators': 800}</td>\n",
       "      <td>0.924184</td>\n",
       "    </tr>\n",
       "    <tr>\n",
       "      <td>2</td>\n",
       "      <td>LGBMClassifier</td>\n",
       "      <td>{'learning_rate': 0.25, 'max_depth': 3, 'n_estimators': 600}</td>\n",
       "      <td>0.918712</td>\n",
       "    </tr>\n",
       "    <tr>\n",
       "      <td>3</td>\n",
       "      <td>RandomForestClassifier</td>\n",
       "      <td>{'max_depth': 9, 'n_estimators': 100}</td>\n",
       "      <td>0.859624</td>\n",
       "    </tr>\n",
       "    <tr>\n",
       "      <td>4</td>\n",
       "      <td>LogisticRegression</td>\n",
       "      <td>{'C': 0.1, 'solver': 'newton-cg'}</td>\n",
       "      <td>0.842491</td>\n",
       "    </tr>\n",
       "    <tr>\n",
       "      <td>5</td>\n",
       "      <td>DummyClassifier</td>\n",
       "      <td>{'strategy': 'stratified'}</td>\n",
       "      <td>0.514487</td>\n",
       "    </tr>\n",
       "  </tbody>\n",
       "</table>\n",
       "</div>"
      ],
      "text/plain": [
       "                 Алгоритм  \\\n",
       "0  CatBoostClassifier       \n",
       "1  XGBClassifier            \n",
       "2  LGBMClassifier           \n",
       "3  RandomForestClassifier   \n",
       "4  LogisticRegression       \n",
       "5  DummyClassifier          \n",
       "\n",
       "                                                 Гиперпараметры   AUC-ROC  \n",
       "0  {'learning_rate': 0.25, 'max_depth': 3, 'n_estimators': 600}  0.936468  \n",
       "1  {'learning_rate': 0.25, 'max_depth': 3, 'n_estimators': 800}  0.924184  \n",
       "2  {'learning_rate': 0.25, 'max_depth': 3, 'n_estimators': 600}  0.918712  \n",
       "3  {'max_depth': 9, 'n_estimators': 100}                         0.859624  \n",
       "4  {'C': 0.1, 'solver': 'newton-cg'}                             0.842491  \n",
       "5  {'strategy': 'stratified'}                                    0.514487  "
      ]
     },
     "metadata": {},
     "output_type": "display_data"
    }
   ],
   "source": [
    "result = pd.concat([dm_result, lr_result, rf_result, xgb_result, lgbm_result, cb_result]) \\\n",
    "           .sort_values('AUC-ROC', ascending=False) \\\n",
    "           .reset_index(drop=True)\n",
    "\n",
    "display(result)"
   ]
  },
  {
   "cell_type": "markdown",
   "metadata": {},
   "source": [
    "В качестве итоговой модели принимаем модель, постороенную на основе CatBoostClassifier."
   ]
  },
  {
   "cell_type": "markdown",
   "metadata": {},
   "source": [
    "Посмотрим на значимость каждого из признаков итоговой модели:"
   ]
  },
  {
   "cell_type": "code",
   "execution_count": 59,
   "metadata": {},
   "outputs": [
    {
     "data": {
      "text/plain": [
       "Text(0.5, 0, 'Процент')"
      ]
     },
     "execution_count": 59,
     "metadata": {},
     "output_type": "execute_result"
    },
    {
     "data": {
      "image/png": "[encoded data removed]",
      "text/plain": [
       "<Figure size 720x504 with 1 Axes>"
      ]
     },
     "metadata": {},
     "output_type": "display_data"
    }
   ],
   "source": [
    "feature_importances = pd.DataFrame(\n",
    "    {'feature': X_train.columns,\n",
    "     'percent': cb_model.best_estimator_.feature_importances_}\n",
    ").sort_values('percent', ascending=False)\n",
    "\n",
    "plt.figure(figsize = (10,7))\n",
    "sns.barplot(feature_importances['percent'], feature_importances['feature'], color='seagreen')\n",
    "plt.title('Относительная значимость признаков')\n",
    "plt.ylabel('Признаки')\n",
    "plt.xlabel('Процент')"
   ]
  },
  {
   "cell_type": "markdown",
   "metadata": {},
   "source": [
    "### Проверка модели на тестовой выборке"
   ]
  },
  {
   "cell_type": "markdown",
   "metadata": {},
   "source": [
    "Проверим модель на тестовой выборке, оценив основную и дополнительную метрики: "
   ]
  },
  {
   "cell_type": "code",
   "execution_count": 60,
   "metadata": {},
   "outputs": [
    {
     "name": "stdout",
     "output_type": "stream",
     "text": [
      "AUC-ROC на тестовой выборке:  0.9267754269033041\n",
      "Accuracy на тестовой выборке:  0.886444286728176\n"
     ]
    }
   ],
   "source": [
    "test_scoring(cb_model)"
   ]
  },
  {
   "cell_type": "markdown",
   "metadata": {},
   "source": [
    "Построим ROC-кривую:"
   ]
  },
  {
   "cell_type": "code",
   "execution_count": 61,
   "metadata": {},
   "outputs": [
    {
     "data": {
      "image/png": "[encoded data removed]",
      "text/plain": [
       "<Figure size 720x504 with 1 Axes>"
      ]
     },
     "metadata": {},
     "output_type": "display_data"
    }
   ],
   "source": [
    "fpr, tpr, thresholds = roc_curve(y_test, cb_model.predict_proba(X_test)[:, 1]) \n",
    "\n",
    "plt.figure(figsize = (10,7))\n",
    "ax = sns.lineplot(x=fpr, y=tpr)\n",
    "ax = sns.lineplot([0, 1], [0, 1])\n",
    "ax.lines[1].set_linestyle(\"--\")\n",
    "ax = ax.set(title = 'ROC-кривая',\n",
    "            xlabel = 'False Positive Rate',\n",
    "            ylabel = 'True Positive Rate',\n",
    "            xlim=(0,1), \n",
    "            ylim=(0,1))"
   ]
  },
  {
   "cell_type": "markdown",
   "metadata": {},
   "source": [
    "Построим матрицу ошибок:"
   ]
  },
  {
   "cell_type": "code",
   "execution_count": 62,
   "metadata": {},
   "outputs": [
    {
     "data": {
      "text/plain": [
       "Text(0.5, 42.0, 'Предсказанные значения')"
      ]
     },
     "execution_count": 62,
     "metadata": {},
     "output_type": "execute_result"
    },
    {
     "data": {
      "image/png": "[encoded data removed]",
      "text/plain": [
       "<Figure size 720x504 with 1 Axes>"
      ]
     },
     "metadata": {},
     "output_type": "display_data"
    }
   ],
   "source": [
    "cf_matrix = confusion_matrix(y_test, cb_model.predict(X_test))\n",
    "\n",
    "plt.figure(figsize = (10,7))\n",
    "group_names = ['Истинно-отрицательные ответы\\n\\n\\nTrue Negative (TN)', \n",
    "               'Ложно-положительные ответы\\n(Ошибка 1 рода - ошибочное отвержение)\\n\\nFalse Positive (FP), Error Type 1', \n",
    "               'Лолжно-отрицательные ответы\\n(Ошибка 2 рода - ошибочное принятие)\\n\\nFalse Negative (FN), Error Type 2', \n",
    "               'Истинно-положительные ответы\\n\\n\\nTrue Positive (TP)']\n",
    "group_counts = ['{0:0.0f}'.format(value) for value in cf_matrix.flatten()]\n",
    "group_percentages = ['{0:.2%}'.format(value) for value in cf_matrix.flatten()/np.sum(cf_matrix)]\n",
    "labels = [f'{v1}\\n{v2}\\n{v3}' for v1, v2, v3 in zip(group_names, group_counts, group_percentages)]\n",
    "labels = np.asarray(labels).reshape(2,2)\n",
    "sns.heatmap(cf_matrix, annot=labels, fmt='', cmap='Blues', cbar=False)\n",
    "plt.title('Матрица ошибок')\n",
    "plt.ylabel('Целевой признак')\n",
    "plt.xlabel('Предсказанные значения')"
   ]
  },
  {
   "cell_type": "markdown",
   "metadata": {},
   "source": [
    "## Общий вывод"
   ]
  },
  {
   "cell_type": "markdown",
   "metadata": {},
   "source": [
    "Результаты проекта:\n",
    "* В рамках проекта **разработана модель, прогнозирующая отток клиентов телекоммуникационной компании**. С помощью данной модели компания может выяснить, что пользователь планирует уйти, и попытаться удержать его, своевременно предложив промокоды и специальные условия обслуживания.\n",
    "* Качество модели оценивалось с помощью метрики AUC-ROC. Достигнутое на тестовой выборке значение **AUC-ROC 0.927** существенно превосходит обозначенные требования (AUC-ROC >= 0.88). Значение дополнительной метрики **Accuracy 0.886** также свидетельствует о том, что модель на основе алгоритма **CatBoost** хорошо справляется с поставленной задачей.\n",
    "* Наибольший вклад (влияние ~ 70%) в склонность клиентов к уходу вносит искусственно созданный в рамках проекта признак **Lifetime** - чем меньше длительность пользования услугами, тем выше вероятность ухода пользователей. \n",
    "* Ещё можно выделить признак **MonthlyCharges** (влияние ~ 10%) - чем выше размер ежемесячного платежа за услуги, тем выше вероятность ухода пользователей.\n",
    "* Доля множества из остальных признаков исчезающе мала. Если провести повторное обучение модели без их учёта, то возможно получится ещё немного улучшить качество модели.\n",
    "* Интересно, что ни один из категориальных признаков, отмеченных на этапа исследовательского анализа данных, по факту не оказывает существенного влияния на уход клиента."
   ]
  }
 ],
 "metadata": {
  "ExecuteTimeLog": [
   {
    "duration": 1584,
    "start_time": "2021-07-29T20:25:24.540Z"
   },
   {
    "duration": 95,
    "start_time": "2021-07-29T20:25:30.170Z"
   },
   {
    "duration": 20,
    "start_time": "2021-07-29T20:26:51.349Z"
   },
   {
    "duration": 15,
    "start_time": "2021-07-29T20:34:04.208Z"
   },
   {
    "duration": 15,
    "start_time": "2021-07-29T20:37:10.475Z"
   },
   {
    "duration": 15,
    "start_time": "2021-07-29T20:37:17.876Z"
   },
   {
    "duration": 16,
    "start_time": "2021-07-29T20:37:20.756Z"
   },
   {
    "duration": 16,
    "start_time": "2021-07-29T20:41:50.301Z"
   },
   {
    "duration": 15,
    "start_time": "2021-07-29T20:41:57.785Z"
   },
   {
    "duration": 15,
    "start_time": "2021-07-29T20:42:09.642Z"
   },
   {
    "duration": 12,
    "start_time": "2021-07-29T20:43:52.056Z"
   },
   {
    "duration": 15,
    "start_time": "2021-07-29T20:44:12.568Z"
   },
   {
    "duration": 16,
    "start_time": "2021-07-29T20:44:28.739Z"
   },
   {
    "duration": 14,
    "start_time": "2021-07-29T20:45:08.176Z"
   },
   {
    "duration": 16,
    "start_time": "2021-07-29T20:45:46.300Z"
   },
   {
    "duration": 13,
    "start_time": "2021-07-29T20:46:04.224Z"
   },
   {
    "duration": 16,
    "start_time": "2021-07-29T20:46:13.075Z"
   },
   {
    "duration": 16,
    "start_time": "2021-07-29T20:46:19.127Z"
   },
   {
    "duration": 12,
    "start_time": "2021-07-29T20:49:14.585Z"
   },
   {
    "duration": 422,
    "start_time": "2021-07-29T20:52:46.798Z"
   },
   {
    "duration": 20,
    "start_time": "2021-07-29T20:52:57.599Z"
   },
   {
    "duration": 311,
    "start_time": "2021-07-30T20:02:48.758Z"
   },
   {
    "duration": 3,
    "start_time": "2021-07-30T20:03:01.306Z"
   },
   {
    "duration": 1601,
    "start_time": "2021-07-30T20:03:01.312Z"
   },
   {
    "duration": 45,
    "start_time": "2021-07-30T20:03:02.916Z"
   },
   {
    "duration": 19,
    "start_time": "2021-07-30T20:03:02.964Z"
   },
   {
    "duration": 20,
    "start_time": "2021-07-30T20:03:02.985Z"
   },
   {
    "duration": 8,
    "start_time": "2021-07-30T20:03:06.099Z"
   },
   {
    "duration": 3,
    "start_time": "2021-07-30T20:12:14.432Z"
   },
   {
    "duration": 393,
    "start_time": "2021-07-30T20:30:28.481Z"
   },
   {
    "duration": 25,
    "start_time": "2021-07-30T20:30:44.327Z"
   },
   {
    "duration": 27,
    "start_time": "2021-07-30T20:30:52.030Z"
   },
   {
    "duration": 11,
    "start_time": "2021-07-30T20:31:23.698Z"
   },
   {
    "duration": 27,
    "start_time": "2021-07-30T20:39:52.232Z"
   },
   {
    "duration": 3,
    "start_time": "2021-07-30T20:41:32.029Z"
   },
   {
    "duration": 7,
    "start_time": "2021-07-30T20:41:32.035Z"
   },
   {
    "duration": 5,
    "start_time": "2021-07-30T20:41:32.045Z"
   },
   {
    "duration": 52,
    "start_time": "2021-07-30T20:41:32.052Z"
   },
   {
    "duration": 17,
    "start_time": "2021-07-30T20:41:32.106Z"
   },
   {
    "duration": 20,
    "start_time": "2021-07-30T20:41:32.125Z"
   },
   {
    "duration": 7,
    "start_time": "2021-07-30T20:41:32.149Z"
   },
   {
    "duration": 1832,
    "start_time": "2021-07-30T20:41:48.392Z"
   },
   {
    "duration": 24,
    "start_time": "2021-07-30T20:41:53.200Z"
   },
   {
    "duration": 23,
    "start_time": "2021-07-30T20:45:38.971Z"
   },
   {
    "duration": 23,
    "start_time": "2021-07-30T20:50:08.329Z"
   },
   {
    "duration": 13,
    "start_time": "2021-07-30T20:50:39.649Z"
   },
   {
    "duration": 14,
    "start_time": "2021-07-30T20:50:52.076Z"
   },
   {
    "duration": 27,
    "start_time": "2021-07-30T20:52:13.422Z"
   },
   {
    "duration": 509,
    "start_time": "2021-07-30T20:54:03.158Z"
   },
   {
    "duration": 36,
    "start_time": "2021-07-30T20:54:17.962Z"
   },
   {
    "duration": 12,
    "start_time": "2021-07-30T20:54:20.121Z"
   },
   {
    "duration": 12,
    "start_time": "2021-07-30T20:54:23.391Z"
   },
   {
    "duration": 7,
    "start_time": "2021-07-30T20:55:31.339Z"
   },
   {
    "duration": 9,
    "start_time": "2021-07-30T20:59:57.236Z"
   },
   {
    "duration": 8,
    "start_time": "2021-07-30T21:01:31.563Z"
   },
   {
    "duration": 15,
    "start_time": "2021-07-30T21:04:26.000Z"
   },
   {
    "duration": 13,
    "start_time": "2021-07-30T21:05:03.937Z"
   },
   {
    "duration": 13,
    "start_time": "2021-07-30T21:05:11.513Z"
   },
   {
    "duration": 3,
    "start_time": "2021-07-30T21:06:24.416Z"
   },
   {
    "duration": 8,
    "start_time": "2021-07-30T21:06:24.422Z"
   },
   {
    "duration": 8,
    "start_time": "2021-07-30T21:06:24.433Z"
   },
   {
    "duration": 47,
    "start_time": "2021-07-30T21:06:24.443Z"
   },
   {
    "duration": 16,
    "start_time": "2021-07-30T21:06:24.492Z"
   },
   {
    "duration": 12,
    "start_time": "2021-07-30T21:06:24.511Z"
   },
   {
    "duration": 6,
    "start_time": "2021-07-30T21:06:24.526Z"
   },
   {
    "duration": 38,
    "start_time": "2021-07-30T21:06:24.535Z"
   },
   {
    "duration": 8,
    "start_time": "2021-07-30T21:06:32.162Z"
   },
   {
    "duration": 91,
    "start_time": "2021-07-30T21:09:24.547Z"
   },
   {
    "duration": 10,
    "start_time": "2021-07-30T21:09:32.871Z"
   },
   {
    "duration": 16,
    "start_time": "2021-07-30T21:10:05.086Z"
   },
   {
    "duration": 15,
    "start_time": "2021-07-30T21:10:10.786Z"
   },
   {
    "duration": 4,
    "start_time": "2021-07-30T21:10:33.648Z"
   },
   {
    "duration": 12,
    "start_time": "2021-07-30T21:10:33.654Z"
   },
   {
    "duration": 16,
    "start_time": "2021-07-30T21:10:33.669Z"
   },
   {
    "duration": 49,
    "start_time": "2021-07-30T21:10:33.688Z"
   },
   {
    "duration": 16,
    "start_time": "2021-07-30T21:10:33.739Z"
   },
   {
    "duration": 12,
    "start_time": "2021-07-30T21:10:33.757Z"
   },
   {
    "duration": 8,
    "start_time": "2021-07-30T21:10:33.772Z"
   },
   {
    "duration": 22,
    "start_time": "2021-07-30T21:10:33.783Z"
   },
   {
    "duration": 8,
    "start_time": "2021-07-30T21:10:33.807Z"
   },
   {
    "duration": 18,
    "start_time": "2021-07-30T21:10:43.382Z"
   },
   {
    "duration": 89,
    "start_time": "2021-07-30T21:11:06.641Z"
   },
   {
    "duration": 4,
    "start_time": "2021-07-30T21:11:19.969Z"
   },
   {
    "duration": 16,
    "start_time": "2021-07-30T21:11:19.977Z"
   },
   {
    "duration": 15,
    "start_time": "2021-07-30T21:11:19.997Z"
   },
   {
    "duration": 58,
    "start_time": "2021-07-30T21:11:20.015Z"
   },
   {
    "duration": 18,
    "start_time": "2021-07-30T21:11:20.075Z"
   },
   {
    "duration": 20,
    "start_time": "2021-07-30T21:11:20.096Z"
   },
   {
    "duration": 11,
    "start_time": "2021-07-30T21:11:20.119Z"
   },
   {
    "duration": 27,
    "start_time": "2021-07-30T21:11:20.157Z"
   },
   {
    "duration": 12,
    "start_time": "2021-07-30T21:11:20.187Z"
   },
   {
    "duration": 16,
    "start_time": "2021-07-30T21:11:22.203Z"
   },
   {
    "duration": 16,
    "start_time": "2021-07-30T21:11:24.814Z"
   },
   {
    "duration": 16,
    "start_time": "2021-07-30T21:11:27.048Z"
   },
   {
    "duration": 4,
    "start_time": "2021-07-30T21:12:25.476Z"
   },
   {
    "duration": 4,
    "start_time": "2021-07-30T21:13:03.168Z"
   },
   {
    "duration": 16,
    "start_time": "2021-07-30T21:13:19.452Z"
   },
   {
    "duration": 9,
    "start_time": "2021-07-30T21:15:06.868Z"
   },
   {
    "duration": 11,
    "start_time": "2021-07-30T21:17:35.122Z"
   },
   {
    "duration": 273,
    "start_time": "2021-07-30T21:18:59.337Z"
   },
   {
    "duration": 278,
    "start_time": "2021-07-30T21:20:21.989Z"
   },
   {
    "duration": 287,
    "start_time": "2021-07-30T21:20:46.882Z"
   },
   {
    "duration": 270,
    "start_time": "2021-07-30T21:21:00.817Z"
   },
   {
    "duration": 28,
    "start_time": "2021-07-30T21:22:11.446Z"
   },
   {
    "duration": 3,
    "start_time": "2021-07-30T21:22:22.819Z"
   },
   {
    "duration": 28,
    "start_time": "2021-07-30T21:22:22.824Z"
   },
   {
    "duration": 22,
    "start_time": "2021-07-30T21:22:22.855Z"
   },
   {
    "duration": 35,
    "start_time": "2021-07-30T21:22:22.880Z"
   },
   {
    "duration": 54,
    "start_time": "2021-07-30T21:22:22.917Z"
   },
   {
    "duration": 17,
    "start_time": "2021-07-30T21:22:22.974Z"
   },
   {
    "duration": 19,
    "start_time": "2021-07-30T21:22:22.994Z"
   },
   {
    "duration": 13,
    "start_time": "2021-07-30T21:22:23.018Z"
   },
   {
    "duration": 41,
    "start_time": "2021-07-30T21:22:23.035Z"
   },
   {
    "duration": 16,
    "start_time": "2021-07-30T21:22:23.079Z"
   },
   {
    "duration": 28,
    "start_time": "2021-07-30T21:22:23.097Z"
   },
   {
    "duration": 28,
    "start_time": "2021-07-30T21:22:23.128Z"
   },
   {
    "duration": 25,
    "start_time": "2021-07-30T21:22:23.158Z"
   },
   {
    "duration": 14,
    "start_time": "2021-07-30T21:22:23.185Z"
   },
   {
    "duration": 20,
    "start_time": "2021-07-30T21:22:23.202Z"
   },
   {
    "duration": 31,
    "start_time": "2021-07-30T21:22:25.937Z"
   },
   {
    "duration": 13,
    "start_time": "2021-07-30T21:25:36.183Z"
   },
   {
    "duration": 269,
    "start_time": "2021-07-30T21:26:35.241Z"
   },
   {
    "duration": 9,
    "start_time": "2021-07-30T21:26:45.462Z"
   },
   {
    "duration": 12,
    "start_time": "2021-07-30T21:28:14.496Z"
   },
   {
    "duration": 6405,
    "start_time": "2021-07-30T21:28:17.347Z"
   },
   {
    "duration": 9,
    "start_time": "2021-07-30T21:28:53.340Z"
   },
   {
    "duration": 43,
    "start_time": "2021-07-30T21:29:50.558Z"
   },
   {
    "duration": 16,
    "start_time": "2021-07-30T21:29:52.959Z"
   },
   {
    "duration": 45,
    "start_time": "2021-07-30T21:29:59.184Z"
   },
   {
    "duration": 17,
    "start_time": "2021-07-30T21:30:01.373Z"
   },
   {
    "duration": 12,
    "start_time": "2021-07-30T21:32:21.424Z"
   },
   {
    "duration": 7,
    "start_time": "2021-07-30T21:32:59.227Z"
   },
   {
    "duration": 16,
    "start_time": "2021-07-30T21:41:08.838Z"
   },
   {
    "duration": 12,
    "start_time": "2021-07-30T21:41:46.522Z"
   },
   {
    "duration": 17,
    "start_time": "2021-07-30T21:42:20.837Z"
   },
   {
    "duration": 15,
    "start_time": "2021-07-30T21:42:34.007Z"
   },
   {
    "duration": 37,
    "start_time": "2021-07-30T21:43:57.259Z"
   },
   {
    "duration": 16,
    "start_time": "2021-07-30T21:43:59.765Z"
   },
   {
    "duration": 11,
    "start_time": "2021-07-30T21:44:32.896Z"
   },
   {
    "duration": 33,
    "start_time": "2021-07-30T21:44:43.456Z"
   },
   {
    "duration": 10,
    "start_time": "2021-07-30T21:44:46.321Z"
   },
   {
    "duration": 9,
    "start_time": "2021-07-30T21:45:20.493Z"
   },
   {
    "duration": 7,
    "start_time": "2021-07-30T21:45:41.306Z"
   },
   {
    "duration": 13,
    "start_time": "2021-07-30T21:47:11.593Z"
   },
   {
    "duration": 8,
    "start_time": "2021-07-30T21:51:20.388Z"
   },
   {
    "duration": 6929,
    "start_time": "2021-07-30T21:52:57.712Z"
   },
   {
    "duration": 10,
    "start_time": "2021-07-30T21:53:15.779Z"
   },
   {
    "duration": 9,
    "start_time": "2021-07-30T21:53:26.954Z"
   },
   {
    "duration": 7,
    "start_time": "2021-07-30T21:55:57.309Z"
   },
   {
    "duration": 7,
    "start_time": "2021-07-30T21:56:51.055Z"
   },
   {
    "duration": 39,
    "start_time": "2021-07-30T21:57:22.733Z"
   },
   {
    "duration": 38,
    "start_time": "2021-07-30T21:57:28.365Z"
   },
   {
    "duration": 36,
    "start_time": "2021-07-30T21:57:56.020Z"
   },
   {
    "duration": 13,
    "start_time": "2021-07-30T21:58:06.264Z"
   },
   {
    "duration": 18,
    "start_time": "2021-07-30T21:58:15.790Z"
   },
   {
    "duration": 3,
    "start_time": "2021-07-30T21:58:52.871Z"
   },
   {
    "duration": 1604,
    "start_time": "2021-07-30T21:58:52.877Z"
   },
   {
    "duration": 4,
    "start_time": "2021-07-30T21:58:54.484Z"
   },
   {
    "duration": 7,
    "start_time": "2021-07-30T21:58:54.491Z"
   },
   {
    "duration": 47,
    "start_time": "2021-07-30T21:58:54.501Z"
   },
   {
    "duration": 20,
    "start_time": "2021-07-30T21:58:54.551Z"
   },
   {
    "duration": 12,
    "start_time": "2021-07-30T21:58:54.574Z"
   },
   {
    "duration": 13,
    "start_time": "2021-07-30T21:58:54.590Z"
   },
   {
    "duration": 60,
    "start_time": "2021-07-30T21:58:54.606Z"
   },
   {
    "duration": 9,
    "start_time": "2021-07-30T21:58:54.668Z"
   },
   {
    "duration": 17,
    "start_time": "2021-07-30T21:58:54.679Z"
   },
   {
    "duration": 8,
    "start_time": "2021-07-30T21:58:54.699Z"
   },
   {
    "duration": 53,
    "start_time": "2021-07-30T21:58:54.710Z"
   },
   {
    "duration": 11,
    "start_time": "2021-07-30T21:58:54.766Z"
   },
   {
    "duration": 33,
    "start_time": "2021-07-30T21:58:54.780Z"
   },
   {
    "duration": 49,
    "start_time": "2021-07-30T21:58:54.815Z"
   },
   {
    "duration": 12,
    "start_time": "2021-07-30T21:58:54.867Z"
   },
   {
    "duration": 12,
    "start_time": "2021-07-30T21:58:54.882Z"
   },
   {
    "duration": 8,
    "start_time": "2021-07-30T21:58:54.896Z"
   },
   {
    "duration": 49,
    "start_time": "2021-07-30T21:58:54.907Z"
   },
   {
    "duration": 13,
    "start_time": "2021-07-30T21:58:54.960Z"
   },
   {
    "duration": 11,
    "start_time": "2021-07-30T21:58:54.976Z"
   },
   {
    "duration": 11,
    "start_time": "2021-07-30T21:58:54.993Z"
   },
   {
    "duration": 58,
    "start_time": "2021-07-30T21:58:55.007Z"
   },
   {
    "duration": 17,
    "start_time": "2021-07-30T21:58:55.068Z"
   },
   {
    "duration": 13,
    "start_time": "2021-07-30T21:58:55.088Z"
   },
   {
    "duration": 9,
    "start_time": "2021-07-30T21:58:55.104Z"
   },
   {
    "duration": 49,
    "start_time": "2021-07-30T21:58:55.116Z"
   },
   {
    "duration": 44,
    "start_time": "2021-07-30T21:58:59.071Z"
   },
   {
    "duration": 33,
    "start_time": "2021-07-30T21:59:07.590Z"
   },
   {
    "duration": 10,
    "start_time": "2021-07-30T21:59:09.264Z"
   },
   {
    "duration": 9,
    "start_time": "2021-07-30T21:59:12.301Z"
   },
   {
    "duration": 8,
    "start_time": "2021-07-30T21:59:15.810Z"
   },
   {
    "duration": 13,
    "start_time": "2021-07-30T21:59:18.549Z"
   },
   {
    "duration": 425,
    "start_time": "2021-07-30T22:03:19.981Z"
   },
   {
    "duration": 92,
    "start_time": "2021-07-30T22:04:07.760Z"
   },
   {
    "duration": 98,
    "start_time": "2021-07-30T22:04:16.354Z"
   },
   {
    "duration": 276,
    "start_time": "2021-07-30T22:04:23.179Z"
   },
   {
    "duration": 273,
    "start_time": "2021-07-30T22:06:21.026Z"
   },
   {
    "duration": 19,
    "start_time": "2021-07-30T22:08:47.464Z"
   },
   {
    "duration": 150,
    "start_time": "2021-07-30T22:09:22.016Z"
   },
   {
    "duration": 88,
    "start_time": "2021-07-30T22:09:29.208Z"
   },
   {
    "duration": 42,
    "start_time": "2021-07-30T22:09:36.612Z"
   },
   {
    "duration": 48,
    "start_time": "2021-07-30T22:09:38.974Z"
   },
   {
    "duration": 21,
    "start_time": "2021-07-30T22:12:21.247Z"
   },
   {
    "duration": 3,
    "start_time": "2021-07-30T22:13:33.862Z"
   },
   {
    "duration": 8,
    "start_time": "2021-07-30T22:13:33.868Z"
   },
   {
    "duration": 8,
    "start_time": "2021-07-30T22:13:33.879Z"
   },
   {
    "duration": 4,
    "start_time": "2021-07-30T22:13:33.890Z"
   },
   {
    "duration": 68,
    "start_time": "2021-07-30T22:13:33.897Z"
   },
   {
    "duration": 16,
    "start_time": "2021-07-30T22:13:33.967Z"
   },
   {
    "duration": 12,
    "start_time": "2021-07-30T22:13:33.988Z"
   },
   {
    "duration": 8,
    "start_time": "2021-07-30T22:13:34.003Z"
   },
   {
    "duration": 58,
    "start_time": "2021-07-30T22:13:34.014Z"
   },
   {
    "duration": 9,
    "start_time": "2021-07-30T22:13:34.075Z"
   },
   {
    "duration": 16,
    "start_time": "2021-07-30T22:13:34.086Z"
   },
   {
    "duration": 10,
    "start_time": "2021-07-30T22:13:34.104Z"
   },
   {
    "duration": 56,
    "start_time": "2021-07-30T22:13:34.116Z"
   },
   {
    "duration": 11,
    "start_time": "2021-07-30T22:13:34.174Z"
   },
   {
    "duration": 30,
    "start_time": "2021-07-30T22:13:34.187Z"
   },
   {
    "duration": 41,
    "start_time": "2021-07-30T22:13:34.219Z"
   },
   {
    "duration": 12,
    "start_time": "2021-07-30T22:13:34.263Z"
   },
   {
    "duration": 25,
    "start_time": "2021-07-30T22:13:34.277Z"
   },
   {
    "duration": 6,
    "start_time": "2021-07-30T22:13:34.307Z"
   },
   {
    "duration": 40,
    "start_time": "2021-07-30T22:13:34.316Z"
   },
   {
    "duration": 8,
    "start_time": "2021-07-30T22:13:34.358Z"
   },
   {
    "duration": 21,
    "start_time": "2021-07-30T22:13:34.368Z"
   },
   {
    "duration": 28,
    "start_time": "2021-07-30T22:13:34.392Z"
   },
   {
    "duration": 37,
    "start_time": "2021-07-30T22:13:34.422Z"
   },
   {
    "duration": 17,
    "start_time": "2021-07-30T22:13:34.461Z"
   },
   {
    "duration": 10,
    "start_time": "2021-07-30T22:13:34.481Z"
   },
   {
    "duration": 9,
    "start_time": "2021-07-30T22:13:34.494Z"
   },
   {
    "duration": 101,
    "start_time": "2021-07-30T22:13:34.506Z"
   },
   {
    "duration": 21,
    "start_time": "2021-07-30T22:13:34.609Z"
   },
   {
    "duration": 24,
    "start_time": "2021-07-30T22:13:34.633Z"
   },
   {
    "duration": 11,
    "start_time": "2021-07-30T22:13:34.659Z"
   },
   {
    "duration": 9,
    "start_time": "2021-07-30T22:13:34.672Z"
   },
   {
    "duration": 13,
    "start_time": "2021-07-30T22:13:34.683Z"
   },
   {
    "duration": 40,
    "start_time": "2021-07-30T22:13:37.039Z"
   },
   {
    "duration": 49,
    "start_time": "2021-07-30T22:13:38.596Z"
   },
   {
    "duration": 46,
    "start_time": "2021-07-30T22:19:37.470Z"
   },
   {
    "duration": 21,
    "start_time": "2021-07-30T22:20:14.529Z"
   },
   {
    "duration": 15,
    "start_time": "2021-07-30T22:21:45.592Z"
   },
   {
    "duration": 40,
    "start_time": "2021-07-30T22:23:57.264Z"
   },
   {
    "duration": 15,
    "start_time": "2021-07-30T22:24:00.293Z"
   },
   {
    "duration": 12,
    "start_time": "2021-07-30T22:24:19.636Z"
   },
   {
    "duration": 6524,
    "start_time": "2021-07-30T22:25:53.779Z"
   },
   {
    "duration": 46,
    "start_time": "2021-07-30T22:26:45.353Z"
   },
   {
    "duration": 44,
    "start_time": "2021-07-30T22:26:49.800Z"
   },
   {
    "duration": 3,
    "start_time": "2021-07-30T22:29:36.445Z"
   },
   {
    "duration": 31,
    "start_time": "2021-07-30T22:29:36.450Z"
   },
   {
    "duration": 48,
    "start_time": "2021-07-30T22:29:36.484Z"
   },
   {
    "duration": 35,
    "start_time": "2021-07-30T22:29:36.535Z"
   },
   {
    "duration": 77,
    "start_time": "2021-07-30T22:29:36.573Z"
   },
   {
    "duration": 29,
    "start_time": "2021-07-30T22:29:36.653Z"
   },
   {
    "duration": 22,
    "start_time": "2021-07-30T22:29:36.685Z"
   },
   {
    "duration": 21,
    "start_time": "2021-07-30T22:29:36.709Z"
   },
   {
    "duration": 47,
    "start_time": "2021-07-30T22:29:36.734Z"
   },
   {
    "duration": 23,
    "start_time": "2021-07-30T22:29:36.784Z"
   },
   {
    "duration": 34,
    "start_time": "2021-07-30T22:29:36.811Z"
   },
   {
    "duration": 21,
    "start_time": "2021-07-30T22:29:36.848Z"
   },
   {
    "duration": 71,
    "start_time": "2021-07-30T22:29:36.872Z"
   },
   {
    "duration": 21,
    "start_time": "2021-07-30T22:29:36.946Z"
   },
   {
    "duration": 54,
    "start_time": "2021-07-30T22:29:36.969Z"
   },
   {
    "duration": 31,
    "start_time": "2021-07-30T22:29:37.027Z"
   },
   {
    "duration": 36,
    "start_time": "2021-07-30T22:29:37.061Z"
   },
   {
    "duration": 45,
    "start_time": "2021-07-30T22:29:37.099Z"
   },
   {
    "duration": 28,
    "start_time": "2021-07-30T22:29:37.146Z"
   },
   {
    "duration": 38,
    "start_time": "2021-07-30T22:29:37.177Z"
   },
   {
    "duration": 31,
    "start_time": "2021-07-30T22:29:37.217Z"
   },
   {
    "duration": 39,
    "start_time": "2021-07-30T22:29:37.250Z"
   },
   {
    "duration": 38,
    "start_time": "2021-07-30T22:29:37.291Z"
   },
   {
    "duration": 32,
    "start_time": "2021-07-30T22:29:37.332Z"
   },
   {
    "duration": 47,
    "start_time": "2021-07-30T22:29:37.367Z"
   },
   {
    "duration": 44,
    "start_time": "2021-07-30T22:29:37.417Z"
   },
   {
    "duration": 38,
    "start_time": "2021-07-30T22:29:37.466Z"
   },
   {
    "duration": 68,
    "start_time": "2021-07-30T22:29:37.507Z"
   },
   {
    "duration": 23,
    "start_time": "2021-07-30T22:29:37.577Z"
   },
   {
    "duration": 31,
    "start_time": "2021-07-30T22:29:37.602Z"
   },
   {
    "duration": 40,
    "start_time": "2021-07-30T22:29:37.635Z"
   },
   {
    "duration": 36,
    "start_time": "2021-07-30T22:29:37.678Z"
   },
   {
    "duration": 10,
    "start_time": "2021-07-30T22:29:39.807Z"
   },
   {
    "duration": 4,
    "start_time": "2021-07-30T22:31:58.595Z"
   },
   {
    "duration": 14,
    "start_time": "2021-07-30T22:31:58.601Z"
   },
   {
    "duration": 22,
    "start_time": "2021-07-30T22:31:58.618Z"
   },
   {
    "duration": 10,
    "start_time": "2021-07-30T22:31:58.643Z"
   },
   {
    "duration": 53,
    "start_time": "2021-07-30T22:31:58.655Z"
   },
   {
    "duration": 16,
    "start_time": "2021-07-30T22:31:58.710Z"
   },
   {
    "duration": 11,
    "start_time": "2021-07-30T22:31:58.729Z"
   },
   {
    "duration": 21,
    "start_time": "2021-07-30T22:31:58.743Z"
   },
   {
    "duration": 30,
    "start_time": "2021-07-30T22:31:58.766Z"
   },
   {
    "duration": 9,
    "start_time": "2021-07-30T22:31:58.799Z"
   },
   {
    "duration": 24,
    "start_time": "2021-07-30T22:31:58.810Z"
   },
   {
    "duration": 22,
    "start_time": "2021-07-30T22:31:58.836Z"
   },
   {
    "duration": 35,
    "start_time": "2021-07-30T22:31:58.861Z"
   },
   {
    "duration": 11,
    "start_time": "2021-07-30T22:31:58.899Z"
   },
   {
    "duration": 45,
    "start_time": "2021-07-30T22:31:58.912Z"
   },
   {
    "duration": 24,
    "start_time": "2021-07-30T22:31:58.959Z"
   },
   {
    "duration": 16,
    "start_time": "2021-07-30T22:31:58.986Z"
   },
   {
    "duration": 20,
    "start_time": "2021-07-30T22:31:59.004Z"
   },
   {
    "duration": 17,
    "start_time": "2021-07-30T22:31:59.028Z"
   },
   {
    "duration": 14,
    "start_time": "2021-07-30T22:31:59.055Z"
   },
   {
    "duration": 14,
    "start_time": "2021-07-30T22:31:59.071Z"
   },
   {
    "duration": 29,
    "start_time": "2021-07-30T22:31:59.087Z"
   },
   {
    "duration": 41,
    "start_time": "2021-07-30T22:31:59.118Z"
   },
   {
    "duration": 15,
    "start_time": "2021-07-30T22:31:59.162Z"
   },
   {
    "duration": 23,
    "start_time": "2021-07-30T22:31:59.179Z"
   },
   {
    "duration": 19,
    "start_time": "2021-07-30T22:31:59.205Z"
   },
   {
    "duration": 30,
    "start_time": "2021-07-30T22:31:59.226Z"
   },
   {
    "duration": 56,
    "start_time": "2021-07-30T22:31:59.258Z"
   },
   {
    "duration": 20,
    "start_time": "2021-07-30T22:31:59.316Z"
   },
   {
    "duration": 15,
    "start_time": "2021-07-30T22:31:59.338Z"
   },
   {
    "duration": 21,
    "start_time": "2021-07-30T22:31:59.355Z"
   },
   {
    "duration": 14,
    "start_time": "2021-07-30T22:31:59.379Z"
   },
   {
    "duration": 13,
    "start_time": "2021-07-30T22:31:59.395Z"
   },
   {
    "duration": 45,
    "start_time": "2021-07-30T22:32:01.023Z"
   },
   {
    "duration": 333,
    "start_time": "2021-07-30T22:32:19.165Z"
   },
   {
    "duration": 50,
    "start_time": "2021-07-30T22:32:29.177Z"
   },
   {
    "duration": 45,
    "start_time": "2021-07-30T22:32:33.400Z"
   },
   {
    "duration": 294,
    "start_time": "2021-07-31T19:45:22.984Z"
   },
   {
    "duration": 3,
    "start_time": "2021-07-31T19:45:28.269Z"
   },
   {
    "duration": 1553,
    "start_time": "2021-07-31T19:45:28.276Z"
   },
   {
    "duration": 3,
    "start_time": "2021-07-31T19:45:29.832Z"
   },
   {
    "duration": 10,
    "start_time": "2021-07-31T19:45:29.839Z"
   },
   {
    "duration": 44,
    "start_time": "2021-07-31T19:45:29.852Z"
   },
   {
    "duration": 19,
    "start_time": "2021-07-31T19:45:29.899Z"
   },
   {
    "duration": 14,
    "start_time": "2021-07-31T19:45:29.922Z"
   },
   {
    "duration": 29,
    "start_time": "2021-07-31T19:45:29.939Z"
   },
   {
    "duration": 22,
    "start_time": "2021-07-31T19:45:29.971Z"
   },
   {
    "duration": 9,
    "start_time": "2021-07-31T19:45:29.995Z"
   },
   {
    "duration": 17,
    "start_time": "2021-07-31T19:45:30.006Z"
   },
   {
    "duration": 44,
    "start_time": "2021-07-31T19:45:30.026Z"
   },
   {
    "duration": 22,
    "start_time": "2021-07-31T19:45:30.073Z"
   },
   {
    "duration": 11,
    "start_time": "2021-07-31T19:45:30.097Z"
   },
   {
    "duration": 71,
    "start_time": "2021-07-31T19:45:30.110Z"
   },
   {
    "duration": 22,
    "start_time": "2021-07-31T19:45:30.183Z"
   },
   {
    "duration": 12,
    "start_time": "2021-07-31T19:45:30.207Z"
   },
   {
    "duration": 21,
    "start_time": "2021-07-31T19:45:30.221Z"
   },
   {
    "duration": 24,
    "start_time": "2021-07-31T19:45:30.246Z"
   },
   {
    "duration": 14,
    "start_time": "2021-07-31T19:45:30.272Z"
   },
   {
    "duration": 24,
    "start_time": "2021-07-31T19:45:30.288Z"
   },
   {
    "duration": 31,
    "start_time": "2021-07-31T19:45:30.315Z"
   },
   {
    "duration": 34,
    "start_time": "2021-07-31T19:45:30.348Z"
   },
   {
    "duration": 16,
    "start_time": "2021-07-31T19:45:30.385Z"
   },
   {
    "duration": 16,
    "start_time": "2021-07-31T19:45:30.403Z"
   },
   {
    "duration": 15,
    "start_time": "2021-07-31T19:45:30.422Z"
   },
   {
    "duration": 32,
    "start_time": "2021-07-31T19:45:30.439Z"
   },
   {
    "duration": 51,
    "start_time": "2021-07-31T19:45:30.473Z"
   },
   {
    "duration": 19,
    "start_time": "2021-07-31T19:45:30.527Z"
   },
   {
    "duration": 23,
    "start_time": "2021-07-31T19:45:30.549Z"
   },
   {
    "duration": 30,
    "start_time": "2021-07-31T19:45:30.574Z"
   },
   {
    "duration": 39,
    "start_time": "2021-07-31T19:45:30.606Z"
   },
   {
    "duration": 27,
    "start_time": "2021-07-31T19:45:30.648Z"
   },
   {
    "duration": 66,
    "start_time": "2021-07-31T19:45:30.678Z"
   },
   {
    "duration": 47,
    "start_time": "2021-07-31T19:45:30.747Z"
   },
   {
    "duration": 6,
    "start_time": "2021-07-31T19:45:36.574Z"
   },
   {
    "duration": 45,
    "start_time": "2021-07-31T19:45:38.840Z"
   },
   {
    "duration": 429,
    "start_time": "2021-07-31T19:46:01.252Z"
   },
   {
    "duration": 6,
    "start_time": "2021-07-31T19:46:20.055Z"
   },
   {
    "duration": 43,
    "start_time": "2021-07-31T19:46:24.347Z"
   },
   {
    "duration": 9,
    "start_time": "2021-07-31T19:46:50.812Z"
   },
   {
    "duration": 46,
    "start_time": "2021-07-31T19:46:52.110Z"
   },
   {
    "duration": 217,
    "start_time": "2021-07-31T19:53:01.545Z"
   },
   {
    "duration": 257,
    "start_time": "2021-07-31T19:53:39.356Z"
   },
   {
    "duration": 6,
    "start_time": "2021-07-31T19:53:58.593Z"
   },
   {
    "duration": 46,
    "start_time": "2021-07-31T19:54:02.628Z"
   },
   {
    "duration": 273,
    "start_time": "2021-07-31T20:05:20.322Z"
   },
   {
    "duration": 259,
    "start_time": "2021-07-31T20:05:38.481Z"
   },
   {
    "duration": 273,
    "start_time": "2021-07-31T20:07:42.969Z"
   },
   {
    "duration": 218,
    "start_time": "2021-07-31T20:08:37.984Z"
   },
   {
    "duration": 254,
    "start_time": "2021-07-31T20:08:53.419Z"
   },
   {
    "duration": 50,
    "start_time": "2021-07-31T20:11:15.555Z"
   },
   {
    "duration": 47,
    "start_time": "2021-07-31T20:11:18.131Z"
   },
   {
    "duration": 8,
    "start_time": "2021-07-31T20:11:21.443Z"
   },
   {
    "duration": 46,
    "start_time": "2021-07-31T20:11:28.233Z"
   },
   {
    "duration": 49,
    "start_time": "2021-07-31T20:16:19.199Z"
   },
   {
    "duration": 44,
    "start_time": "2021-07-31T20:16:21.765Z"
   },
   {
    "duration": 9,
    "start_time": "2021-07-31T20:16:26.506Z"
   },
   {
    "duration": 273,
    "start_time": "2021-07-31T20:16:34.328Z"
   },
   {
    "duration": 15,
    "start_time": "2021-07-31T20:16:48.474Z"
   },
   {
    "duration": 35,
    "start_time": "2021-07-31T20:16:52.794Z"
   },
   {
    "duration": 27,
    "start_time": "2021-07-31T20:22:18.381Z"
   },
   {
    "duration": 30,
    "start_time": "2021-07-31T20:22:24.752Z"
   },
   {
    "duration": 11,
    "start_time": "2021-07-31T20:35:02.548Z"
   },
   {
    "duration": 6,
    "start_time": "2021-07-31T20:37:04.329Z"
   },
   {
    "duration": 5,
    "start_time": "2021-07-31T20:40:50.224Z"
   },
   {
    "duration": 6,
    "start_time": "2021-07-31T20:42:26.925Z"
   },
   {
    "duration": 286,
    "start_time": "2021-07-31T20:44:03.771Z"
   },
   {
    "duration": 7,
    "start_time": "2021-07-31T20:45:36.775Z"
   },
   {
    "duration": 8,
    "start_time": "2021-07-31T20:45:50.298Z"
   },
   {
    "duration": 6,
    "start_time": "2021-07-31T20:46:01.188Z"
   },
   {
    "duration": 213,
    "start_time": "2021-07-31T20:47:04.508Z"
   },
   {
    "duration": 6,
    "start_time": "2021-07-31T20:49:42.576Z"
   },
   {
    "duration": 8,
    "start_time": "2021-07-31T20:50:31.183Z"
   },
   {
    "duration": 8,
    "start_time": "2021-07-31T20:50:43.162Z"
   },
   {
    "duration": 6,
    "start_time": "2021-07-31T20:51:16.912Z"
   },
   {
    "duration": 205,
    "start_time": "2021-07-31T20:55:25.333Z"
   },
   {
    "duration": 6,
    "start_time": "2021-07-31T20:58:54.343Z"
   },
   {
    "duration": 4,
    "start_time": "2021-07-31T20:59:03.230Z"
   },
   {
    "duration": 4,
    "start_time": "2021-07-31T20:59:08.038Z"
   },
   {
    "duration": 6,
    "start_time": "2021-07-31T20:59:18.328Z"
   },
   {
    "duration": 7,
    "start_time": "2021-07-31T20:59:35.788Z"
   },
   {
    "duration": 266,
    "start_time": "2021-07-31T21:01:22.870Z"
   },
   {
    "duration": 288,
    "start_time": "2021-07-31T21:01:45.242Z"
   },
   {
    "duration": 14,
    "start_time": "2021-07-31T21:01:57.746Z"
   },
   {
    "duration": 266,
    "start_time": "2021-07-31T21:03:13.842Z"
   },
   {
    "duration": 45,
    "start_time": "2021-07-31T21:03:26.809Z"
   },
   {
    "duration": 39,
    "start_time": "2021-07-31T21:03:38.104Z"
   },
   {
    "duration": 234,
    "start_time": "2021-07-31T21:06:06.512Z"
   },
   {
    "duration": 225,
    "start_time": "2021-07-31T21:06:15.768Z"
   },
   {
    "duration": 48,
    "start_time": "2021-07-31T21:06:31.239Z"
   },
   {
    "duration": 4,
    "start_time": "2021-07-31T21:06:50.531Z"
   },
   {
    "duration": 7,
    "start_time": "2021-07-31T21:06:57.544Z"
   },
   {
    "duration": 216,
    "start_time": "2021-07-31T21:07:40.723Z"
   },
   {
    "duration": 8,
    "start_time": "2021-07-31T21:08:02.699Z"
   },
   {
    "duration": 33,
    "start_time": "2021-07-31T21:08:11.954Z"
   },
   {
    "duration": 198,
    "start_time": "2021-07-31T21:09:37.407Z"
   },
   {
    "duration": 17,
    "start_time": "2021-07-31T21:09:47.967Z"
   },
   {
    "duration": 6,
    "start_time": "2021-07-31T21:09:49.886Z"
   },
   {
    "duration": 4,
    "start_time": "2021-07-31T21:14:48.808Z"
   },
   {
    "duration": 2797,
    "start_time": "2021-07-31T21:18:03.376Z"
   },
   {
    "duration": 165,
    "start_time": "2021-07-31T21:23:46.107Z"
   },
   {
    "duration": 2308,
    "start_time": "2021-07-31T21:24:21.947Z"
   },
   {
    "duration": 2263,
    "start_time": "2021-07-31T21:24:41.808Z"
   },
   {
    "duration": 56,
    "start_time": "2021-07-31T21:26:23.521Z"
   },
   {
    "duration": 9,
    "start_time": "2021-07-31T21:26:45.436Z"
   },
   {
    "duration": 1631,
    "start_time": "2021-07-31T21:29:01.245Z"
   },
   {
    "duration": 24,
    "start_time": "2021-07-31T21:33:42.022Z"
   },
   {
    "duration": 1824,
    "start_time": "2021-07-31T21:33:55.718Z"
   },
   {
    "duration": 82944,
    "start_time": "2021-07-31T21:36:02.654Z"
   },
   {
    "duration": 8529,
    "start_time": "2021-07-31T21:52:19.143Z"
   },
   {
    "duration": 4,
    "start_time": "2021-07-31T21:53:30.773Z"
   },
   {
    "duration": 1545,
    "start_time": "2021-07-31T21:53:30.780Z"
   },
   {
    "duration": 3,
    "start_time": "2021-07-31T21:53:32.328Z"
   },
   {
    "duration": 6,
    "start_time": "2021-07-31T21:53:32.334Z"
   },
   {
    "duration": 46,
    "start_time": "2021-07-31T21:53:32.342Z"
   },
   {
    "duration": 20,
    "start_time": "2021-07-31T21:53:32.390Z"
   },
   {
    "duration": 13,
    "start_time": "2021-07-31T21:53:32.412Z"
   },
   {
    "duration": 7,
    "start_time": "2021-07-31T21:53:32.428Z"
   },
   {
    "duration": 23,
    "start_time": "2021-07-31T21:53:32.466Z"
   },
   {
    "duration": 8,
    "start_time": "2021-07-31T21:53:32.491Z"
   },
   {
    "duration": 16,
    "start_time": "2021-07-31T21:53:32.502Z"
   },
   {
    "duration": 49,
    "start_time": "2021-07-31T21:53:32.520Z"
   },
   {
    "duration": 23,
    "start_time": "2021-07-31T21:53:32.572Z"
   },
   {
    "duration": 11,
    "start_time": "2021-07-31T21:53:32.597Z"
   },
   {
    "duration": 58,
    "start_time": "2021-07-31T21:53:32.610Z"
   },
   {
    "duration": 23,
    "start_time": "2021-07-31T21:53:32.671Z"
   },
   {
    "duration": 11,
    "start_time": "2021-07-31T21:53:32.697Z"
   },
   {
    "duration": 14,
    "start_time": "2021-07-31T21:53:32.710Z"
   },
   {
    "duration": 7,
    "start_time": "2021-07-31T21:53:32.726Z"
   },
   {
    "duration": 38,
    "start_time": "2021-07-31T21:53:32.735Z"
   },
   {
    "duration": 16,
    "start_time": "2021-07-31T21:53:32.776Z"
   },
   {
    "duration": 21,
    "start_time": "2021-07-31T21:53:32.794Z"
   },
   {
    "duration": 50,
    "start_time": "2021-07-31T21:53:32.821Z"
   },
   {
    "duration": 15,
    "start_time": "2021-07-31T21:53:32.873Z"
   },
   {
    "duration": 13,
    "start_time": "2021-07-31T21:53:32.891Z"
   },
   {
    "duration": 11,
    "start_time": "2021-07-31T21:53:32.906Z"
   },
   {
    "duration": 9,
    "start_time": "2021-07-31T21:53:32.920Z"
   },
   {
    "duration": 76,
    "start_time": "2021-07-31T21:53:32.932Z"
   },
   {
    "duration": 18,
    "start_time": "2021-07-31T21:53:33.011Z"
   },
   {
    "duration": 9,
    "start_time": "2021-07-31T21:53:33.031Z"
   },
   {
    "duration": 31,
    "start_time": "2021-07-31T21:53:33.042Z"
   },
   {
    "duration": 8,
    "start_time": "2021-07-31T21:53:33.075Z"
   },
   {
    "duration": 9,
    "start_time": "2021-07-31T21:53:33.085Z"
   },
   {
    "duration": 94,
    "start_time": "2021-07-31T21:53:33.096Z"
   },
   {
    "duration": 7,
    "start_time": "2021-07-31T21:53:33.193Z"
   },
   {
    "duration": 18,
    "start_time": "2021-07-31T21:53:33.203Z"
   },
   {
    "duration": 48,
    "start_time": "2021-07-31T21:53:33.223Z"
   },
   {
    "duration": 28,
    "start_time": "2021-07-31T21:53:33.274Z"
   },
   {
    "duration": 11,
    "start_time": "2021-07-31T21:53:33.304Z"
   },
   {
    "duration": 2,
    "start_time": "2021-07-31T21:53:33.318Z"
   },
   {
    "duration": 7,
    "start_time": "2021-07-31T21:53:33.322Z"
   },
   {
    "duration": 37,
    "start_time": "2021-07-31T21:53:33.331Z"
   },
   {
    "duration": 18,
    "start_time": "2021-07-31T21:53:33.371Z"
   },
   {
    "duration": 6,
    "start_time": "2021-07-31T21:53:33.392Z"
   },
   {
    "duration": 3231,
    "start_time": "2021-07-31T21:53:39.844Z"
   },
   {
    "duration": 9133,
    "start_time": "2021-07-31T21:54:07.542Z"
   },
   {
    "duration": 3,
    "start_time": "2021-07-31T22:11:33.307Z"
   },
   {
    "duration": 1510,
    "start_time": "2021-07-31T22:11:33.313Z"
   },
   {
    "duration": 4,
    "start_time": "2021-07-31T22:11:34.826Z"
   },
   {
    "duration": 7,
    "start_time": "2021-07-31T22:11:34.832Z"
   },
   {
    "duration": 46,
    "start_time": "2021-07-31T22:11:34.841Z"
   },
   {
    "duration": 22,
    "start_time": "2021-07-31T22:11:34.889Z"
   },
   {
    "duration": 12,
    "start_time": "2021-07-31T22:11:34.916Z"
   },
   {
    "duration": 37,
    "start_time": "2021-07-31T22:11:34.932Z"
   },
   {
    "duration": 25,
    "start_time": "2021-07-31T22:11:34.972Z"
   },
   {
    "duration": 10,
    "start_time": "2021-07-31T22:11:34.999Z"
   },
   {
    "duration": 57,
    "start_time": "2021-07-31T22:11:35.012Z"
   },
   {
    "duration": 10,
    "start_time": "2021-07-31T22:11:35.071Z"
   },
   {
    "duration": 29,
    "start_time": "2021-07-31T22:11:35.083Z"
   },
   {
    "duration": 13,
    "start_time": "2021-07-31T22:11:35.115Z"
   },
   {
    "duration": 66,
    "start_time": "2021-07-31T22:11:35.131Z"
   },
   {
    "duration": 25,
    "start_time": "2021-07-31T22:11:35.201Z"
   },
   {
    "duration": 11,
    "start_time": "2021-07-31T22:11:35.229Z"
   },
   {
    "duration": 31,
    "start_time": "2021-07-31T22:11:35.243Z"
   },
   {
    "duration": 7,
    "start_time": "2021-07-31T22:11:35.279Z"
   },
   {
    "duration": 14,
    "start_time": "2021-07-31T22:11:35.289Z"
   },
   {
    "duration": 9,
    "start_time": "2021-07-31T22:11:35.306Z"
   },
   {
    "duration": 22,
    "start_time": "2021-07-31T22:11:35.367Z"
   },
   {
    "duration": 29,
    "start_time": "2021-07-31T22:11:35.392Z"
   },
   {
    "duration": 16,
    "start_time": "2021-07-31T22:11:35.423Z"
   },
   {
    "duration": 10,
    "start_time": "2021-07-31T22:11:35.467Z"
   },
   {
    "duration": 16,
    "start_time": "2021-07-31T22:11:35.479Z"
   },
   {
    "duration": 13,
    "start_time": "2021-07-31T22:11:35.497Z"
   },
   {
    "duration": 66,
    "start_time": "2021-07-31T22:11:35.512Z"
   },
   {
    "duration": 19,
    "start_time": "2021-07-31T22:11:35.581Z"
   },
   {
    "duration": 9,
    "start_time": "2021-07-31T22:11:35.602Z"
   },
   {
    "duration": 11,
    "start_time": "2021-07-31T22:11:35.613Z"
   },
   {
    "duration": 9,
    "start_time": "2021-07-31T22:11:35.626Z"
   },
   {
    "duration": 32,
    "start_time": "2021-07-31T22:11:35.637Z"
   },
   {
    "duration": 55,
    "start_time": "2021-07-31T22:11:37.825Z"
   },
   {
    "duration": 9,
    "start_time": "2021-07-31T22:11:41.500Z"
   },
   {
    "duration": 16,
    "start_time": "2021-07-31T22:11:43.856Z"
   },
   {
    "duration": 36,
    "start_time": "2021-07-31T22:11:45.865Z"
   },
   {
    "duration": 26,
    "start_time": "2021-07-31T22:12:24.207Z"
   },
   {
    "duration": 12,
    "start_time": "2021-07-31T22:12:25.811Z"
   },
   {
    "duration": 4,
    "start_time": "2021-07-31T22:12:45.521Z"
   },
   {
    "duration": 16,
    "start_time": "2021-07-31T22:12:47.081Z"
   },
   {
    "duration": 7,
    "start_time": "2021-07-31T22:12:50.600Z"
   },
   {
    "duration": 18,
    "start_time": "2021-07-31T22:12:51.694Z"
   },
   {
    "duration": 7,
    "start_time": "2021-07-31T22:12:52.526Z"
   },
   {
    "duration": 2198,
    "start_time": "2021-07-31T22:12:57.071Z"
   },
   {
    "duration": 5,
    "start_time": "2021-07-31T22:13:31.547Z"
   },
   {
    "duration": 1571,
    "start_time": "2021-07-31T22:13:31.555Z"
   },
   {
    "duration": 4,
    "start_time": "2021-07-31T22:13:33.128Z"
   },
   {
    "duration": 6,
    "start_time": "2021-07-31T22:13:33.135Z"
   },
   {
    "duration": 46,
    "start_time": "2021-07-31T22:13:33.144Z"
   },
   {
    "duration": 20,
    "start_time": "2021-07-31T22:13:33.192Z"
   },
   {
    "duration": 13,
    "start_time": "2021-07-31T22:13:33.214Z"
   },
   {
    "duration": 7,
    "start_time": "2021-07-31T22:13:33.230Z"
   },
   {
    "duration": 22,
    "start_time": "2021-07-31T22:13:33.267Z"
   },
   {
    "duration": 8,
    "start_time": "2021-07-31T22:13:33.292Z"
   },
   {
    "duration": 13,
    "start_time": "2021-07-31T22:13:33.302Z"
   },
   {
    "duration": 8,
    "start_time": "2021-07-31T22:13:33.317Z"
   },
   {
    "duration": 56,
    "start_time": "2021-07-31T22:13:33.327Z"
   },
   {
    "duration": 10,
    "start_time": "2021-07-31T22:13:33.385Z"
   },
   {
    "duration": 33,
    "start_time": "2021-07-31T22:13:33.398Z"
   },
   {
    "duration": 43,
    "start_time": "2021-07-31T22:13:33.434Z"
   },
   {
    "duration": 11,
    "start_time": "2021-07-31T22:13:33.480Z"
   },
   {
    "duration": 10,
    "start_time": "2021-07-31T22:13:33.494Z"
   },
   {
    "duration": 6,
    "start_time": "2021-07-31T22:13:33.507Z"
   },
   {
    "duration": 12,
    "start_time": "2021-07-31T22:13:33.515Z"
   },
   {
    "duration": 7,
    "start_time": "2021-07-31T22:13:33.568Z"
   },
   {
    "duration": 19,
    "start_time": "2021-07-31T22:13:33.578Z"
   },
   {
    "duration": 26,
    "start_time": "2021-07-31T22:13:33.604Z"
   },
   {
    "duration": 44,
    "start_time": "2021-07-31T22:13:33.633Z"
   },
   {
    "duration": 17,
    "start_time": "2021-07-31T22:13:33.679Z"
   },
   {
    "duration": 10,
    "start_time": "2021-07-31T22:13:33.699Z"
   },
   {
    "duration": 15,
    "start_time": "2021-07-31T22:13:33.711Z"
   },
   {
    "duration": 73,
    "start_time": "2021-07-31T22:13:33.728Z"
   },
   {
    "duration": 19,
    "start_time": "2021-07-31T22:13:33.804Z"
   },
   {
    "duration": 14,
    "start_time": "2021-07-31T22:13:33.825Z"
   },
   {
    "duration": 27,
    "start_time": "2021-07-31T22:13:33.841Z"
   },
   {
    "duration": 7,
    "start_time": "2021-07-31T22:13:33.871Z"
   },
   {
    "duration": 15,
    "start_time": "2021-07-31T22:13:33.881Z"
   },
   {
    "duration": 71,
    "start_time": "2021-07-31T22:13:33.898Z"
   },
   {
    "duration": 8,
    "start_time": "2021-07-31T22:13:33.972Z"
   },
   {
    "duration": 15,
    "start_time": "2021-07-31T22:13:33.982Z"
   },
   {
    "duration": 38,
    "start_time": "2021-07-31T22:13:33.999Z"
   },
   {
    "duration": 50,
    "start_time": "2021-07-31T22:13:34.040Z"
   },
   {
    "duration": 13,
    "start_time": "2021-07-31T22:13:34.092Z"
   },
   {
    "duration": 13,
    "start_time": "2021-07-31T22:13:34.108Z"
   },
   {
    "duration": 13,
    "start_time": "2021-07-31T22:13:34.124Z"
   },
   {
    "duration": 15,
    "start_time": "2021-07-31T22:13:34.139Z"
   },
   {
    "duration": 41,
    "start_time": "2021-07-31T22:13:34.156Z"
   },
   {
    "duration": 6,
    "start_time": "2021-07-31T22:13:34.200Z"
   },
   {
    "duration": 3449,
    "start_time": "2021-07-31T22:13:36.324Z"
   },
   {
    "duration": 65,
    "start_time": "2021-07-31T22:19:05.135Z"
   },
   {
    "duration": 4,
    "start_time": "2021-07-31T22:20:19.301Z"
   },
   {
    "duration": 9,
    "start_time": "2021-07-31T22:20:19.308Z"
   },
   {
    "duration": 8,
    "start_time": "2021-07-31T22:20:19.321Z"
   },
   {
    "duration": 11,
    "start_time": "2021-07-31T22:20:19.333Z"
   },
   {
    "duration": 47,
    "start_time": "2021-07-31T22:20:19.347Z"
   },
   {
    "duration": 20,
    "start_time": "2021-07-31T22:20:19.396Z"
   },
   {
    "duration": 50,
    "start_time": "2021-07-31T22:20:19.420Z"
   },
   {
    "duration": 7,
    "start_time": "2021-07-31T22:20:19.476Z"
   },
   {
    "duration": 23,
    "start_time": "2021-07-31T22:20:19.487Z"
   },
   {
    "duration": 8,
    "start_time": "2021-07-31T22:20:19.512Z"
   },
   {
    "duration": 50,
    "start_time": "2021-07-31T22:20:19.523Z"
   },
   {
    "duration": 9,
    "start_time": "2021-07-31T22:20:19.575Z"
   },
   {
    "duration": 26,
    "start_time": "2021-07-31T22:20:19.586Z"
   },
   {
    "duration": 11,
    "start_time": "2021-07-31T22:20:19.615Z"
   },
   {
    "duration": 67,
    "start_time": "2021-07-31T22:20:19.628Z"
   },
   {
    "duration": 25,
    "start_time": "2021-07-31T22:20:19.698Z"
   },
   {
    "duration": 14,
    "start_time": "2021-07-31T22:20:19.725Z"
   },
   {
    "duration": 12,
    "start_time": "2021-07-31T22:20:19.766Z"
   },
   {
    "duration": 11,
    "start_time": "2021-07-31T22:20:19.781Z"
   },
   {
    "duration": 14,
    "start_time": "2021-07-31T22:20:19.795Z"
   },
   {
    "duration": 55,
    "start_time": "2021-07-31T22:20:19.812Z"
   },
   {
    "duration": 22,
    "start_time": "2021-07-31T22:20:19.874Z"
   },
   {
    "duration": 27,
    "start_time": "2021-07-31T22:20:19.900Z"
   },
   {
    "duration": 39,
    "start_time": "2021-07-31T22:20:19.930Z"
   },
   {
    "duration": 11,
    "start_time": "2021-07-31T22:20:19.972Z"
   },
   {
    "duration": 10,
    "start_time": "2021-07-31T22:20:19.986Z"
   },
   {
    "duration": 9,
    "start_time": "2021-07-31T22:20:20.000Z"
   },
   {
    "duration": 96,
    "start_time": "2021-07-31T22:20:20.012Z"
   },
   {
    "duration": 20,
    "start_time": "2021-07-31T22:20:20.111Z"
   },
   {
    "duration": 11,
    "start_time": "2021-07-31T22:20:20.134Z"
   },
   {
    "duration": 9,
    "start_time": "2021-07-31T22:20:20.167Z"
   },
   {
    "duration": 16,
    "start_time": "2021-07-31T22:20:20.178Z"
   },
   {
    "duration": 12,
    "start_time": "2021-07-31T22:20:20.197Z"
   },
   {
    "duration": 82,
    "start_time": "2021-07-31T22:20:20.211Z"
   },
   {
    "duration": 7,
    "start_time": "2021-07-31T22:20:20.295Z"
   },
   {
    "duration": 22,
    "start_time": "2021-07-31T22:20:20.305Z"
   },
   {
    "duration": 49,
    "start_time": "2021-07-31T22:20:20.330Z"
   },
   {
    "duration": 26,
    "start_time": "2021-07-31T22:20:20.381Z"
   },
   {
    "duration": 11,
    "start_time": "2021-07-31T22:20:20.410Z"
   },
   {
    "duration": 2,
    "start_time": "2021-07-31T22:20:20.424Z"
   },
   {
    "duration": 39,
    "start_time": "2021-07-31T22:20:20.428Z"
   },
   {
    "duration": 8,
    "start_time": "2021-07-31T22:20:20.469Z"
   },
   {
    "duration": 24,
    "start_time": "2021-07-31T22:20:20.479Z"
   },
   {
    "duration": 5,
    "start_time": "2021-07-31T22:20:20.505Z"
   },
   {
    "duration": 117,
    "start_time": "2021-07-31T22:20:22.955Z"
   },
   {
    "duration": 9985,
    "start_time": "2021-07-31T22:26:39.684Z"
   },
   {
    "duration": 43633,
    "start_time": "2021-07-31T22:26:59.253Z"
   },
   {
    "duration": 22021,
    "start_time": "2021-07-31T22:32:01.576Z"
   },
   {
    "duration": 106,
    "start_time": "2021-07-31T22:36:23.013Z"
   },
   {
    "duration": 41236,
    "start_time": "2021-07-31T22:36:53.653Z"
   },
   {
    "duration": 1383,
    "start_time": "2021-07-31T22:39:48.706Z"
   },
   {
    "duration": 3,
    "start_time": "2021-07-31T22:43:21.024Z"
   },
   {
    "duration": 6,
    "start_time": "2021-07-31T22:43:21.030Z"
   },
   {
    "duration": 6,
    "start_time": "2021-07-31T22:43:21.039Z"
   },
   {
    "duration": 8,
    "start_time": "2021-07-31T22:43:21.048Z"
   },
   {
    "duration": 42,
    "start_time": "2021-07-31T22:43:21.058Z"
   },
   {
    "duration": 15,
    "start_time": "2021-07-31T22:43:21.103Z"
   },
   {
    "duration": 13,
    "start_time": "2021-07-31T22:43:21.122Z"
   },
   {
    "duration": 7,
    "start_time": "2021-07-31T22:43:21.167Z"
   },
   {
    "duration": 23,
    "start_time": "2021-07-31T22:43:21.176Z"
   },
   {
    "duration": 8,
    "start_time": "2021-07-31T22:43:21.201Z"
   },
   {
    "duration": 15,
    "start_time": "2021-07-31T22:43:21.211Z"
   },
   {
    "duration": 46,
    "start_time": "2021-07-31T22:43:21.228Z"
   },
   {
    "duration": 23,
    "start_time": "2021-07-31T22:43:21.277Z"
   },
   {
    "duration": 13,
    "start_time": "2021-07-31T22:43:21.303Z"
   },
   {
    "duration": 74,
    "start_time": "2021-07-31T22:43:21.319Z"
   },
   {
    "duration": 21,
    "start_time": "2021-07-31T22:43:21.396Z"
   },
   {
    "duration": 11,
    "start_time": "2021-07-31T22:43:21.420Z"
   },
   {
    "duration": 35,
    "start_time": "2021-07-31T22:43:21.433Z"
   },
   {
    "duration": 6,
    "start_time": "2021-07-31T22:43:21.473Z"
   },
   {
    "duration": 14,
    "start_time": "2021-07-31T22:43:21.482Z"
   },
   {
    "duration": 12,
    "start_time": "2021-07-31T22:43:21.499Z"
   },
   {
    "duration": 54,
    "start_time": "2021-07-31T22:43:21.513Z"
   },
   {
    "duration": 23,
    "start_time": "2021-07-31T22:43:21.570Z"
   },
   {
    "duration": 16,
    "start_time": "2021-07-31T22:43:21.595Z"
   },
   {
    "duration": 11,
    "start_time": "2021-07-31T22:43:21.614Z"
   },
   {
    "duration": 8,
    "start_time": "2021-07-31T22:43:21.628Z"
   },
   {
    "duration": 8,
    "start_time": "2021-07-31T22:43:21.667Z"
   },
   {
    "duration": 44,
    "start_time": "2021-07-31T22:43:21.678Z"
   },
   {
    "duration": 18,
    "start_time": "2021-07-31T22:43:21.724Z"
   },
   {
    "duration": 30,
    "start_time": "2021-07-31T22:43:21.745Z"
   },
   {
    "duration": 12,
    "start_time": "2021-07-31T22:43:21.777Z"
   },
   {
    "duration": 9,
    "start_time": "2021-07-31T22:43:21.791Z"
   },
   {
    "duration": 8,
    "start_time": "2021-07-31T22:43:21.802Z"
   },
   {
    "duration": 95,
    "start_time": "2021-07-31T22:43:21.813Z"
   },
   {
    "duration": 10,
    "start_time": "2021-07-31T22:43:21.911Z"
   },
   {
    "duration": 16,
    "start_time": "2021-07-31T22:43:21.923Z"
   },
   {
    "duration": 56,
    "start_time": "2021-07-31T22:43:21.942Z"
   },
   {
    "duration": 28,
    "start_time": "2021-07-31T22:43:22.001Z"
   },
   {
    "duration": 47,
    "start_time": "2021-07-31T22:43:22.031Z"
   },
   {
    "duration": 3,
    "start_time": "2021-07-31T22:43:22.081Z"
   },
   {
    "duration": 6,
    "start_time": "2021-07-31T22:43:22.087Z"
   },
   {
    "duration": 10,
    "start_time": "2021-07-31T22:43:22.096Z"
   },
   {
    "duration": 19,
    "start_time": "2021-07-31T22:43:22.108Z"
   },
   {
    "duration": 41,
    "start_time": "2021-07-31T22:43:22.129Z"
   },
   {
    "duration": 58,
    "start_time": "2021-07-31T22:43:26.734Z"
   },
   {
    "duration": 3,
    "start_time": "2021-07-31T22:49:23.659Z"
   },
   {
    "duration": 12,
    "start_time": "2021-07-31T22:49:23.665Z"
   },
   {
    "duration": 11,
    "start_time": "2021-07-31T22:49:23.680Z"
   },
   {
    "duration": 7,
    "start_time": "2021-07-31T22:49:23.693Z"
   },
   {
    "duration": 50,
    "start_time": "2021-07-31T22:49:23.702Z"
   },
   {
    "duration": 28,
    "start_time": "2021-07-31T22:49:23.755Z"
   },
   {
    "duration": 12,
    "start_time": "2021-07-31T22:49:23.788Z"
   },
   {
    "duration": 9,
    "start_time": "2021-07-31T22:49:23.804Z"
   },
   {
    "duration": 73,
    "start_time": "2021-07-31T22:49:23.816Z"
   },
   {
    "duration": 10,
    "start_time": "2021-07-31T22:49:23.891Z"
   },
   {
    "duration": 16,
    "start_time": "2021-07-31T22:49:23.903Z"
   },
   {
    "duration": 47,
    "start_time": "2021-07-31T22:49:23.922Z"
   },
   {
    "duration": 23,
    "start_time": "2021-07-31T22:49:23.972Z"
   },
   {
    "duration": 13,
    "start_time": "2021-07-31T22:49:23.998Z"
   },
   {
    "duration": 70,
    "start_time": "2021-07-31T22:49:24.014Z"
   },
   {
    "duration": 24,
    "start_time": "2021-07-31T22:49:24.087Z"
   },
   {
    "duration": 13,
    "start_time": "2021-07-31T22:49:24.114Z"
   },
   {
    "duration": 38,
    "start_time": "2021-07-31T22:49:24.130Z"
   },
   {
    "duration": 8,
    "start_time": "2021-07-31T22:49:24.175Z"
   },
   {
    "duration": 13,
    "start_time": "2021-07-31T22:49:24.186Z"
   },
   {
    "duration": 16,
    "start_time": "2021-07-31T22:49:24.201Z"
   },
   {
    "duration": 54,
    "start_time": "2021-07-31T22:49:24.219Z"
   },
   {
    "duration": 24,
    "start_time": "2021-07-31T22:49:24.276Z"
   },
   {
    "duration": 17,
    "start_time": "2021-07-31T22:49:24.302Z"
   },
   {
    "duration": 14,
    "start_time": "2021-07-31T22:49:24.322Z"
   },
   {
    "duration": 34,
    "start_time": "2021-07-31T22:49:24.339Z"
   },
   {
    "duration": 11,
    "start_time": "2021-07-31T22:49:24.376Z"
   },
   {
    "duration": 43,
    "start_time": "2021-07-31T22:49:24.390Z"
   },
   {
    "duration": 40,
    "start_time": "2021-07-31T22:49:24.435Z"
   },
   {
    "duration": 10,
    "start_time": "2021-07-31T22:49:24.478Z"
   },
   {
    "duration": 10,
    "start_time": "2021-07-31T22:49:24.491Z"
   },
   {
    "duration": 10,
    "start_time": "2021-07-31T22:49:24.504Z"
   },
   {
    "duration": 55,
    "start_time": "2021-07-31T22:49:24.517Z"
   },
   {
    "duration": 49,
    "start_time": "2021-07-31T22:49:24.574Z"
   },
   {
    "duration": 7,
    "start_time": "2021-07-31T22:49:24.626Z"
   },
   {
    "duration": 43,
    "start_time": "2021-07-31T22:49:24.635Z"
   },
   {
    "duration": 33,
    "start_time": "2021-07-31T22:49:24.680Z"
   },
   {
    "duration": 62,
    "start_time": "2021-07-31T22:49:24.716Z"
   },
   {
    "duration": 14,
    "start_time": "2021-07-31T22:49:24.780Z"
   },
   {
    "duration": 4,
    "start_time": "2021-07-31T22:49:24.797Z"
   },
   {
    "duration": 7,
    "start_time": "2021-07-31T22:49:24.804Z"
   },
   {
    "duration": 8,
    "start_time": "2021-07-31T22:49:24.814Z"
   },
   {
    "duration": 56,
    "start_time": "2021-07-31T22:49:24.824Z"
   },
   {
    "duration": 7,
    "start_time": "2021-07-31T22:49:24.882Z"
   },
   {
    "duration": 132,
    "start_time": "2021-07-31T22:49:27.134Z"
   },
   {
    "duration": 8560,
    "start_time": "2021-07-31T22:49:40.109Z"
   },
   {
    "duration": 412,
    "start_time": "2021-07-31T22:55:04.723Z"
   },
   {
    "duration": 1797,
    "start_time": "2021-07-31T22:55:42.494Z"
   },
   {
    "duration": 236,
    "start_time": "2021-07-31T22:58:49.725Z"
   },
   {
    "duration": 245,
    "start_time": "2021-07-31T22:59:11.790Z"
   },
   {
    "duration": 4,
    "start_time": "2021-07-31T22:59:25.284Z"
   },
   {
    "duration": 240,
    "start_time": "2021-07-31T22:59:58.168Z"
   },
   {
    "duration": 3,
    "start_time": "2021-07-31T23:00:17.603Z"
   },
   {
    "duration": 11,
    "start_time": "2021-07-31T23:00:17.608Z"
   },
   {
    "duration": 4,
    "start_time": "2021-07-31T23:00:17.623Z"
   },
   {
    "duration": 5,
    "start_time": "2021-07-31T23:00:17.630Z"
   },
   {
    "duration": 47,
    "start_time": "2021-07-31T23:00:17.637Z"
   },
   {
    "duration": 15,
    "start_time": "2021-07-31T23:00:17.686Z"
   },
   {
    "duration": 11,
    "start_time": "2021-07-31T23:00:17.705Z"
   },
   {
    "duration": 7,
    "start_time": "2021-07-31T23:00:17.719Z"
   },
   {
    "duration": 21,
    "start_time": "2021-07-31T23:00:17.768Z"
   },
   {
    "duration": 8,
    "start_time": "2021-07-31T23:00:17.791Z"
   },
   {
    "duration": 13,
    "start_time": "2021-07-31T23:00:17.801Z"
   },
   {
    "duration": 9,
    "start_time": "2021-07-31T23:00:17.817Z"
   },
   {
    "duration": 24,
    "start_time": "2021-07-31T23:00:17.868Z"
   },
   {
    "duration": 13,
    "start_time": "2021-07-31T23:00:17.895Z"
   },
   {
    "duration": 68,
    "start_time": "2021-07-31T23:00:17.910Z"
   },
   {
    "duration": 25,
    "start_time": "2021-07-31T23:00:17.980Z"
   },
   {
    "duration": 12,
    "start_time": "2021-07-31T23:00:18.008Z"
   },
   {
    "duration": 14,
    "start_time": "2021-07-31T23:00:18.023Z"
   },
   {
    "duration": 9,
    "start_time": "2021-07-31T23:00:18.072Z"
   },
   {
    "duration": 17,
    "start_time": "2021-07-31T23:00:18.085Z"
   },
   {
    "duration": 17,
    "start_time": "2021-07-31T23:00:18.105Z"
   },
   {
    "duration": 60,
    "start_time": "2021-07-31T23:00:18.125Z"
   },
   {
    "duration": 25,
    "start_time": "2021-07-31T23:00:18.188Z"
   },
   {
    "duration": 17,
    "start_time": "2021-07-31T23:00:18.216Z"
   },
   {
    "duration": 39,
    "start_time": "2021-07-31T23:00:18.236Z"
   },
   {
    "duration": 23,
    "start_time": "2021-07-31T23:00:18.278Z"
   },
   {
    "duration": 11,
    "start_time": "2021-07-31T23:00:18.304Z"
   },
   {
    "duration": 77,
    "start_time": "2021-07-31T23:00:18.318Z"
   },
   {
    "duration": 18,
    "start_time": "2021-07-31T23:00:18.398Z"
   },
   {
    "duration": 9,
    "start_time": "2021-07-31T23:00:18.419Z"
   },
   {
    "duration": 11,
    "start_time": "2021-07-31T23:00:18.430Z"
   },
   {
    "duration": 29,
    "start_time": "2021-07-31T23:00:18.443Z"
   },
   {
    "duration": 8,
    "start_time": "2021-07-31T23:00:18.475Z"
   },
   {
    "duration": 54,
    "start_time": "2021-07-31T23:00:18.486Z"
   },
   {
    "duration": 28,
    "start_time": "2021-07-31T23:00:18.543Z"
   },
   {
    "duration": 16,
    "start_time": "2021-07-31T23:00:18.574Z"
   },
   {
    "duration": 34,
    "start_time": "2021-07-31T23:00:18.593Z"
   },
   {
    "duration": 62,
    "start_time": "2021-07-31T23:00:18.629Z"
   },
   {
    "duration": 12,
    "start_time": "2021-07-31T23:00:18.693Z"
   },
   {
    "duration": 4,
    "start_time": "2021-07-31T23:00:18.707Z"
   },
   {
    "duration": 14,
    "start_time": "2021-07-31T23:00:18.713Z"
   },
   {
    "duration": 12,
    "start_time": "2021-07-31T23:00:18.730Z"
   },
   {
    "duration": 18,
    "start_time": "2021-07-31T23:00:18.766Z"
   },
   {
    "duration": 6,
    "start_time": "2021-07-31T23:00:18.786Z"
   },
   {
    "duration": 4,
    "start_time": "2021-07-31T23:00:21.670Z"
   },
   {
    "duration": 264,
    "start_time": "2021-07-31T23:00:23.905Z"
   },
   {
    "duration": 257,
    "start_time": "2021-07-31T23:00:36.977Z"
   },
   {
    "duration": 43281,
    "start_time": "2021-07-31T23:00:58.114Z"
   },
   {
    "duration": 4,
    "start_time": "2021-07-31T23:02:23.055Z"
   },
   {
    "duration": 15,
    "start_time": "2021-07-31T23:03:23.770Z"
   },
   {
    "duration": 2,
    "start_time": "2021-08-01T07:01:44.556Z"
   },
   {
    "duration": 1181,
    "start_time": "2021-08-01T07:01:44.561Z"
   },
   {
    "duration": 2,
    "start_time": "2021-08-01T07:01:45.744Z"
   },
   {
    "duration": 6,
    "start_time": "2021-08-01T07:01:45.748Z"
   },
   {
    "duration": 40,
    "start_time": "2021-08-01T07:01:45.756Z"
   },
   {
    "duration": 12,
    "start_time": "2021-08-01T07:01:45.798Z"
   },
   {
    "duration": 8,
    "start_time": "2021-08-01T07:01:45.812Z"
   },
   {
    "duration": 5,
    "start_time": "2021-08-01T07:01:45.822Z"
   },
   {
    "duration": 14,
    "start_time": "2021-08-01T07:01:45.829Z"
   },
   {
    "duration": 5,
    "start_time": "2021-08-01T07:01:45.845Z"
   },
   {
    "duration": 40,
    "start_time": "2021-08-01T07:01:45.851Z"
   },
   {
    "duration": 6,
    "start_time": "2021-08-01T07:01:45.893Z"
   },
   {
    "duration": 15,
    "start_time": "2021-08-01T07:01:45.900Z"
   },
   {
    "duration": 7,
    "start_time": "2021-08-01T07:01:45.916Z"
   },
   {
    "duration": 19,
    "start_time": "2021-08-01T07:01:45.924Z"
   },
   {
    "duration": 19,
    "start_time": "2021-08-01T07:01:45.944Z"
   },
   {
    "duration": 6,
    "start_time": "2021-08-01T07:01:45.965Z"
   },
   {
    "duration": 6,
    "start_time": "2021-08-01T07:01:45.991Z"
   },
   {
    "duration": 9,
    "start_time": "2021-08-01T07:01:45.999Z"
   },
   {
    "duration": 11,
    "start_time": "2021-08-01T07:01:46.010Z"
   },
   {
    "duration": 9,
    "start_time": "2021-08-01T07:01:46.023Z"
   },
   {
    "duration": 19,
    "start_time": "2021-08-01T07:01:46.034Z"
   },
   {
    "duration": 21,
    "start_time": "2021-08-01T07:01:46.054Z"
   },
   {
    "duration": 15,
    "start_time": "2021-08-01T07:01:46.078Z"
   },
   {
    "duration": 10,
    "start_time": "2021-08-01T07:01:46.094Z"
   },
   {
    "duration": 8,
    "start_time": "2021-08-01T07:01:46.106Z"
   },
   {
    "duration": 10,
    "start_time": "2021-08-01T07:01:46.116Z"
   },
   {
    "duration": 31,
    "start_time": "2021-08-01T07:01:46.127Z"
   },
   {
    "duration": 17,
    "start_time": "2021-08-01T07:01:46.159Z"
   },
   {
    "duration": 6,
    "start_time": "2021-08-01T07:01:46.178Z"
   },
   {
    "duration": 10,
    "start_time": "2021-08-01T07:01:46.192Z"
   },
   {
    "duration": 11,
    "start_time": "2021-08-01T07:01:46.203Z"
   },
   {
    "duration": 12,
    "start_time": "2021-08-01T07:01:46.215Z"
   },
   {
    "duration": 35,
    "start_time": "2021-08-01T07:01:46.229Z"
   },
   {
    "duration": 5,
    "start_time": "2021-08-01T07:01:46.266Z"
   },
   {
    "duration": 19,
    "start_time": "2021-08-01T07:01:46.272Z"
   },
   {
    "duration": 18,
    "start_time": "2021-08-01T07:01:46.293Z"
   },
   {
    "duration": 14,
    "start_time": "2021-08-01T07:01:46.313Z"
   },
   {
    "duration": 7,
    "start_time": "2021-08-01T07:01:46.329Z"
   },
   {
    "duration": 4,
    "start_time": "2021-08-01T07:01:46.337Z"
   },
   {
    "duration": 7,
    "start_time": "2021-08-01T07:01:46.342Z"
   },
   {
    "duration": 11,
    "start_time": "2021-08-01T07:01:46.351Z"
   },
   {
    "duration": 36,
    "start_time": "2021-08-01T07:01:46.364Z"
   },
   {
    "duration": 4,
    "start_time": "2021-08-01T07:01:46.402Z"
   },
   {
    "duration": 16,
    "start_time": "2021-08-01T07:02:02.933Z"
   },
   {
    "duration": 18,
    "start_time": "2021-08-01T07:03:13.098Z"
   },
   {
    "duration": 30836,
    "start_time": "2021-08-01T07:03:15.582Z"
   },
   {
    "duration": 3,
    "start_time": "2021-08-01T07:04:05.202Z"
   },
   {
    "duration": 82653,
    "start_time": "2021-08-01T07:04:08.938Z"
   },
   {
    "duration": 1573,
    "start_time": "2021-08-01T07:07:21.824Z"
   },
   {
    "duration": 1750,
    "start_time": "2021-08-01T07:07:51.442Z"
   },
   {
    "duration": 33,
    "start_time": "2021-08-01T07:08:30.013Z"
   },
   {
    "duration": 10410,
    "start_time": "2021-08-01T07:17:49.895Z"
   },
   {
    "duration": 9755,
    "start_time": "2021-08-01T07:18:25.513Z"
   },
   {
    "duration": 6,
    "start_time": "2021-08-01T07:25:50.322Z"
   },
   {
    "duration": 2,
    "start_time": "2021-08-01T08:00:26.264Z"
   },
   {
    "duration": 7439,
    "start_time": "2021-08-01T08:01:46.723Z"
   },
   {
    "duration": 8864,
    "start_time": "2021-08-01T08:02:26.196Z"
   },
   {
    "duration": 8708,
    "start_time": "2021-08-01T08:03:41.295Z"
   },
   {
    "duration": 7883,
    "start_time": "2021-08-01T08:08:03.511Z"
   },
   {
    "duration": 15530,
    "start_time": "2021-08-01T08:18:07.945Z"
   },
   {
    "duration": 33115,
    "start_time": "2021-08-01T08:18:47.249Z"
   },
   {
    "duration": 44320,
    "start_time": "2021-08-01T08:20:19.995Z"
   },
   {
    "duration": 43428,
    "start_time": "2021-08-01T08:21:59.565Z"
   },
   {
    "duration": 2106788,
    "start_time": "2021-08-01T08:26:26.125Z"
   },
   {
    "duration": 153,
    "start_time": "2021-08-01T09:08:43.102Z"
   },
   {
    "duration": 4,
    "start_time": "2021-08-01T09:08:51.436Z"
   },
   {
    "duration": 496223,
    "start_time": "2021-08-01T09:08:56.580Z"
   },
   {
    "duration": 89,
    "start_time": "2021-08-01T09:19:02.636Z"
   },
   {
    "duration": 85,
    "start_time": "2021-08-01T09:19:23.575Z"
   },
   {
    "duration": 4091,
    "start_time": "2021-08-01T09:20:09.583Z"
   },
   {
    "duration": 8555,
    "start_time": "2021-08-01T09:22:47.540Z"
   },
   {
    "duration": 7670,
    "start_time": "2021-08-01T09:23:18.523Z"
   },
   {
    "duration": 6497,
    "start_time": "2021-08-01T09:24:58.303Z"
   },
   {
    "duration": 4,
    "start_time": "2021-08-01T09:26:26.372Z"
   },
   {
    "duration": 134392,
    "start_time": "2021-08-01T09:26:28.183Z"
   },
   {
    "duration": 3,
    "start_time": "2021-08-01T09:50:08.822Z"
   },
   {
    "duration": 1116,
    "start_time": "2021-08-01T09:50:08.829Z"
   },
   {
    "duration": 2,
    "start_time": "2021-08-01T09:50:09.946Z"
   },
   {
    "duration": 19,
    "start_time": "2021-08-01T09:50:09.950Z"
   },
   {
    "duration": 44,
    "start_time": "2021-08-01T09:50:09.970Z"
   },
   {
    "duration": 15,
    "start_time": "2021-08-01T09:50:10.016Z"
   },
   {
    "duration": 22,
    "start_time": "2021-08-01T09:50:10.032Z"
   },
   {
    "duration": 16,
    "start_time": "2021-08-01T09:50:10.055Z"
   },
   {
    "duration": 22,
    "start_time": "2021-08-01T09:50:10.073Z"
   },
   {
    "duration": 22,
    "start_time": "2021-08-01T09:50:10.097Z"
   },
   {
    "duration": 13,
    "start_time": "2021-08-01T09:50:10.120Z"
   },
   {
    "duration": 23,
    "start_time": "2021-08-01T09:50:10.135Z"
   },
   {
    "duration": 19,
    "start_time": "2021-08-01T09:50:10.160Z"
   },
   {
    "duration": 18,
    "start_time": "2021-08-01T09:50:10.181Z"
   },
   {
    "duration": 23,
    "start_time": "2021-08-01T09:50:10.201Z"
   },
   {
    "duration": 23,
    "start_time": "2021-08-01T09:50:10.225Z"
   },
   {
    "duration": 7,
    "start_time": "2021-08-01T09:50:10.249Z"
   },
   {
    "duration": 24,
    "start_time": "2021-08-01T09:50:10.257Z"
   },
   {
    "duration": 11,
    "start_time": "2021-08-01T09:50:10.283Z"
   },
   {
    "duration": 16,
    "start_time": "2021-08-01T09:50:10.295Z"
   },
   {
    "duration": 8,
    "start_time": "2021-08-01T09:50:10.313Z"
   },
   {
    "duration": 9,
    "start_time": "2021-08-01T09:50:10.323Z"
   },
   {
    "duration": 36,
    "start_time": "2021-08-01T09:50:10.333Z"
   },
   {
    "duration": 13,
    "start_time": "2021-08-01T09:50:10.372Z"
   },
   {
    "duration": 23,
    "start_time": "2021-08-01T09:50:10.387Z"
   },
   {
    "duration": 10,
    "start_time": "2021-08-01T09:50:10.411Z"
   },
   {
    "duration": 19,
    "start_time": "2021-08-01T09:50:10.423Z"
   },
   {
    "duration": 19,
    "start_time": "2021-08-01T09:50:10.443Z"
   },
   {
    "duration": 34,
    "start_time": "2021-08-01T09:50:10.463Z"
   },
   {
    "duration": 15,
    "start_time": "2021-08-01T09:50:10.499Z"
   },
   {
    "duration": 20,
    "start_time": "2021-08-01T09:50:10.516Z"
   },
   {
    "duration": 26,
    "start_time": "2021-08-01T09:50:10.538Z"
   },
   {
    "duration": 20,
    "start_time": "2021-08-01T09:50:10.565Z"
   },
   {
    "duration": 37,
    "start_time": "2021-08-01T09:50:10.587Z"
   },
   {
    "duration": 5,
    "start_time": "2021-08-01T09:50:10.625Z"
   },
   {
    "duration": 15,
    "start_time": "2021-08-01T09:50:10.632Z"
   },
   {
    "duration": 19,
    "start_time": "2021-08-01T09:50:10.649Z"
   },
   {
    "duration": 19,
    "start_time": "2021-08-01T09:50:10.670Z"
   },
   {
    "duration": 20,
    "start_time": "2021-08-01T09:50:10.690Z"
   },
   {
    "duration": 8,
    "start_time": "2021-08-01T09:53:29.699Z"
   },
   {
    "duration": 26,
    "start_time": "2021-08-01T09:53:32.603Z"
   },
   {
    "duration": 11,
    "start_time": "2021-08-01T09:53:43.964Z"
   },
   {
    "duration": 3,
    "start_time": "2021-08-01T09:53:48.155Z"
   },
   {
    "duration": 12,
    "start_time": "2021-08-01T09:53:52.183Z"
   },
   {
    "duration": 6,
    "start_time": "2021-08-01T09:53:55.319Z"
   },
   {
    "duration": 6,
    "start_time": "2021-08-01T09:54:05.039Z"
   },
   {
    "duration": 12,
    "start_time": "2021-08-01T09:54:07.320Z"
   },
   {
    "duration": 4,
    "start_time": "2021-08-01T09:54:07.942Z"
   },
   {
    "duration": 270,
    "start_time": "2021-08-01T09:54:55.606Z"
   },
   {
    "duration": 4,
    "start_time": "2021-08-01T11:19:47.505Z"
   },
   {
    "duration": 1649,
    "start_time": "2021-08-01T11:19:47.513Z"
   },
   {
    "duration": 3,
    "start_time": "2021-08-01T11:19:49.166Z"
   },
   {
    "duration": 7,
    "start_time": "2021-08-01T11:19:49.171Z"
   },
   {
    "duration": 46,
    "start_time": "2021-08-01T11:19:49.180Z"
   },
   {
    "duration": 24,
    "start_time": "2021-08-01T11:19:49.228Z"
   },
   {
    "duration": 11,
    "start_time": "2021-08-01T11:19:49.262Z"
   },
   {
    "duration": 8,
    "start_time": "2021-08-01T11:19:49.277Z"
   },
   {
    "duration": 23,
    "start_time": "2021-08-01T11:19:49.288Z"
   },
   {
    "duration": 9,
    "start_time": "2021-08-01T11:19:49.313Z"
   },
   {
    "duration": 12,
    "start_time": "2021-08-01T11:19:49.362Z"
   },
   {
    "duration": 11,
    "start_time": "2021-08-01T11:19:49.378Z"
   },
   {
    "duration": 32,
    "start_time": "2021-08-01T11:19:49.392Z"
   },
   {
    "duration": 13,
    "start_time": "2021-08-01T11:19:49.463Z"
   },
   {
    "duration": 34,
    "start_time": "2021-08-01T11:19:49.479Z"
   },
   {
    "duration": 24,
    "start_time": "2021-08-01T11:19:49.515Z"
   },
   {
    "duration": 28,
    "start_time": "2021-08-01T11:19:49.542Z"
   },
   {
    "duration": 26,
    "start_time": "2021-08-01T11:19:49.573Z"
   },
   {
    "duration": 25,
    "start_time": "2021-08-01T11:19:49.601Z"
   },
   {
    "duration": 14,
    "start_time": "2021-08-01T11:19:49.628Z"
   },
   {
    "duration": 9,
    "start_time": "2021-08-01T11:19:49.661Z"
   },
   {
    "duration": 20,
    "start_time": "2021-08-01T11:19:49.673Z"
   },
   {
    "duration": 32,
    "start_time": "2021-08-01T11:19:49.698Z"
   },
   {
    "duration": 18,
    "start_time": "2021-08-01T11:19:49.733Z"
   },
   {
    "duration": 13,
    "start_time": "2021-08-01T11:19:49.754Z"
   },
   {
    "duration": 23,
    "start_time": "2021-08-01T11:19:49.769Z"
   },
   {
    "duration": 9,
    "start_time": "2021-08-01T11:19:49.794Z"
   },
   {
    "duration": 10,
    "start_time": "2021-08-01T11:19:49.806Z"
   },
   {
    "duration": 23,
    "start_time": "2021-08-01T11:19:49.818Z"
   },
   {
    "duration": 20,
    "start_time": "2021-08-01T11:19:49.843Z"
   },
   {
    "duration": 9,
    "start_time": "2021-08-01T11:19:49.866Z"
   },
   {
    "duration": 9,
    "start_time": "2021-08-01T11:19:49.878Z"
   },
   {
    "duration": 22,
    "start_time": "2021-08-01T11:19:49.889Z"
   },
   {
    "duration": 84,
    "start_time": "2021-08-01T11:19:49.913Z"
   },
   {
    "duration": 8,
    "start_time": "2021-08-01T11:19:49.999Z"
   },
   {
    "duration": 25,
    "start_time": "2021-08-01T11:19:50.010Z"
   },
   {
    "duration": 26,
    "start_time": "2021-08-01T11:19:50.037Z"
   },
   {
    "duration": 57,
    "start_time": "2021-08-01T11:19:50.065Z"
   },
   {
    "duration": 19,
    "start_time": "2021-08-01T11:19:50.124Z"
   },
   {
    "duration": 16,
    "start_time": "2021-08-01T11:19:52.553Z"
   },
   {
    "duration": 5,
    "start_time": "2021-08-01T11:20:08.283Z"
   },
   {
    "duration": 20,
    "start_time": "2021-08-01T11:20:09.025Z"
   },
   {
    "duration": 11,
    "start_time": "2021-08-01T11:20:14.297Z"
   },
   {
    "duration": 8,
    "start_time": "2021-08-01T11:20:21.719Z"
   },
   {
    "duration": 26,
    "start_time": "2021-08-01T11:20:22.407Z"
   },
   {
    "duration": 7,
    "start_time": "2021-08-01T11:20:23.291Z"
   },
   {
    "duration": 8,
    "start_time": "2021-08-01T11:20:40.975Z"
   },
   {
    "duration": 25,
    "start_time": "2021-08-01T11:20:41.786Z"
   },
   {
    "duration": 6,
    "start_time": "2021-08-01T11:20:42.507Z"
   },
   {
    "duration": 6,
    "start_time": "2021-08-01T11:24:20.757Z"
   },
   {
    "duration": 9,
    "start_time": "2021-08-01T11:25:22.536Z"
   },
   {
    "duration": 5,
    "start_time": "2021-08-01T11:25:31.085Z"
   },
   {
    "duration": 5614,
    "start_time": "2021-08-01T11:25:34.561Z"
   },
   {
    "duration": 33,
    "start_time": "2021-08-01T11:26:14.394Z"
   },
   {
    "duration": 13,
    "start_time": "2021-08-01T11:27:12.919Z"
   },
   {
    "duration": 50,
    "start_time": "2021-08-01T11:29:03.172Z"
   },
   {
    "duration": 9,
    "start_time": "2021-08-01T11:29:06.974Z"
   },
   {
    "duration": 20,
    "start_time": "2021-08-01T11:29:09.401Z"
   },
   {
    "duration": 14,
    "start_time": "2021-08-01T11:29:16.305Z"
   },
   {
    "duration": 37,
    "start_time": "2021-08-01T11:30:32.806Z"
   },
   {
    "duration": 9,
    "start_time": "2021-08-01T11:31:29.755Z"
   },
   {
    "duration": 21,
    "start_time": "2021-08-01T11:31:32.352Z"
   },
   {
    "duration": 4,
    "start_time": "2021-08-01T11:31:42.340Z"
   },
   {
    "duration": 16,
    "start_time": "2021-08-01T11:31:43.365Z"
   },
   {
    "duration": 9,
    "start_time": "2021-08-01T11:31:47.859Z"
   },
   {
    "duration": 8,
    "start_time": "2021-08-01T11:31:53.599Z"
   },
   {
    "duration": 20,
    "start_time": "2021-08-01T11:31:54.475Z"
   },
   {
    "duration": 6,
    "start_time": "2021-08-01T11:31:55.105Z"
   },
   {
    "duration": 35,
    "start_time": "2021-08-01T11:32:00.483Z"
   },
   {
    "duration": 5,
    "start_time": "2021-08-01T11:32:09.056Z"
   },
   {
    "duration": 4,
    "start_time": "2021-08-01T11:33:37.598Z"
   },
   {
    "duration": 15455,
    "start_time": "2021-08-01T11:33:50.685Z"
   },
   {
    "duration": 4,
    "start_time": "2021-08-01T11:34:23.975Z"
   },
   {
    "duration": 271208,
    "start_time": "2021-08-01T11:34:32.148Z"
   },
   {
    "duration": 4,
    "start_time": "2021-08-01T11:39:42.795Z"
   },
   {
    "duration": 264,
    "start_time": "2021-08-01T11:39:54.956Z"
   },
   {
    "duration": 29,
    "start_time": "2021-08-01T11:39:58.030Z"
   },
   {
    "duration": 5,
    "start_time": "2021-08-01T11:42:29.106Z"
   },
   {
    "duration": 1589,
    "start_time": "2021-08-01T11:42:29.114Z"
   },
   {
    "duration": 3,
    "start_time": "2021-08-01T11:42:30.706Z"
   },
   {
    "duration": 23,
    "start_time": "2021-08-01T11:42:30.712Z"
   },
   {
    "duration": 58,
    "start_time": "2021-08-01T11:42:30.737Z"
   },
   {
    "duration": 21,
    "start_time": "2021-08-01T11:42:30.798Z"
   },
   {
    "duration": 25,
    "start_time": "2021-08-01T11:42:30.821Z"
   },
   {
    "duration": 24,
    "start_time": "2021-08-01T11:42:30.850Z"
   },
   {
    "duration": 34,
    "start_time": "2021-08-01T11:42:30.877Z"
   },
   {
    "duration": 21,
    "start_time": "2021-08-01T11:42:30.915Z"
   },
   {
    "duration": 20,
    "start_time": "2021-08-01T11:42:30.939Z"
   },
   {
    "duration": 20,
    "start_time": "2021-08-01T11:42:30.962Z"
   },
   {
    "duration": 36,
    "start_time": "2021-08-01T11:42:30.985Z"
   },
   {
    "duration": 29,
    "start_time": "2021-08-01T11:42:31.023Z"
   },
   {
    "duration": 53,
    "start_time": "2021-08-01T11:42:31.055Z"
   },
   {
    "duration": 26,
    "start_time": "2021-08-01T11:42:31.111Z"
   },
   {
    "duration": 17,
    "start_time": "2021-08-01T11:42:31.140Z"
   },
   {
    "duration": 54,
    "start_time": "2021-08-01T11:42:31.160Z"
   },
   {
    "duration": 25,
    "start_time": "2021-08-01T11:42:31.218Z"
   },
   {
    "duration": 25,
    "start_time": "2021-08-01T11:42:31.246Z"
   },
   {
    "duration": 21,
    "start_time": "2021-08-01T11:42:31.274Z"
   },
   {
    "duration": 17,
    "start_time": "2021-08-01T11:42:31.298Z"
   },
   {
    "duration": 40,
    "start_time": "2021-08-01T11:42:31.320Z"
   },
   {
    "duration": 33,
    "start_time": "2021-08-01T11:42:31.363Z"
   },
   {
    "duration": 50,
    "start_time": "2021-08-01T11:42:31.399Z"
   },
   {
    "duration": 28,
    "start_time": "2021-08-01T11:42:31.451Z"
   },
   {
    "duration": 23,
    "start_time": "2021-08-01T11:42:31.482Z"
   },
   {
    "duration": 36,
    "start_time": "2021-08-01T11:42:31.508Z"
   },
   {
    "duration": 44,
    "start_time": "2021-08-01T11:42:31.547Z"
   },
   {
    "duration": 19,
    "start_time": "2021-08-01T11:42:31.595Z"
   },
   {
    "duration": 24,
    "start_time": "2021-08-01T11:42:31.617Z"
   },
   {
    "duration": 21,
    "start_time": "2021-08-01T11:42:31.643Z"
   },
   {
    "duration": 44,
    "start_time": "2021-08-01T11:42:31.666Z"
   },
   {
    "duration": 99,
    "start_time": "2021-08-01T11:42:31.713Z"
   },
   {
    "duration": 11,
    "start_time": "2021-08-01T11:42:31.815Z"
   },
   {
    "duration": 40,
    "start_time": "2021-08-01T11:42:31.829Z"
   },
   {
    "duration": 9,
    "start_time": "2021-08-01T11:42:31.871Z"
   },
   {
    "duration": 38,
    "start_time": "2021-08-01T11:42:31.882Z"
   },
   {
    "duration": 4,
    "start_time": "2021-08-01T11:42:31.923Z"
   },
   {
    "duration": 8,
    "start_time": "2021-08-01T11:42:47.137Z"
   },
   {
    "duration": 23,
    "start_time": "2021-08-01T11:42:47.601Z"
   },
   {
    "duration": 20,
    "start_time": "2021-08-01T11:42:48.084Z"
   },
   {
    "duration": 4,
    "start_time": "2021-08-01T11:42:54.474Z"
   },
   {
    "duration": 6,
    "start_time": "2021-08-01T11:42:59.057Z"
   },
   {
    "duration": 167245,
    "start_time": "2021-08-01T11:43:00.841Z"
   },
   {
    "duration": 4,
    "start_time": "2021-08-01T11:46:22.760Z"
   },
   {
    "duration": 7203,
    "start_time": "2021-08-01T11:46:26.394Z"
   },
   {
    "duration": 6,
    "start_time": "2021-08-01T11:47:01.342Z"
   },
   {
    "duration": 6927,
    "start_time": "2021-08-01T11:47:02.969Z"
   },
   {
    "duration": 5,
    "start_time": "2021-08-01T11:47:18.321Z"
   },
   {
    "duration": 9678,
    "start_time": "2021-08-01T11:47:19.889Z"
   },
   {
    "duration": 5,
    "start_time": "2021-08-01T11:47:41.279Z"
   },
   {
    "duration": 15523,
    "start_time": "2021-08-01T11:47:42.189Z"
   },
   {
    "duration": 4,
    "start_time": "2021-08-01T11:48:12.138Z"
   },
   {
    "duration": 1804,
    "start_time": "2021-08-01T11:48:13.065Z"
   },
   {
    "duration": 4,
    "start_time": "2021-08-01T11:48:29.067Z"
   },
   {
    "duration": 70257,
    "start_time": "2021-08-01T11:48:30.123Z"
   },
   {
    "duration": 5,
    "start_time": "2021-08-01T11:49:53.099Z"
   },
   {
    "duration": 27622,
    "start_time": "2021-08-01T11:49:54.249Z"
   },
   {
    "duration": 5,
    "start_time": "2021-08-01T11:50:39.602Z"
   },
   {
    "duration": 179435,
    "start_time": "2021-08-01T11:50:40.592Z"
   },
   {
    "duration": 5,
    "start_time": "2021-08-01T11:53:55.558Z"
   },
   {
    "duration": 215926,
    "start_time": "2021-08-01T11:53:56.266Z"
   },
   {
    "duration": 6,
    "start_time": "2021-08-01T11:57:37.296Z"
   },
   {
    "duration": 85655,
    "start_time": "2021-08-01T11:57:38.078Z"
   },
   {
    "duration": 4,
    "start_time": "2021-08-01T11:59:27.700Z"
   },
   {
    "duration": 170080,
    "start_time": "2021-08-01T11:59:28.751Z"
   },
   {
    "duration": 26,
    "start_time": "2021-08-01T12:02:55.558Z"
   },
   {
    "duration": 4,
    "start_time": "2021-08-01T12:05:16.845Z"
   },
   {
    "duration": 1640,
    "start_time": "2021-08-01T12:05:16.851Z"
   },
   {
    "duration": 4,
    "start_time": "2021-08-01T12:05:18.495Z"
   },
   {
    "duration": 6,
    "start_time": "2021-08-01T12:05:18.501Z"
   },
   {
    "duration": 46,
    "start_time": "2021-08-01T12:05:18.510Z"
   },
   {
    "duration": 24,
    "start_time": "2021-08-01T12:05:18.558Z"
   },
   {
    "duration": 14,
    "start_time": "2021-08-01T12:05:18.586Z"
   },
   {
    "duration": 6,
    "start_time": "2021-08-01T12:05:18.603Z"
   },
   {
    "duration": 57,
    "start_time": "2021-08-01T12:05:18.612Z"
   },
   {
    "duration": 9,
    "start_time": "2021-08-01T12:05:18.672Z"
   },
   {
    "duration": 11,
    "start_time": "2021-08-01T12:05:18.684Z"
   },
   {
    "duration": 10,
    "start_time": "2021-08-01T12:05:18.697Z"
   },
   {
    "duration": 54,
    "start_time": "2021-08-01T12:05:18.710Z"
   },
   {
    "duration": 11,
    "start_time": "2021-08-01T12:05:18.767Z"
   },
   {
    "duration": 30,
    "start_time": "2021-08-01T12:05:18.781Z"
   },
   {
    "duration": 28,
    "start_time": "2021-08-01T12:05:18.813Z"
   },
   {
    "duration": 35,
    "start_time": "2021-08-01T12:05:18.845Z"
   },
   {
    "duration": 23,
    "start_time": "2021-08-01T12:05:18.883Z"
   },
   {
    "duration": 8,
    "start_time": "2021-08-01T12:05:18.915Z"
   },
   {
    "duration": 37,
    "start_time": "2021-08-01T12:05:18.926Z"
   },
   {
    "duration": 25,
    "start_time": "2021-08-01T12:05:18.966Z"
   },
   {
    "duration": 9,
    "start_time": "2021-08-01T12:05:18.994Z"
   },
   {
    "duration": 36,
    "start_time": "2021-08-01T12:05:19.007Z"
   },
   {
    "duration": 20,
    "start_time": "2021-08-01T12:05:19.046Z"
   },
   {
    "duration": 18,
    "start_time": "2021-08-01T12:05:19.071Z"
   },
   {
    "duration": 17,
    "start_time": "2021-08-01T12:05:19.092Z"
   },
   {
    "duration": 12,
    "start_time": "2021-08-01T12:05:19.112Z"
   },
   {
    "duration": 24,
    "start_time": "2021-08-01T12:05:19.126Z"
   },
   {
    "duration": 35,
    "start_time": "2021-08-01T12:05:19.153Z"
   },
   {
    "duration": 14,
    "start_time": "2021-08-01T12:05:19.190Z"
   },
   {
    "duration": 14,
    "start_time": "2021-08-01T12:05:19.207Z"
   },
   {
    "duration": 9,
    "start_time": "2021-08-01T12:05:19.223Z"
   },
   {
    "duration": 13,
    "start_time": "2021-08-01T12:05:19.235Z"
   },
   {
    "duration": 60,
    "start_time": "2021-08-01T12:05:19.251Z"
   },
   {
    "duration": 7,
    "start_time": "2021-08-01T12:05:19.314Z"
   },
   {
    "duration": 39,
    "start_time": "2021-08-01T12:05:19.323Z"
   },
   {
    "duration": 11,
    "start_time": "2021-08-01T12:05:19.364Z"
   },
   {
    "duration": 23,
    "start_time": "2021-08-01T12:05:19.378Z"
   },
   {
    "duration": 3,
    "start_time": "2021-08-01T12:05:19.403Z"
   },
   {
    "duration": 19,
    "start_time": "2021-08-01T12:05:19.408Z"
   },
   {
    "duration": 4,
    "start_time": "2021-08-01T12:05:19.429Z"
   },
   {
    "duration": 25,
    "start_time": "2021-08-01T12:05:19.467Z"
   },
   {
    "duration": 7,
    "start_time": "2021-08-01T12:05:19.494Z"
   },
   {
    "duration": 9,
    "start_time": "2021-08-01T12:05:19.503Z"
   },
   {
    "duration": 17,
    "start_time": "2021-08-01T12:05:19.515Z"
   },
   {
    "duration": 7,
    "start_time": "2021-08-01T12:05:21.380Z"
   },
   {
    "duration": 35,
    "start_time": "2021-08-01T12:05:29.510Z"
   },
   {
    "duration": 4,
    "start_time": "2021-08-01T12:05:43.101Z"
   },
   {
    "duration": 5,
    "start_time": "2021-08-01T12:05:43.940Z"
   },
   {
    "duration": 6981,
    "start_time": "2021-08-01T12:05:46.310Z"
   },
   {
    "duration": 4,
    "start_time": "2021-08-01T12:06:18.150Z"
   },
   {
    "duration": 4,
    "start_time": "2021-08-01T12:06:19.079Z"
   },
   {
    "duration": 177554,
    "start_time": "2021-08-01T12:06:20.406Z"
   },
   {
    "duration": 5,
    "start_time": "2021-08-01T12:14:25.786Z"
   },
   {
    "duration": 78003,
    "start_time": "2021-08-01T12:14:28.521Z"
   },
   {
    "duration": 5,
    "start_time": "2021-08-01T12:15:55.419Z"
   },
   {
    "duration": 193291,
    "start_time": "2021-08-01T12:15:58.437Z"
   },
   {
    "duration": 6,
    "start_time": "2021-08-01T12:32:13.366Z"
   },
   {
    "duration": 196710,
    "start_time": "2021-08-01T12:32:15.970Z"
   },
   {
    "duration": 2620,
    "start_time": "2021-08-01T12:40:17.296Z"
   },
   {
    "duration": -1242,
    "start_time": "2021-08-01T12:40:21.164Z"
   },
   {
    "duration": -1249,
    "start_time": "2021-08-01T12:40:21.172Z"
   },
   {
    "duration": -1254,
    "start_time": "2021-08-01T12:40:21.178Z"
   },
   {
    "duration": -1257,
    "start_time": "2021-08-01T12:40:21.183Z"
   },
   {
    "duration": -1261,
    "start_time": "2021-08-01T12:40:21.189Z"
   },
   {
    "duration": -1264,
    "start_time": "2021-08-01T12:40:21.193Z"
   },
   {
    "duration": -1268,
    "start_time": "2021-08-01T12:40:21.199Z"
   },
   {
    "duration": -1272,
    "start_time": "2021-08-01T12:40:21.204Z"
   },
   {
    "duration": -1275,
    "start_time": "2021-08-01T12:40:21.209Z"
   },
   {
    "duration": -1280,
    "start_time": "2021-08-01T12:40:21.215Z"
   },
   {
    "duration": -1284,
    "start_time": "2021-08-01T12:40:21.221Z"
   },
   {
    "duration": -1296,
    "start_time": "2021-08-01T12:40:21.234Z"
   },
   {
    "duration": -1300,
    "start_time": "2021-08-01T12:40:21.239Z"
   },
   {
    "duration": -1303,
    "start_time": "2021-08-01T12:40:21.244Z"
   },
   {
    "duration": -1309,
    "start_time": "2021-08-01T12:40:21.251Z"
   },
   {
    "duration": -1312,
    "start_time": "2021-08-01T12:40:21.256Z"
   },
   {
    "duration": -1315,
    "start_time": "2021-08-01T12:40:21.260Z"
   },
   {
    "duration": -1318,
    "start_time": "2021-08-01T12:40:21.265Z"
   },
   {
    "duration": -1322,
    "start_time": "2021-08-01T12:40:21.270Z"
   },
   {
    "duration": -1326,
    "start_time": "2021-08-01T12:40:21.275Z"
   },
   {
    "duration": -1330,
    "start_time": "2021-08-01T12:40:21.281Z"
   },
   {
    "duration": -1334,
    "start_time": "2021-08-01T12:40:21.286Z"
   },
   {
    "duration": -1337,
    "start_time": "2021-08-01T12:40:21.291Z"
   },
   {
    "duration": -1341,
    "start_time": "2021-08-01T12:40:21.296Z"
   },
   {
    "duration": -1340,
    "start_time": "2021-08-01T12:40:21.302Z"
   },
   {
    "duration": -1343,
    "start_time": "2021-08-01T12:40:21.307Z"
   },
   {
    "duration": -1347,
    "start_time": "2021-08-01T12:40:21.312Z"
   },
   {
    "duration": -1350,
    "start_time": "2021-08-01T12:40:21.317Z"
   },
   {
    "duration": -1354,
    "start_time": "2021-08-01T12:40:21.323Z"
   },
   {
    "duration": -1357,
    "start_time": "2021-08-01T12:40:21.327Z"
   },
   {
    "duration": -1369,
    "start_time": "2021-08-01T12:40:21.340Z"
   },
   {
    "duration": -1372,
    "start_time": "2021-08-01T12:40:21.345Z"
   },
   {
    "duration": -1376,
    "start_time": "2021-08-01T12:40:21.350Z"
   },
   {
    "duration": -1378,
    "start_time": "2021-08-01T12:40:21.354Z"
   },
   {
    "duration": -1382,
    "start_time": "2021-08-01T12:40:21.359Z"
   },
   {
    "duration": -1385,
    "start_time": "2021-08-01T12:40:21.364Z"
   },
   {
    "duration": -1389,
    "start_time": "2021-08-01T12:40:21.369Z"
   },
   {
    "duration": -1391,
    "start_time": "2021-08-01T12:40:21.374Z"
   },
   {
    "duration": -1395,
    "start_time": "2021-08-01T12:40:21.379Z"
   },
   {
    "duration": -1398,
    "start_time": "2021-08-01T12:40:21.384Z"
   },
   {
    "duration": -1463,
    "start_time": "2021-08-01T12:40:21.450Z"
   },
   {
    "duration": -1482,
    "start_time": "2021-08-01T12:40:21.471Z"
   },
   {
    "duration": -1486,
    "start_time": "2021-08-01T12:40:21.476Z"
   },
   {
    "duration": -1501,
    "start_time": "2021-08-01T12:40:21.493Z"
   },
   {
    "duration": -1506,
    "start_time": "2021-08-01T12:40:21.499Z"
   },
   {
    "duration": -1520,
    "start_time": "2021-08-01T12:40:21.515Z"
   },
   {
    "duration": -1523,
    "start_time": "2021-08-01T12:40:21.519Z"
   },
   {
    "duration": -1526,
    "start_time": "2021-08-01T12:40:21.523Z"
   },
   {
    "duration": -1539,
    "start_time": "2021-08-01T12:40:21.538Z"
   },
   {
    "duration": -1541,
    "start_time": "2021-08-01T12:40:21.541Z"
   },
   {
    "duration": -1484,
    "start_time": "2021-08-01T12:40:21.546Z"
   },
   {
    "duration": -1503,
    "start_time": "2021-08-01T12:40:21.566Z"
   },
   {
    "duration": -1505,
    "start_time": "2021-08-01T12:40:21.570Z"
   },
   {
    "duration": -1508,
    "start_time": "2021-08-01T12:40:21.574Z"
   },
   {
    "duration": -1518,
    "start_time": "2021-08-01T12:40:21.586Z"
   },
   {
    "duration": -1521,
    "start_time": "2021-08-01T12:40:21.590Z"
   },
   {
    "duration": -1529,
    "start_time": "2021-08-01T12:40:21.600Z"
   },
   {
    "duration": -1531,
    "start_time": "2021-08-01T12:40:21.604Z"
   },
   {
    "duration": -1533,
    "start_time": "2021-08-01T12:40:21.608Z"
   },
   {
    "duration": -1538,
    "start_time": "2021-08-01T12:40:21.615Z"
   },
   {
    "duration": -1541,
    "start_time": "2021-08-01T12:40:21.619Z"
   },
   {
    "duration": -1545,
    "start_time": "2021-08-01T12:40:21.625Z"
   },
   {
    "duration": 5,
    "start_time": "2021-08-01T12:40:54.349Z"
   },
   {
    "duration": 1754,
    "start_time": "2021-08-01T12:40:57.349Z"
   },
   {
    "duration": 114,
    "start_time": "2021-08-01T12:41:47.134Z"
   },
   {
    "duration": 17,
    "start_time": "2021-08-01T12:41:51.117Z"
   },
   {
    "duration": 29,
    "start_time": "2021-08-01T12:41:55.902Z"
   },
   {
    "duration": 12,
    "start_time": "2021-08-01T12:41:59.982Z"
   },
   {
    "duration": 18,
    "start_time": "2021-08-01T12:42:02.031Z"
   },
   {
    "duration": 14,
    "start_time": "2021-08-01T12:42:03.207Z"
   },
   {
    "duration": 10,
    "start_time": "2021-08-01T12:42:08.846Z"
   },
   {
    "duration": 11,
    "start_time": "2021-08-01T12:42:11.705Z"
   },
   {
    "duration": 11,
    "start_time": "2021-08-01T12:42:13.730Z"
   },
   {
    "duration": 6,
    "start_time": "2021-08-01T12:42:15.628Z"
   },
   {
    "duration": 11,
    "start_time": "2021-08-01T12:42:16.362Z"
   },
   {
    "duration": 10,
    "start_time": "2021-08-01T12:42:16.887Z"
   },
   {
    "duration": 6,
    "start_time": "2021-08-01T12:42:17.419Z"
   },
   {
    "duration": 20,
    "start_time": "2021-08-01T12:42:17.953Z"
   },
   {
    "duration": 10,
    "start_time": "2021-08-01T12:42:23.532Z"
   },
   {
    "duration": 12,
    "start_time": "2021-08-01T12:42:25.356Z"
   },
   {
    "duration": 8,
    "start_time": "2021-08-01T12:42:27.965Z"
   },
   {
    "duration": 11,
    "start_time": "2021-08-01T12:42:28.774Z"
   },
   {
    "duration": 27,
    "start_time": "2021-08-01T12:42:29.404Z"
   },
   {
    "duration": 11,
    "start_time": "2021-08-01T12:42:32.989Z"
   },
   {
    "duration": 17,
    "start_time": "2021-08-01T12:42:34.317Z"
   },
   {
    "duration": 9,
    "start_time": "2021-08-01T12:42:37.039Z"
   },
   {
    "duration": 20,
    "start_time": "2021-08-01T12:42:38.794Z"
   },
   {
    "duration": 13,
    "start_time": "2021-08-01T12:42:40.280Z"
   },
   {
    "duration": 8,
    "start_time": "2021-08-01T12:42:48.568Z"
   },
   {
    "duration": 8,
    "start_time": "2021-08-01T12:42:49.558Z"
   },
   {
    "duration": 9,
    "start_time": "2021-08-01T12:42:52.416Z"
   },
   {
    "duration": 22,
    "start_time": "2021-08-01T12:42:56.353Z"
   },
   {
    "duration": 12,
    "start_time": "2021-08-01T12:42:57.771Z"
   },
   {
    "duration": 42,
    "start_time": "2021-08-01T12:42:59.301Z"
   },
   {
    "duration": 145,
    "start_time": "2021-08-01T12:43:06.898Z"
   },
   {
    "duration": 521,
    "start_time": "2021-08-01T12:43:14.061Z"
   },
   {
    "duration": 491,
    "start_time": "2021-08-01T12:43:19.581Z"
   },
   {
    "duration": 350,
    "start_time": "2021-08-01T12:43:23.186Z"
   },
   {
    "duration": 272,
    "start_time": "2021-08-01T12:43:27.715Z"
   },
   {
    "duration": 357,
    "start_time": "2021-08-01T12:43:30.247Z"
   },
   {
    "duration": 343,
    "start_time": "2021-08-01T12:43:33.829Z"
   },
   {
    "duration": 503,
    "start_time": "2021-08-01T12:43:48.748Z"
   },
   {
    "duration": 7,
    "start_time": "2021-08-01T12:43:53.593Z"
   },
   {
    "duration": 6,
    "start_time": "2021-08-01T12:43:54.538Z"
   },
   {
    "duration": 4,
    "start_time": "2021-08-01T12:43:55.491Z"
   },
   {
    "duration": 20,
    "start_time": "2021-08-01T12:43:56.998Z"
   },
   {
    "duration": 9,
    "start_time": "2021-08-01T12:44:08.347Z"
   },
   {
    "duration": 6,
    "start_time": "2021-08-01T12:44:11.901Z"
   },
   {
    "duration": 12,
    "start_time": "2021-08-01T12:44:15.179Z"
   },
   {
    "duration": 4,
    "start_time": "2021-08-01T12:44:16.791Z"
   },
   {
    "duration": 14,
    "start_time": "2021-08-01T12:44:20.414Z"
   },
   {
    "duration": 18,
    "start_time": "2021-08-01T12:44:24.051Z"
   },
   {
    "duration": 1913,
    "start_time": "2021-08-01T12:44:26.151Z"
   },
   {
    "duration": 56,
    "start_time": "2021-08-01T12:44:33.996Z"
   },
   {
    "duration": 410839,
    "start_time": "2021-08-01T12:44:40.626Z"
   },
   {
    "duration": 110,
    "start_time": "2021-08-01T12:51:50.098Z"
   },
   {
    "duration": 146,
    "start_time": "2021-08-01T12:52:10.034Z"
   },
   {
    "duration": 4,
    "start_time": "2021-08-01T12:52:43.472Z"
   },
   {
    "duration": 13,
    "start_time": "2021-08-01T12:52:45.580Z"
   },
   {
    "duration": 99601,
    "start_time": "2021-08-01T12:52:46.846Z"
   },
   {
    "duration": 6,
    "start_time": "2021-08-01T12:54:40.475Z"
   },
   {
    "duration": 15,
    "start_time": "2021-08-01T12:54:41.712Z"
   },
   {
    "duration": 158384,
    "start_time": "2021-08-01T12:54:43.141Z"
   },
   {
    "duration": 5,
    "start_time": "2021-08-01T12:58:25.760Z"
   },
   {
    "duration": 17313,
    "start_time": "2021-08-01T12:58:40.656Z"
   },
   {
    "duration": 3,
    "start_time": "2021-08-01T12:59:41.410Z"
   },
   {
    "duration": 75,
    "start_time": "2021-08-01T12:59:54.032Z"
   },
   {
    "duration": 56,
    "start_time": "2021-08-01T13:23:03.033Z"
   },
   {
    "duration": 14,
    "start_time": "2021-08-01T13:23:05.395Z"
   },
   {
    "duration": 12,
    "start_time": "2021-08-01T13:23:28.893Z"
   },
   {
    "duration": 76,
    "start_time": "2021-08-01T13:27:28.299Z"
   },
   {
    "duration": 10,
    "start_time": "2021-08-01T13:28:37.143Z"
   },
   {
    "duration": 17,
    "start_time": "2021-08-01T13:28:39.627Z"
   },
   {
    "duration": 9,
    "start_time": "2021-08-01T13:28:43.159Z"
   },
   {
    "duration": 9,
    "start_time": "2021-08-01T13:30:12.913Z"
   },
   {
    "duration": 9,
    "start_time": "2021-08-01T13:30:19.078Z"
   },
   {
    "duration": 1887,
    "start_time": "2021-08-01T13:53:32.721Z"
   },
   {
    "duration": 102,
    "start_time": "2021-08-01T13:54:04.538Z"
   },
   {
    "duration": 3,
    "start_time": "2021-08-01T13:54:07.388Z"
   },
   {
    "duration": 34,
    "start_time": "2021-08-01T13:54:10.117Z"
   },
   {
    "duration": 23,
    "start_time": "2021-08-01T13:54:17.414Z"
   },
   {
    "duration": 25,
    "start_time": "2021-08-01T13:54:21.142Z"
   },
   {
    "duration": 17,
    "start_time": "2021-08-01T13:54:25.574Z"
   },
   {
    "duration": 8,
    "start_time": "2021-08-01T13:54:34.379Z"
   },
   {
    "duration": 7,
    "start_time": "2021-08-01T13:54:44.948Z"
   },
   {
    "duration": 13,
    "start_time": "2021-08-01T13:54:53.978Z"
   },
   {
    "duration": 8,
    "start_time": "2021-08-01T13:55:04.218Z"
   },
   {
    "duration": 4,
    "start_time": "2021-08-01T13:55:12.638Z"
   },
   {
    "duration": 32,
    "start_time": "2021-08-01T13:55:14.153Z"
   },
   {
    "duration": 9,
    "start_time": "2021-08-01T13:55:37.284Z"
   },
   {
    "duration": 12,
    "start_time": "2021-08-01T13:55:38.259Z"
   },
   {
    "duration": 34,
    "start_time": "2021-08-01T13:55:56.087Z"
   },
   {
    "duration": 8,
    "start_time": "2021-08-01T13:56:00.940Z"
   },
   {
    "duration": 20,
    "start_time": "2021-08-01T13:56:03.085Z"
   },
   {
    "duration": 7,
    "start_time": "2021-08-01T13:56:14.800Z"
   },
   {
    "duration": 30,
    "start_time": "2021-08-01T13:56:17.280Z"
   },
   {
    "duration": 6,
    "start_time": "2021-08-01T13:56:25.377Z"
   },
   {
    "duration": 9,
    "start_time": "2021-08-01T13:56:26.928Z"
   },
   {
    "duration": 5,
    "start_time": "2021-08-01T13:56:31.855Z"
   },
   {
    "duration": 1295,
    "start_time": "2021-08-01T13:56:35.026Z"
   },
   {
    "duration": 6,
    "start_time": "2021-08-01T13:56:42.417Z"
   },
   {
    "duration": 5,
    "start_time": "2021-08-01T13:56:45.828Z"
   },
   {
    "duration": 2507,
    "start_time": "2021-08-01T13:56:47.816Z"
   },
   {
    "duration": 5,
    "start_time": "2021-08-01T13:56:53.718Z"
   },
   {
    "duration": 1474,
    "start_time": "2021-08-01T13:56:56.126Z"
   },
   {
    "duration": 20,
    "start_time": "2021-08-01T13:57:00.235Z"
   },
   {
    "duration": 7442,
    "start_time": "2021-08-01T13:57:03.693Z"
   },
   {
    "duration": 25,
    "start_time": "2021-08-01T13:57:11.138Z"
   },
   {
    "duration": 15,
    "start_time": "2021-08-01T13:57:17.119Z"
   },
   {
    "duration": 1580,
    "start_time": "2021-08-01T13:57:21.303Z"
   },
   {
    "duration": 7,
    "start_time": "2021-08-01T13:57:27.461Z"
   },
   {
    "duration": 32,
    "start_time": "2021-08-01T13:57:29.891Z"
   },
   {
    "duration": 33,
    "start_time": "2021-08-01T13:57:33.415Z"
   },
   {
    "duration": 36,
    "start_time": "2021-08-01T13:57:36.491Z"
   },
   {
    "duration": 6,
    "start_time": "2021-08-01T13:57:39.663Z"
   },
   {
    "duration": 1197,
    "start_time": "2021-08-01T13:57:43.068Z"
   },
   {
    "duration": 7,
    "start_time": "2021-08-01T13:57:58.136Z"
   },
   {
    "duration": 7,
    "start_time": "2021-08-01T13:57:59.312Z"
   },
   {
    "duration": 2582,
    "start_time": "2021-08-01T13:58:00.259Z"
   },
   {
    "duration": 293,
    "start_time": "2021-08-01T13:58:06.724Z"
   },
   {
    "duration": 28,
    "start_time": "2021-08-01T13:58:10.811Z"
   },
   {
    "duration": 19,
    "start_time": "2021-08-01T13:58:13.106Z"
   },
   {
    "duration": 576,
    "start_time": "2021-08-01T13:58:14.614Z"
   },
   {
    "duration": 569,
    "start_time": "2021-08-01T13:58:20.007Z"
   },
   {
    "duration": 66,
    "start_time": "2021-08-01T13:58:25.853Z"
   },
   {
    "duration": 9,
    "start_time": "2021-08-01T13:58:33.336Z"
   },
   {
    "duration": 8,
    "start_time": "2021-08-01T13:58:36.732Z"
   },
   {
    "duration": 280,
    "start_time": "2021-08-01T13:58:38.524Z"
   },
   {
    "duration": 8,
    "start_time": "2021-08-01T13:58:45.311Z"
   },
   {
    "duration": 388,
    "start_time": "2021-08-01T13:58:49.264Z"
   },
   {
    "duration": 12,
    "start_time": "2021-08-01T13:58:51.670Z"
   },
   {
    "duration": 289,
    "start_time": "2021-08-01T13:58:53.283Z"
   },
   {
    "duration": 10,
    "start_time": "2021-08-01T13:58:57.364Z"
   },
   {
    "duration": 116,
    "start_time": "2021-08-01T13:58:59.262Z"
   },
   {
    "duration": 13,
    "start_time": "2021-08-01T13:59:02.802Z"
   },
   {
    "duration": 5,
    "start_time": "2021-08-01T13:59:04.016Z"
   },
   {
    "duration": 8,
    "start_time": "2021-08-01T13:59:06.619Z"
   },
   {
    "duration": 6,
    "start_time": "2021-08-01T13:59:09.843Z"
   },
   {
    "duration": 32,
    "start_time": "2021-08-01T13:59:11.187Z"
   },
   {
    "duration": 8,
    "start_time": "2021-08-01T13:59:14.429Z"
   },
   {
    "duration": 6,
    "start_time": "2021-08-01T13:59:16.864Z"
   },
   {
    "duration": 16,
    "start_time": "2021-08-01T13:59:19.796Z"
   },
   {
    "duration": 8,
    "start_time": "2021-08-01T13:59:21.432Z"
   },
   {
    "duration": 91,
    "start_time": "2021-08-01T13:59:26.760Z"
   },
   {
    "duration": 7,
    "start_time": "2021-08-01T13:59:30.973Z"
   },
   {
    "duration": 11,
    "start_time": "2021-08-01T13:59:36.185Z"
   },
   {
    "duration": 8,
    "start_time": "2021-08-01T13:59:45.080Z"
   },
   {
    "duration": 12578,
    "start_time": "2021-08-01T13:59:49.616Z"
   },
   {
    "duration": 7,
    "start_time": "2021-08-01T14:00:09.337Z"
   },
   {
    "duration": 2085,
    "start_time": "2021-08-01T14:00:14.662Z"
   },
   {
    "duration": 324,
    "start_time": "2021-08-01T18:09:25.742Z"
   },
   {
    "duration": 1682,
    "start_time": "2021-08-01T18:09:35.297Z"
   },
   {
    "duration": 3,
    "start_time": "2021-08-01T18:09:36.982Z"
   },
   {
    "duration": 518,
    "start_time": "2021-08-01T18:09:36.988Z"
   },
   {
    "duration": 101,
    "start_time": "2021-08-01T18:09:37.509Z"
   },
   {
    "duration": 4,
    "start_time": "2021-08-01T18:09:37.612Z"
   },
   {
    "duration": 43,
    "start_time": "2021-08-01T18:09:37.618Z"
   },
   {
    "duration": 26,
    "start_time": "2021-08-01T18:09:37.665Z"
   },
   {
    "duration": 26,
    "start_time": "2021-08-01T18:09:37.695Z"
   },
   {
    "duration": 52,
    "start_time": "2021-08-01T18:09:37.724Z"
   },
   {
    "duration": 10,
    "start_time": "2021-08-01T18:09:37.780Z"
   },
   {
    "duration": 9,
    "start_time": "2021-08-01T18:09:37.792Z"
   },
   {
    "duration": 18,
    "start_time": "2021-08-01T18:09:37.803Z"
   },
   {
    "duration": 7,
    "start_time": "2021-08-01T18:09:37.824Z"
   },
   {
    "duration": 32,
    "start_time": "2021-08-01T18:09:37.834Z"
   },
   {
    "duration": 51,
    "start_time": "2021-08-01T18:09:37.869Z"
   },
   {
    "duration": 9,
    "start_time": "2021-08-01T18:09:37.923Z"
   },
   {
    "duration": 50,
    "start_time": "2021-08-01T18:09:37.935Z"
   },
   {
    "duration": 31,
    "start_time": "2021-08-01T18:09:37.987Z"
   },
   {
    "duration": 7,
    "start_time": "2021-08-01T18:09:38.021Z"
   },
   {
    "duration": 50,
    "start_time": "2021-08-01T18:09:38.030Z"
   },
   {
    "duration": 7,
    "start_time": "2021-08-01T18:09:38.083Z"
   },
   {
    "duration": 34,
    "start_time": "2021-08-01T18:09:38.093Z"
   },
   {
    "duration": 12,
    "start_time": "2021-08-01T18:09:38.133Z"
   },
   {
    "duration": 12,
    "start_time": "2021-08-01T18:09:38.169Z"
   },
   {
    "duration": 5,
    "start_time": "2021-08-01T18:09:38.184Z"
   },
   {
    "duration": 1338,
    "start_time": "2021-08-01T18:09:38.192Z"
   },
   {
    "duration": 4,
    "start_time": "2021-08-01T18:09:39.533Z"
   },
   {
    "duration": 22,
    "start_time": "2021-08-01T18:09:39.540Z"
   },
   {
    "duration": 1803,
    "start_time": "2021-08-01T18:09:39.565Z"
   },
   {
    "duration": 5,
    "start_time": "2021-08-01T18:09:41.370Z"
   },
   {
    "duration": 1386,
    "start_time": "2021-08-01T18:09:41.377Z"
   },
   {
    "duration": 22,
    "start_time": "2021-08-01T18:09:42.768Z"
   },
   {
    "duration": 9628,
    "start_time": "2021-08-01T18:09:42.792Z"
   },
   {
    "duration": 17,
    "start_time": "2021-08-01T18:09:52.423Z"
   },
   {
    "duration": 19,
    "start_time": "2021-08-01T18:09:52.462Z"
   },
   {
    "duration": 1314,
    "start_time": "2021-08-01T18:09:52.483Z"
   },
   {
    "duration": 7,
    "start_time": "2021-08-01T18:09:53.800Z"
   },
   {
    "duration": 68,
    "start_time": "2021-08-01T18:09:53.810Z"
   },
   {
    "duration": 33,
    "start_time": "2021-08-01T18:09:53.881Z"
   },
   {
    "duration": 62,
    "start_time": "2021-08-01T18:09:53.916Z"
   },
   {
    "duration": 131,
    "start_time": "2021-08-01T18:09:53.981Z"
   },
   {
    "duration": 1089,
    "start_time": "2021-08-01T18:09:54.114Z"
   },
   {
    "duration": 6,
    "start_time": "2021-08-01T18:09:55.205Z"
   },
   {
    "duration": 23,
    "start_time": "2021-08-01T18:09:55.213Z"
   },
   {
    "duration": 2596,
    "start_time": "2021-08-01T18:09:55.239Z"
   },
   {
    "duration": 305,
    "start_time": "2021-08-01T18:09:57.837Z"
   },
   {
    "duration": 41,
    "start_time": "2021-08-01T18:09:58.145Z"
   },
   {
    "duration": 16,
    "start_time": "2021-08-01T18:09:58.188Z"
   },
   {
    "duration": 786,
    "start_time": "2021-08-01T18:09:58.207Z"
   },
   {
    "duration": 780,
    "start_time": "2021-08-01T18:09:58.995Z"
   },
   {
    "duration": 90,
    "start_time": "2021-08-01T18:09:59.778Z"
   },
   {
    "duration": 11,
    "start_time": "2021-08-01T18:09:59.871Z"
   },
   {
    "duration": 11,
    "start_time": "2021-08-01T18:09:59.885Z"
   },
   {
    "duration": 316,
    "start_time": "2021-08-01T18:09:59.898Z"
   },
   {
    "duration": 9,
    "start_time": "2021-08-01T18:10:00.217Z"
   },
   {
    "duration": 427,
    "start_time": "2021-08-01T18:10:00.229Z"
   },
   {
    "duration": 15,
    "start_time": "2021-08-01T18:10:00.659Z"
   },
   {
    "duration": 468,
    "start_time": "2021-08-01T18:10:00.676Z"
   },
   {
    "duration": 20,
    "start_time": "2021-08-01T18:10:01.147Z"
   },
   {
    "duration": 90,
    "start_time": "2021-08-01T18:10:01.172Z"
   },
   {
    "duration": 13,
    "start_time": "2021-08-01T18:10:01.267Z"
   },
   {
    "duration": 19,
    "start_time": "2021-08-01T18:10:01.282Z"
   },
   {
    "duration": 21,
    "start_time": "2021-08-01T18:10:01.303Z"
   },
   {
    "duration": 16,
    "start_time": "2021-08-01T18:10:01.326Z"
   },
   {
    "duration": 44,
    "start_time": "2021-08-01T18:10:01.345Z"
   },
   {
    "duration": 9,
    "start_time": "2021-08-01T18:10:01.392Z"
   },
   {
    "duration": 27,
    "start_time": "2021-08-01T18:10:01.404Z"
   },
   {
    "duration": 46,
    "start_time": "2021-08-01T18:10:01.439Z"
   },
   {
    "duration": 17,
    "start_time": "2021-08-01T18:10:01.488Z"
   },
   {
    "duration": 42,
    "start_time": "2021-08-01T18:10:01.508Z"
   },
   {
    "duration": 48,
    "start_time": "2021-08-01T18:10:01.553Z"
   },
   {
    "duration": 6,
    "start_time": "2021-08-01T18:10:01.603Z"
   },
   {
    "duration": 58,
    "start_time": "2021-08-01T18:10:01.611Z"
   },
   {
    "duration": 24,
    "start_time": "2021-08-01T18:10:01.672Z"
   },
   {
    "duration": 12689,
    "start_time": "2021-08-01T18:10:01.698Z"
   },
   {
    "duration": 6,
    "start_time": "2021-08-01T18:10:14.389Z"
   },
   {
    "duration": 1697,
    "start_time": "2021-08-01T18:10:14.398Z"
   },
   {
    "duration": 1439405,
    "start_time": "2021-08-01T18:10:16.097Z"
   },
   {
    "duration": 2363,
    "start_time": "2021-08-01T18:34:15.505Z"
   },
   {
    "duration": 4330276,
    "start_time": "2021-08-01T18:34:17.871Z"
   },
   {
    "duration": 1429,
    "start_time": "2021-08-01T19:46:28.149Z"
   },
   {
    "duration": 1991,
    "start_time": "2021-08-02T18:51:22.829Z"
   },
   {
    "duration": 3,
    "start_time": "2021-08-02T18:51:25.012Z"
   },
   {
    "duration": 43,
    "start_time": "2021-08-02T18:51:33.412Z"
   },
   {
    "duration": 20,
    "start_time": "2021-08-02T18:51:36.404Z"
   },
   {
    "duration": 12,
    "start_time": "2021-08-02T18:51:38.706Z"
   },
   {
    "duration": 7,
    "start_time": "2021-08-02T18:51:41.938Z"
   },
   {
    "duration": 21,
    "start_time": "2021-08-02T18:51:47.552Z"
   },
   {
    "duration": 8,
    "start_time": "2021-08-02T18:51:54.037Z"
   },
   {
    "duration": 22,
    "start_time": "2021-08-02T18:52:01.025Z"
   },
   {
    "duration": 1591,
    "start_time": "2021-08-02T18:52:27.382Z"
   },
   {
    "duration": 1423,
    "start_time": "2021-08-02T18:52:52.625Z"
   },
   {
    "duration": 2473,
    "start_time": "2021-08-02T18:55:04.489Z"
   },
   {
    "duration": 2468,
    "start_time": "2021-08-02T18:56:19.221Z"
   },
   {
    "duration": 2512,
    "start_time": "2021-08-02T18:58:15.788Z"
   },
   {
    "duration": 2411,
    "start_time": "2021-08-02T18:59:47.899Z"
   },
   {
    "duration": 44,
    "start_time": "2021-08-02T19:00:19.079Z"
   },
   {
    "duration": 15,
    "start_time": "2021-08-02T19:00:20.834Z"
   },
   {
    "duration": 13,
    "start_time": "2021-08-02T19:00:23.615Z"
   },
   {
    "duration": 7,
    "start_time": "2021-08-02T19:00:26.391Z"
   },
   {
    "duration": 21,
    "start_time": "2021-08-02T19:00:28.004Z"
   },
   {
    "duration": 9,
    "start_time": "2021-08-02T19:00:30.321Z"
   },
   {
    "duration": 23,
    "start_time": "2021-08-02T19:00:33.022Z"
   },
   {
    "duration": 15,
    "start_time": "2021-08-02T19:00:36.892Z"
   },
   {
    "duration": 14,
    "start_time": "2021-08-02T19:00:40.155Z"
   },
   {
    "duration": 11,
    "start_time": "2021-08-02T19:00:59.183Z"
   },
   {
    "duration": 17,
    "start_time": "2021-08-02T19:01:25.336Z"
   },
   {
    "duration": 1980,
    "start_time": "2021-08-02T19:03:12.954Z"
   },
   {
    "duration": 4,
    "start_time": "2021-08-02T19:03:15.136Z"
   },
   {
    "duration": 44,
    "start_time": "2021-08-02T19:03:17.397Z"
   },
   {
    "duration": 21,
    "start_time": "2021-08-02T19:03:18.339Z"
   },
   {
    "duration": 14,
    "start_time": "2021-08-02T19:03:19.297Z"
   },
   {
    "duration": 9,
    "start_time": "2021-08-02T19:03:19.992Z"
   },
   {
    "duration": 24,
    "start_time": "2021-08-02T19:03:20.926Z"
   },
   {
    "duration": 8,
    "start_time": "2021-08-02T19:03:22.666Z"
   },
   {
    "duration": 23,
    "start_time": "2021-08-02T19:03:24.105Z"
   },
   {
    "duration": 16,
    "start_time": "2021-08-02T19:03:27.391Z"
   },
   {
    "duration": 14,
    "start_time": "2021-08-02T19:03:31.358Z"
   },
   {
    "duration": 37,
    "start_time": "2021-08-02T19:03:37.531Z"
   },
   {
    "duration": 13,
    "start_time": "2021-08-02T19:03:41.964Z"
   },
   {
    "duration": 11,
    "start_time": "2021-08-02T19:03:45.145Z"
   },
   {
    "duration": 8,
    "start_time": "2021-08-02T19:03:48.956Z"
   },
   {
    "duration": 15,
    "start_time": "2021-08-02T19:03:51.654Z"
   },
   {
    "duration": 40,
    "start_time": "2021-08-02T19:03:55.719Z"
   },
   {
    "duration": 15,
    "start_time": "2021-08-02T19:04:02.740Z"
   },
   {
    "duration": 11,
    "start_time": "2021-08-02T19:04:05.608Z"
   },
   {
    "duration": 7,
    "start_time": "2021-08-02T19:04:08.228Z"
   },
   {
    "duration": 23,
    "start_time": "2021-08-02T19:04:11.447Z"
   },
   {
    "duration": 24,
    "start_time": "2021-08-02T19:04:35.614Z"
   },
   {
    "duration": 33,
    "start_time": "2021-08-02T19:04:45.204Z"
   },
   {
    "duration": 10,
    "start_time": "2021-08-02T19:04:46.272Z"
   },
   {
    "duration": 8,
    "start_time": "2021-08-02T19:04:47.786Z"
   },
   {
    "duration": 7,
    "start_time": "2021-08-02T19:04:48.703Z"
   },
   {
    "duration": 9,
    "start_time": "2021-08-02T19:04:52.766Z"
   },
   {
    "duration": 69,
    "start_time": "2021-08-02T19:05:02.372Z"
   },
   {
    "duration": 9,
    "start_time": "2021-08-02T19:05:28.007Z"
   },
   {
    "duration": 3,
    "start_time": "2021-08-02T19:05:38.200Z"
   },
   {
    "duration": 10,
    "start_time": "2021-08-02T19:05:40.123Z"
   },
   {
    "duration": 262,
    "start_time": "2021-08-02T19:05:42.673Z"
   },
   {
    "duration": 11,
    "start_time": "2021-08-02T19:05:45.261Z"
   },
   {
    "duration": 3,
    "start_time": "2021-08-02T19:05:47.791Z"
   },
   {
    "duration": 10,
    "start_time": "2021-08-02T19:05:52.302Z"
   },
   {
    "duration": 550,
    "start_time": "2021-08-02T19:05:54.639Z"
   },
   {
    "duration": 75,
    "start_time": "2021-08-02T19:06:03.967Z"
   },
   {
    "duration": 10,
    "start_time": "2021-08-02T19:06:17.207Z"
   },
   {
    "duration": 6,
    "start_time": "2021-08-02T19:06:27.471Z"
   },
   {
    "duration": 8,
    "start_time": "2021-08-02T19:07:13.768Z"
   },
   {
    "duration": 7,
    "start_time": "2021-08-02T19:07:19.273Z"
   },
   {
    "duration": 20,
    "start_time": "2021-08-02T19:07:26.604Z"
   },
   {
    "duration": 9,
    "start_time": "2021-08-02T19:07:34.481Z"
   },
   {
    "duration": 5,
    "start_time": "2021-08-02T19:07:39.619Z"
   },
   {
    "duration": 16,
    "start_time": "2021-08-02T19:07:44.202Z"
   },
   {
    "duration": 9,
    "start_time": "2021-08-02T19:07:47.151Z"
   },
   {
    "duration": 23,
    "start_time": "2021-08-02T19:07:56.104Z"
   },
   {
    "duration": 5,
    "start_time": "2021-08-02T19:10:48.795Z"
   },
   {
    "duration": 5,
    "start_time": "2021-08-02T19:14:24.565Z"
   },
   {
    "duration": 320,
    "start_time": "2021-08-02T19:20:22.011Z"
   },
   {
    "duration": 245,
    "start_time": "2021-08-02T19:20:49.333Z"
   },
   {
    "duration": 599,
    "start_time": "2021-08-02T19:21:00.757Z"
   },
   {
    "duration": 135,
    "start_time": "2021-08-02T19:21:26.229Z"
   },
   {
    "duration": 226,
    "start_time": "2021-08-02T19:21:40.666Z"
   },
   {
    "duration": 12071,
    "start_time": "2021-08-02T19:22:31.041Z"
   },
   {
    "duration": 135339,
    "start_time": "2021-08-02T19:25:58.963Z"
   },
   {
    "duration": 600,
    "start_time": "2021-08-02T19:34:12.970Z"
   },
   {
    "duration": 29679,
    "start_time": "2021-08-02T19:34:32.696Z"
   },
   {
    "duration": 39852,
    "start_time": "2021-08-02T19:36:00.753Z"
   },
   {
    "duration": 34545,
    "start_time": "2021-08-02T19:37:12.964Z"
   },
   {
    "duration": 404739,
    "start_time": "2021-08-02T19:43:47.775Z"
   },
   {
    "duration": 21208,
    "start_time": "2021-08-02T19:51:33.414Z"
   },
   {
    "duration": 71024,
    "start_time": "2021-08-02T19:54:17.979Z"
   },
   {
    "duration": 362,
    "start_time": "2021-08-02T19:55:59.694Z"
   },
   {
    "duration": 362,
    "start_time": "2021-08-02T19:56:12.256Z"
   },
   {
    "duration": 5,
    "start_time": "2021-08-02T20:04:22.069Z"
   },
   {
    "duration": 5,
    "start_time": "2021-08-02T20:04:26.330Z"
   },
   {
    "duration": 98555,
    "start_time": "2021-08-02T20:05:03.990Z"
   },
   {
    "duration": 527,
    "start_time": "2021-08-02T20:07:14.253Z"
   },
   {
    "duration": 1726531,
    "start_time": "2021-08-02T20:11:10.972Z"
   },
   {
    "duration": 763,
    "start_time": "2021-08-02T20:40:34.543Z"
   },
   {
    "duration": 119,
    "start_time": "2021-08-02T20:43:21.339Z"
   },
   {
    "duration": 350,
    "start_time": "2021-08-02T20:43:35.093Z"
   },
   {
    "duration": 5,
    "start_time": "2021-08-02T20:43:43.809Z"
   },
   {
    "duration": 1589,
    "start_time": "2021-08-02T21:10:40.894Z"
   },
   {
    "duration": 3,
    "start_time": "2021-08-02T21:10:42.486Z"
   },
   {
    "duration": 3,
    "start_time": "2021-08-02T21:10:44.363Z"
   },
   {
    "duration": 5,
    "start_time": "2021-08-02T21:10:45.315Z"
   },
   {
    "duration": 5,
    "start_time": "2021-08-02T21:10:46.506Z"
   },
   {
    "duration": 93,
    "start_time": "2021-08-02T21:11:02.182Z"
   },
   {
    "duration": 21,
    "start_time": "2021-08-02T21:11:02.999Z"
   },
   {
    "duration": 12,
    "start_time": "2021-08-02T21:11:03.974Z"
   },
   {
    "duration": 9,
    "start_time": "2021-08-02T21:11:05.421Z"
   },
   {
    "duration": 23,
    "start_time": "2021-08-02T21:11:06.839Z"
   },
   {
    "duration": 8,
    "start_time": "2021-08-02T21:11:10.154Z"
   },
   {
    "duration": 34,
    "start_time": "2021-08-02T21:11:11.511Z"
   },
   {
    "duration": 15,
    "start_time": "2021-08-02T21:11:12.674Z"
   },
   {
    "duration": 13,
    "start_time": "2021-08-02T21:11:13.581Z"
   },
   {
    "duration": 38,
    "start_time": "2021-08-02T21:11:14.751Z"
   },
   {
    "duration": 14,
    "start_time": "2021-08-02T21:11:15.141Z"
   },
   {
    "duration": 11,
    "start_time": "2021-08-02T21:11:15.531Z"
   },
   {
    "duration": 8,
    "start_time": "2021-08-02T21:11:15.959Z"
   },
   {
    "duration": 16,
    "start_time": "2021-08-02T21:11:16.462Z"
   },
   {
    "duration": 38,
    "start_time": "2021-08-02T21:11:17.339Z"
   },
   {
    "duration": 16,
    "start_time": "2021-08-02T21:11:17.691Z"
   },
   {
    "duration": 10,
    "start_time": "2021-08-02T21:11:18.134Z"
   },
   {
    "duration": 6,
    "start_time": "2021-08-02T21:11:18.554Z"
   },
   {
    "duration": 23,
    "start_time": "2021-08-02T21:11:19.582Z"
   },
   {
    "duration": 33,
    "start_time": "2021-08-02T21:11:20.452Z"
   },
   {
    "duration": 9,
    "start_time": "2021-08-02T21:11:20.872Z"
   },
   {
    "duration": 8,
    "start_time": "2021-08-02T21:11:21.246Z"
   },
   {
    "duration": 7,
    "start_time": "2021-08-02T21:11:22.409Z"
   },
   {
    "duration": 8,
    "start_time": "2021-08-02T21:11:27.455Z"
   },
   {
    "duration": 503,
    "start_time": "2021-08-02T21:18:38.183Z"
   },
   {
    "duration": 395,
    "start_time": "2021-08-02T21:19:12.521Z"
   },
   {
    "duration": 71,
    "start_time": "2021-08-02T21:19:15.805Z"
   },
   {
    "duration": 48,
    "start_time": "2021-08-02T21:20:15.104Z"
   },
   {
    "duration": 19,
    "start_time": "2021-08-02T21:20:42.683Z"
   },
   {
    "duration": 11,
    "start_time": "2021-08-02T21:25:07.838Z"
   },
   {
    "duration": 63,
    "start_time": "2021-08-02T21:25:11.019Z"
   },
   {
    "duration": 11,
    "start_time": "2021-08-02T21:26:09.933Z"
   },
   {
    "duration": 73,
    "start_time": "2021-08-02T21:27:51.867Z"
   },
   {
    "duration": 20,
    "start_time": "2021-08-02T21:27:55.880Z"
   },
   {
    "duration": 14,
    "start_time": "2021-08-02T21:27:59.668Z"
   },
   {
    "duration": 13,
    "start_time": "2021-08-02T21:28:04.147Z"
   },
   {
    "duration": 66,
    "start_time": "2021-08-02T21:28:10.933Z"
   },
   {
    "duration": 9,
    "start_time": "2021-08-02T21:28:53.108Z"
   },
   {
    "duration": 14,
    "start_time": "2021-08-02T21:28:55.470Z"
   },
   {
    "duration": 15,
    "start_time": "2021-08-02T21:33:43.581Z"
   },
   {
    "duration": 6,
    "start_time": "2021-08-02T21:33:54.534Z"
   },
   {
    "duration": 8,
    "start_time": "2021-08-02T21:34:35.443Z"
   },
   {
    "duration": 5,
    "start_time": "2021-08-02T21:36:01.793Z"
   },
   {
    "duration": 30260,
    "start_time": "2021-08-02T21:37:44.447Z"
   },
   {
    "duration": 53609,
    "start_time": "2021-08-02T21:39:43.193Z"
   },
   {
    "duration": 893314,
    "start_time": "2021-08-02T21:45:10.400Z"
   },
   {
    "duration": 304,
    "start_time": "2021-08-02T22:00:38.908Z"
   },
   {
    "duration": 376084,
    "start_time": "2021-08-02T22:04:03.230Z"
   },
   {
    "duration": 412,
    "start_time": "2021-08-02T22:11:01.099Z"
   },
   {
    "duration": 364465,
    "start_time": "2021-08-02T22:15:11.550Z"
   },
   {
    "duration": 308,
    "start_time": "2021-08-02T22:21:24.601Z"
   },
   {
    "duration": 452784,
    "start_time": "2021-08-02T22:23:46.832Z"
   },
   {
    "duration": 290,
    "start_time": "2021-08-02T22:32:10.719Z"
   },
   {
    "duration": 31379,
    "start_time": "2021-08-02T22:32:47.744Z"
   },
   {
    "duration": 24594,
    "start_time": "2021-08-02T22:33:55.927Z"
   },
   {
    "duration": 30888,
    "start_time": "2021-08-02T22:36:00.431Z"
   },
   {
    "duration": 24217,
    "start_time": "2021-08-02T22:37:28.688Z"
   },
   {
    "duration": 17700,
    "start_time": "2021-08-02T22:39:15.618Z"
   },
   {
    "duration": 241,
    "start_time": "2021-08-02T22:40:51.902Z"
   },
   {
    "duration": 656,
    "start_time": "2021-08-02T22:41:21.806Z"
   },
   {
    "duration": 637,
    "start_time": "2021-08-02T22:41:45.333Z"
   },
   {
    "duration": 95,
    "start_time": "2021-08-02T22:42:38.705Z"
   },
   {
    "duration": 96,
    "start_time": "2021-08-02T22:43:19.321Z"
   },
   {
    "duration": 5,
    "start_time": "2021-08-02T22:48:34.814Z"
   },
   {
    "duration": 102,
    "start_time": "2021-08-02T22:48:38.288Z"
   },
   {
    "duration": 37611,
    "start_time": "2021-08-02T22:48:52.112Z"
   },
   {
    "duration": 5,
    "start_time": "2021-08-02T22:54:26.821Z"
   },
   {
    "duration": 624,
    "start_time": "2021-08-02T22:59:47.831Z"
   },
   {
    "duration": 327,
    "start_time": "2021-08-02T23:00:11.804Z"
   },
   {
    "duration": 5,
    "start_time": "2021-08-02T23:02:13.984Z"
   },
   {
    "duration": 338,
    "start_time": "2021-08-02T23:02:18.320Z"
   },
   {
    "duration": 92,
    "start_time": "2021-08-02T23:02:38.847Z"
   },
   {
    "duration": 94,
    "start_time": "2021-08-02T23:02:52.879Z"
   },
   {
    "duration": 328,
    "start_time": "2021-08-02T23:03:04.167Z"
   },
   {
    "duration": 133,
    "start_time": "2021-08-02T23:04:40.102Z"
   },
   {
    "duration": 127,
    "start_time": "2021-08-02T23:05:22.770Z"
   },
   {
    "duration": 334,
    "start_time": "2021-08-02T23:05:32.519Z"
   },
   {
    "duration": 91,
    "start_time": "2021-08-02T23:06:07.727Z"
   },
   {
    "duration": 94,
    "start_time": "2021-08-02T23:06:19.614Z"
   },
   {
    "duration": 341,
    "start_time": "2021-08-02T23:06:59.175Z"
   },
   {
    "duration": 334,
    "start_time": "2021-08-02T23:08:27.297Z"
   },
   {
    "duration": 97,
    "start_time": "2021-08-02T23:10:12.839Z"
   },
   {
    "duration": 334,
    "start_time": "2021-08-02T23:13:47.665Z"
   },
   {
    "duration": 99,
    "start_time": "2021-08-02T23:13:56.852Z"
   },
   {
    "duration": 105,
    "start_time": "2021-08-02T23:16:17.943Z"
   },
   {
    "duration": 5,
    "start_time": "2021-08-02T23:20:13.952Z"
   },
   {
    "duration": 4,
    "start_time": "2021-08-02T23:20:14.544Z"
   },
   {
    "duration": 4,
    "start_time": "2021-08-02T23:20:52.292Z"
   },
   {
    "duration": 101,
    "start_time": "2021-08-02T23:21:13.110Z"
   },
   {
    "duration": 17592,
    "start_time": "2021-08-02T23:21:45.141Z"
   },
   {
    "duration": 5,
    "start_time": "2021-08-02T23:24:41.016Z"
   },
   {
    "duration": 99,
    "start_time": "2021-08-02T23:25:04.622Z"
   },
   {
    "duration": 11,
    "start_time": "2021-08-02T23:25:13.496Z"
   },
   {
    "duration": 17939,
    "start_time": "2021-08-02T23:25:33.185Z"
   },
   {
    "duration": 53033,
    "start_time": "2021-08-02T23:26:13.600Z"
   },
   {
    "duration": 31977,
    "start_time": "2021-08-02T23:28:21.424Z"
   },
   {
    "duration": 378215,
    "start_time": "2021-08-02T23:30:38.206Z"
   },
   {
    "duration": 70183,
    "start_time": "2021-08-02T23:37:56.676Z"
   },
   {
    "duration": 1267620,
    "start_time": "2021-08-02T23:39:38.898Z"
   },
   {
    "duration": 18,
    "start_time": "2021-08-03T00:04:05.206Z"
   },
   {
    "duration": 157,
    "start_time": "2021-08-03T00:04:26.314Z"
   },
   {
    "duration": 164,
    "start_time": "2021-08-03T00:04:28.264Z"
   },
   {
    "duration": 22,
    "start_time": "2021-08-03T00:04:30.993Z"
   },
   {
    "duration": 1572,
    "start_time": "2021-08-03T07:02:56.298Z"
   },
   {
    "duration": 4,
    "start_time": "2021-08-03T07:03:00.663Z"
   },
   {
    "duration": 4,
    "start_time": "2021-08-03T07:03:02.796Z"
   },
   {
    "duration": 5,
    "start_time": "2021-08-03T07:03:03.315Z"
   },
   {
    "duration": 5,
    "start_time": "2021-08-03T07:03:04.003Z"
   },
   {
    "duration": 44,
    "start_time": "2021-08-03T07:03:07.258Z"
   },
   {
    "duration": 21,
    "start_time": "2021-08-03T07:03:09.603Z"
   },
   {
    "duration": 12,
    "start_time": "2021-08-03T07:03:12.593Z"
   },
   {
    "duration": 7,
    "start_time": "2021-08-03T07:04:35.969Z"
   },
   {
    "duration": 16,
    "start_time": "2021-08-03T07:06:24.989Z"
   },
   {
    "duration": 15,
    "start_time": "2021-08-03T07:06:32.344Z"
   },
   {
    "duration": 14,
    "start_time": "2021-08-03T07:08:52.920Z"
   },
   {
    "duration": 7,
    "start_time": "2021-08-03T07:08:54.563Z"
   },
   {
    "duration": 8,
    "start_time": "2021-08-03T07:09:47.939Z"
   },
   {
    "duration": 85,
    "start_time": "2021-08-03T07:10:45.704Z"
   },
   {
    "duration": 22,
    "start_time": "2021-08-03T07:14:33.073Z"
   },
   {
    "duration": 23,
    "start_time": "2021-08-03T07:14:35.580Z"
   },
   {
    "duration": 15,
    "start_time": "2021-08-03T07:14:39.660Z"
   },
   {
    "duration": 13,
    "start_time": "2021-08-03T07:14:42.019Z"
   },
   {
    "duration": 33,
    "start_time": "2021-08-03T07:14:47.739Z"
   },
   {
    "duration": 12,
    "start_time": "2021-08-03T07:14:49.092Z"
   },
   {
    "duration": 11,
    "start_time": "2021-08-03T07:14:50.442Z"
   },
   {
    "duration": 12,
    "start_time": "2021-08-03T07:14:53.893Z"
   },
   {
    "duration": 8,
    "start_time": "2021-08-03T07:14:56.465Z"
   },
   {
    "duration": 15,
    "start_time": "2021-08-03T07:14:59.058Z"
   },
   {
    "duration": 13,
    "start_time": "2021-08-03T07:16:17.973Z"
   },
   {
    "duration": 16,
    "start_time": "2021-08-03T07:17:36.012Z"
   },
   {
    "duration": 34,
    "start_time": "2021-08-03T07:18:26.367Z"
   },
   {
    "duration": 16,
    "start_time": "2021-08-03T07:18:27.628Z"
   },
   {
    "duration": 11,
    "start_time": "2021-08-03T07:18:28.876Z"
   },
   {
    "duration": 14,
    "start_time": "2021-08-03T07:18:30.140Z"
   },
   {
    "duration": 7,
    "start_time": "2021-08-03T07:18:33.003Z"
   },
   {
    "duration": 22,
    "start_time": "2021-08-03T07:18:36.324Z"
   },
   {
    "duration": 28,
    "start_time": "2021-08-03T07:18:40.036Z"
   },
   {
    "duration": 10,
    "start_time": "2021-08-03T07:18:40.966Z"
   },
   {
    "duration": 8,
    "start_time": "2021-08-03T07:18:42.668Z"
   },
   {
    "duration": 8,
    "start_time": "2021-08-03T07:18:44.331Z"
   },
   {
    "duration": 7,
    "start_time": "2021-08-03T07:18:46.036Z"
   },
   {
    "duration": 10,
    "start_time": "2021-08-03T07:18:58.107Z"
   },
   {
    "duration": 66,
    "start_time": "2021-08-03T07:19:14.308Z"
   },
   {
    "duration": 21,
    "start_time": "2021-08-03T07:19:25.101Z"
   },
   {
    "duration": 15,
    "start_time": "2021-08-03T07:21:44.425Z"
   },
   {
    "duration": 417,
    "start_time": "2021-08-03T07:25:47.263Z"
   },
   {
    "duration": 65,
    "start_time": "2021-08-03T07:26:00.305Z"
   },
   {
    "duration": 21,
    "start_time": "2021-08-03T07:26:04.025Z"
   },
   {
    "duration": 14,
    "start_time": "2021-08-03T07:26:06.361Z"
   },
   {
    "duration": 218,
    "start_time": "2021-08-03T07:26:09.686Z"
   },
   {
    "duration": 44,
    "start_time": "2021-08-03T07:26:46.572Z"
   },
   {
    "duration": 250,
    "start_time": "2021-08-03T07:27:11.468Z"
   },
   {
    "duration": 6,
    "start_time": "2021-08-03T07:27:26.972Z"
   },
   {
    "duration": 36,
    "start_time": "2021-08-03T07:27:36.924Z"
   },
   {
    "duration": 88,
    "start_time": "2021-08-03T07:28:16.624Z"
   },
   {
    "duration": 52,
    "start_time": "2021-08-03T07:28:37.815Z"
   },
   {
    "duration": 37,
    "start_time": "2021-08-03T07:29:18.245Z"
   },
   {
    "duration": 294,
    "start_time": "2021-08-03T07:31:17.133Z"
   },
   {
    "duration": 15,
    "start_time": "2021-08-03T07:31:36.987Z"
   },
   {
    "duration": 17,
    "start_time": "2021-08-03T07:31:59.053Z"
   },
   {
    "duration": 18,
    "start_time": "2021-08-03T07:32:42.678Z"
   },
   {
    "duration": 8,
    "start_time": "2021-08-03T07:33:33.254Z"
   },
   {
    "duration": 8,
    "start_time": "2021-08-03T07:36:44.836Z"
   },
   {
    "duration": 9,
    "start_time": "2021-08-03T07:37:10.499Z"
   },
   {
    "duration": 9,
    "start_time": "2021-08-03T07:37:47.724Z"
   },
   {
    "duration": 9,
    "start_time": "2021-08-03T07:40:07.069Z"
   },
   {
    "duration": 10,
    "start_time": "2021-08-03T07:40:19.219Z"
   },
   {
    "duration": 105,
    "start_time": "2021-08-03T07:40:49.305Z"
   },
   {
    "duration": 17878,
    "start_time": "2021-08-03T07:41:00.021Z"
   },
   {
    "duration": 34457,
    "start_time": "2021-08-03T07:42:16.119Z"
   },
   {
    "duration": 164,
    "start_time": "2021-08-03T07:46:17.169Z"
   },
   {
    "duration": 4,
    "start_time": "2021-08-03T07:46:31.407Z"
   },
   {
    "duration": 439069,
    "start_time": "2021-08-03T07:46:34.717Z"
   },
   {
    "duration": 396,
    "start_time": "2021-08-03T07:55:19.378Z"
   },
   {
    "duration": 311,
    "start_time": "2021-08-03T07:56:42.260Z"
   },
   {
    "duration": 250,
    "start_time": "2021-08-03T07:57:35.819Z"
   },
   {
    "duration": 37,
    "start_time": "2021-08-03T07:59:17.630Z"
   },
   {
    "duration": 274,
    "start_time": "2021-08-03T07:59:29.991Z"
   },
   {
    "duration": 5,
    "start_time": "2021-08-03T08:01:15.516Z"
   },
   {
    "duration": 275,
    "start_time": "2021-08-03T08:01:22.616Z"
   },
   {
    "duration": 624,
    "start_time": "2021-08-03T08:06:51.004Z"
   },
   {
    "duration": 641,
    "start_time": "2021-08-03T08:07:50.148Z"
   },
   {
    "duration": 1597,
    "start_time": "2021-08-03T08:12:28.777Z"
   },
   {
    "duration": 3,
    "start_time": "2021-08-03T08:12:30.376Z"
   },
   {
    "duration": 13,
    "start_time": "2021-08-03T08:12:30.382Z"
   },
   {
    "duration": 10,
    "start_time": "2021-08-03T08:12:30.398Z"
   },
   {
    "duration": 14,
    "start_time": "2021-08-03T08:12:30.411Z"
   },
   {
    "duration": 56,
    "start_time": "2021-08-03T08:12:30.427Z"
   },
   {
    "duration": 20,
    "start_time": "2021-08-03T08:12:30.485Z"
   },
   {
    "duration": 23,
    "start_time": "2021-08-03T08:12:30.507Z"
   },
   {
    "duration": 21,
    "start_time": "2021-08-03T08:12:30.533Z"
   },
   {
    "duration": 7,
    "start_time": "2021-08-03T08:12:30.567Z"
   },
   {
    "duration": 14,
    "start_time": "2021-08-03T08:12:30.577Z"
   },
   {
    "duration": 31,
    "start_time": "2021-08-03T08:12:30.594Z"
   },
   {
    "duration": 39,
    "start_time": "2021-08-03T08:12:30.627Z"
   },
   {
    "duration": 15,
    "start_time": "2021-08-03T08:12:30.669Z"
   },
   {
    "duration": 36,
    "start_time": "2021-08-03T08:12:30.687Z"
   },
   {
    "duration": 42,
    "start_time": "2021-08-03T08:12:30.725Z"
   },
   {
    "duration": 21,
    "start_time": "2021-08-03T08:12:30.770Z"
   },
   {
    "duration": 15,
    "start_time": "2021-08-03T08:12:30.794Z"
   },
   {
    "duration": 27,
    "start_time": "2021-08-03T08:12:30.817Z"
   },
   {
    "duration": 10,
    "start_time": "2021-08-03T08:12:30.846Z"
   },
   {
    "duration": 34,
    "start_time": "2021-08-03T08:12:30.858Z"
   },
   {
    "duration": 47,
    "start_time": "2021-08-03T08:12:30.895Z"
   },
   {
    "duration": 15,
    "start_time": "2021-08-03T08:12:30.945Z"
   },
   {
    "duration": 40,
    "start_time": "2021-08-03T08:12:30.962Z"
   },
   {
    "duration": 44,
    "start_time": "2021-08-03T08:12:31.004Z"
   },
   {
    "duration": 6,
    "start_time": "2021-08-03T08:12:31.051Z"
   },
   {
    "duration": 31,
    "start_time": "2021-08-03T08:12:31.061Z"
   },
   {
    "duration": 25,
    "start_time": "2021-08-03T08:12:31.095Z"
   },
   {
    "duration": 13,
    "start_time": "2021-08-03T08:12:31.122Z"
   },
   {
    "duration": 25,
    "start_time": "2021-08-03T08:12:31.137Z"
   },
   {
    "duration": 19,
    "start_time": "2021-08-03T08:12:31.165Z"
   },
   {
    "duration": 19,
    "start_time": "2021-08-03T08:12:31.186Z"
   },
   {
    "duration": 26,
    "start_time": "2021-08-03T08:12:31.207Z"
   },
   {
    "duration": 79,
    "start_time": "2021-08-03T08:12:31.236Z"
   },
   {
    "duration": 20,
    "start_time": "2021-08-03T08:12:31.317Z"
   },
   {
    "duration": 28,
    "start_time": "2021-08-03T08:12:31.339Z"
   },
   {
    "duration": 18,
    "start_time": "2021-08-03T08:12:31.370Z"
   },
   {
    "duration": 77,
    "start_time": "2021-08-03T08:12:31.390Z"
   },
   {
    "duration": 37,
    "start_time": "2021-08-03T08:12:31.469Z"
   },
   {
    "duration": 17,
    "start_time": "2021-08-03T08:12:31.509Z"
   },
   {
    "duration": 9,
    "start_time": "2021-08-03T08:12:31.528Z"
   },
   {
    "duration": 157,
    "start_time": "2021-08-03T08:12:31.539Z"
   },
   {
    "duration": 617975,
    "start_time": "2021-08-03T08:12:38.806Z"
   },
   {
    "duration": 276,
    "start_time": "2021-08-03T08:23:04.201Z"
   },
   {
    "duration": 324,
    "start_time": "2021-08-03T08:23:36.847Z"
   },
   {
    "duration": 173,
    "start_time": "2021-08-03T08:25:16.302Z"
   },
   {
    "duration": 835,
    "start_time": "2021-08-03T08:25:49.068Z"
   },
   {
    "duration": 206,
    "start_time": "2021-08-03T08:26:23.773Z"
   },
   {
    "duration": 211,
    "start_time": "2021-08-03T08:27:01.262Z"
   },
   {
    "duration": 201,
    "start_time": "2021-08-03T08:27:38.570Z"
   },
   {
    "duration": 214,
    "start_time": "2021-08-03T08:27:45.363Z"
   },
   {
    "duration": 186,
    "start_time": "2021-08-03T08:28:45.286Z"
   },
   {
    "duration": 218,
    "start_time": "2021-08-03T08:29:22.351Z"
   },
   {
    "duration": 369,
    "start_time": "2021-08-03T08:30:44.851Z"
   },
   {
    "duration": 455,
    "start_time": "2021-08-03T08:30:54.564Z"
   },
   {
    "duration": 220,
    "start_time": "2021-08-03T08:31:01.658Z"
   },
   {
    "duration": 5,
    "start_time": "2021-08-03T08:33:50.858Z"
   },
   {
    "duration": 276,
    "start_time": "2021-08-03T08:34:06.492Z"
   },
   {
    "duration": 23616,
    "start_time": "2021-08-03T08:34:30.484Z"
   },
   {
    "duration": 39540,
    "start_time": "2021-08-03T08:35:05.186Z"
   },
   {
    "duration": 421495,
    "start_time": "2021-08-03T08:35:49.747Z"
   },
   {
    "duration": 1376879,
    "start_time": "2021-08-03T08:45:09.132Z"
   },
   {
    "duration": 17,
    "start_time": "2021-08-03T09:23:11.940Z"
   },
   {
    "duration": 17,
    "start_time": "2021-08-03T09:23:35.175Z"
   },
   {
    "duration": 34,
    "start_time": "2021-08-03T09:37:56.263Z"
   },
   {
    "duration": 125,
    "start_time": "2021-08-03T09:41:42.645Z"
   },
   {
    "duration": 268,
    "start_time": "2021-08-03T09:43:17.633Z"
   },
   {
    "duration": 17,
    "start_time": "2021-08-03T09:44:17.418Z"
   },
   {
    "duration": 470,
    "start_time": "2021-08-03T09:44:37.935Z"
   },
   {
    "duration": 436,
    "start_time": "2021-08-03T09:47:26.777Z"
   },
   {
    "duration": 419,
    "start_time": "2021-08-03T09:49:12.860Z"
   },
   {
    "duration": 319,
    "start_time": "2021-08-03T09:49:22.642Z"
   },
   {
    "duration": 3965,
    "start_time": "2021-08-03T09:49:51.259Z"
   },
   {
    "duration": 4052,
    "start_time": "2021-08-03T09:50:23.241Z"
   },
   {
    "duration": 4054,
    "start_time": "2021-08-03T09:50:50.440Z"
   },
   {
    "duration": 4387,
    "start_time": "2021-08-03T09:55:01.091Z"
   },
   {
    "duration": 5134,
    "start_time": "2021-08-03T09:57:29.101Z"
   },
   {
    "duration": 5472,
    "start_time": "2021-08-03T10:07:54.815Z"
   },
   {
    "duration": 5495,
    "start_time": "2021-08-03T10:09:55.337Z"
   },
   {
    "duration": 768,
    "start_time": "2021-08-03T10:10:11.337Z"
   },
   {
    "duration": 6,
    "start_time": "2021-08-03T10:10:28.326Z"
   },
   {
    "duration": 10,
    "start_time": "2021-08-03T10:10:28.334Z"
   },
   {
    "duration": 5,
    "start_time": "2021-08-03T10:10:28.347Z"
   },
   {
    "duration": 7,
    "start_time": "2021-08-03T10:10:28.355Z"
   },
   {
    "duration": 14,
    "start_time": "2021-08-03T10:10:28.364Z"
   },
   {
    "duration": 12,
    "start_time": "2021-08-03T10:10:28.382Z"
   },
   {
    "duration": 46,
    "start_time": "2021-08-03T10:10:28.400Z"
   },
   {
    "duration": 40,
    "start_time": "2021-08-03T10:10:28.451Z"
   },
   {
    "duration": 18,
    "start_time": "2021-08-03T10:10:28.495Z"
   },
   {
    "duration": 14,
    "start_time": "2021-08-03T10:10:28.516Z"
   },
   {
    "duration": 39,
    "start_time": "2021-08-03T10:10:28.532Z"
   },
   {
    "duration": 15,
    "start_time": "2021-08-03T10:10:28.576Z"
   },
   {
    "duration": 22,
    "start_time": "2021-08-03T10:10:28.594Z"
   },
   {
    "duration": 22,
    "start_time": "2021-08-03T10:10:28.618Z"
   },
   {
    "duration": 23,
    "start_time": "2021-08-03T10:10:28.667Z"
   },
   {
    "duration": 34,
    "start_time": "2021-08-03T10:10:28.693Z"
   },
   {
    "duration": 47,
    "start_time": "2021-08-03T10:10:28.729Z"
   },
   {
    "duration": 26,
    "start_time": "2021-08-03T10:10:28.779Z"
   },
   {
    "duration": 14,
    "start_time": "2021-08-03T10:10:28.808Z"
   },
   {
    "duration": 11,
    "start_time": "2021-08-03T10:10:28.824Z"
   },
   {
    "duration": 41,
    "start_time": "2021-08-03T10:10:28.837Z"
   },
   {
    "duration": 9,
    "start_time": "2021-08-03T10:10:28.881Z"
   },
   {
    "duration": 18,
    "start_time": "2021-08-03T10:10:28.896Z"
   },
   {
    "duration": 62,
    "start_time": "2021-08-03T10:10:28.917Z"
   },
   {
    "duration": 19,
    "start_time": "2021-08-03T10:10:28.982Z"
   },
   {
    "duration": 14,
    "start_time": "2021-08-03T10:10:29.003Z"
   },
   {
    "duration": 19,
    "start_time": "2021-08-03T10:10:29.019Z"
   },
   {
    "duration": 35,
    "start_time": "2021-08-03T10:10:29.040Z"
   },
   {
    "duration": 32,
    "start_time": "2021-08-03T10:10:29.078Z"
   },
   {
    "duration": 22,
    "start_time": "2021-08-03T10:10:29.113Z"
   },
   {
    "duration": 43,
    "start_time": "2021-08-03T10:10:29.138Z"
   },
   {
    "duration": 14,
    "start_time": "2021-08-03T10:10:29.185Z"
   },
   {
    "duration": 17,
    "start_time": "2021-08-03T10:10:29.202Z"
   },
   {
    "duration": 13,
    "start_time": "2021-08-03T10:10:29.221Z"
   },
   {
    "duration": 44,
    "start_time": "2021-08-03T10:10:29.236Z"
   },
   {
    "duration": 90,
    "start_time": "2021-08-03T10:10:29.283Z"
   },
   {
    "duration": 26,
    "start_time": "2021-08-03T10:10:29.376Z"
   },
   {
    "duration": 14,
    "start_time": "2021-08-03T10:10:29.405Z"
   },
   {
    "duration": 801,
    "start_time": "2021-08-03T10:10:32.781Z"
   },
   {
    "duration": 601,
    "start_time": "2021-08-03T10:11:09.716Z"
   },
   {
    "duration": 592,
    "start_time": "2021-08-03T10:15:55.999Z"
   },
   {
    "duration": 684,
    "start_time": "2021-08-03T10:16:11.334Z"
   },
   {
    "duration": 588,
    "start_time": "2021-08-03T10:16:23.575Z"
   },
   {
    "duration": 585,
    "start_time": "2021-08-03T10:17:11.010Z"
   },
   {
    "duration": 531,
    "start_time": "2021-08-03T10:17:33.195Z"
   },
   {
    "duration": 643,
    "start_time": "2021-08-03T10:17:44.051Z"
   },
   {
    "duration": 751,
    "start_time": "2021-08-03T10:17:58.642Z"
   },
   {
    "duration": 669,
    "start_time": "2021-08-03T10:18:48.583Z"
   },
   {
    "duration": 82,
    "start_time": "2021-08-03T10:33:11.932Z"
   },
   {
    "duration": 700,
    "start_time": "2021-08-03T10:35:25.228Z"
   },
   {
    "duration": 309,
    "start_time": "2021-08-03T10:40:59.805Z"
   },
   {
    "duration": 240,
    "start_time": "2021-08-03T10:42:02.724Z"
   },
   {
    "duration": 253,
    "start_time": "2021-08-03T10:44:00.987Z"
   },
   {
    "duration": 285,
    "start_time": "2021-08-03T10:44:07.493Z"
   },
   {
    "duration": 6,
    "start_time": "2021-08-03T10:46:06.387Z"
   },
   {
    "duration": 8,
    "start_time": "2021-08-03T10:46:33.879Z"
   },
   {
    "duration": 5,
    "start_time": "2021-08-03T10:47:40.373Z"
   },
   {
    "duration": 6,
    "start_time": "2021-08-03T10:47:52.472Z"
   },
   {
    "duration": 659,
    "start_time": "2021-08-03T10:53:04.787Z"
   },
   {
    "duration": 859,
    "start_time": "2021-08-03T10:53:15.640Z"
   },
   {
    "duration": 822,
    "start_time": "2021-08-03T10:53:39.526Z"
   },
   {
    "duration": 797,
    "start_time": "2021-08-03T10:53:54.791Z"
   },
   {
    "duration": 455,
    "start_time": "2021-08-03T10:56:01.082Z"
   },
   {
    "duration": 462,
    "start_time": "2021-08-03T10:56:33.444Z"
   },
   {
    "duration": 6,
    "start_time": "2021-08-03T11:00:07.442Z"
   },
   {
    "duration": 13,
    "start_time": "2021-08-03T11:00:33.763Z"
   },
   {
    "duration": 13,
    "start_time": "2021-08-03T11:01:40.744Z"
   },
   {
    "duration": 811,
    "start_time": "2021-08-03T11:09:16.950Z"
   },
   {
    "duration": 812,
    "start_time": "2021-08-03T11:09:35.012Z"
   },
   {
    "duration": 7365,
    "start_time": "2021-08-03T11:10:19.619Z"
   },
   {
    "duration": 861,
    "start_time": "2021-08-03T11:11:14.974Z"
   },
   {
    "duration": 815,
    "start_time": "2021-08-03T11:11:27.860Z"
   },
   {
    "duration": 827,
    "start_time": "2021-08-03T11:11:33.485Z"
   },
   {
    "duration": 279,
    "start_time": "2021-08-03T11:12:35.720Z"
   },
   {
    "duration": 7,
    "start_time": "2021-08-03T11:12:43.231Z"
   },
   {
    "duration": 7092,
    "start_time": "2021-08-03T11:13:03.818Z"
   },
   {
    "duration": 834,
    "start_time": "2021-08-03T11:13:26.336Z"
   },
   {
    "duration": 988,
    "start_time": "2021-08-03T11:15:02.667Z"
   },
   {
    "duration": 859,
    "start_time": "2021-08-03T11:15:14.417Z"
   },
   {
    "duration": 102,
    "start_time": "2021-08-03T11:22:04.447Z"
   },
   {
    "duration": 722,
    "start_time": "2021-08-03T11:23:46.352Z"
   },
   {
    "duration": 374,
    "start_time": "2021-08-03T11:24:16.978Z"
   },
   {
    "duration": 719,
    "start_time": "2021-08-03T11:24:52.264Z"
   },
   {
    "duration": 414,
    "start_time": "2021-08-03T11:25:07.336Z"
   },
   {
    "duration": 419,
    "start_time": "2021-08-03T11:25:09.436Z"
   },
   {
    "duration": 436,
    "start_time": "2021-08-03T11:25:12.613Z"
   },
   {
    "duration": 327,
    "start_time": "2021-08-03T12:47:49.066Z"
   },
   {
    "duration": 518,
    "start_time": "2021-08-03T12:48:05.584Z"
   },
   {
    "duration": 476,
    "start_time": "2021-08-03T12:48:13.828Z"
   },
   {
    "duration": 465,
    "start_time": "2021-08-03T12:48:19.949Z"
   },
   {
    "duration": 441,
    "start_time": "2021-08-03T12:48:29.882Z"
   },
   {
    "duration": 368,
    "start_time": "2021-08-03T12:48:34.553Z"
   },
   {
    "duration": 378,
    "start_time": "2021-08-03T12:48:38.466Z"
   },
   {
    "duration": 494,
    "start_time": "2021-08-03T12:48:48.783Z"
   },
   {
    "duration": 636,
    "start_time": "2021-08-03T12:49:10.010Z"
   },
   {
    "duration": 557,
    "start_time": "2021-08-03T12:49:18.248Z"
   },
   {
    "duration": 532,
    "start_time": "2021-08-03T12:49:25.663Z"
   },
   {
    "duration": 561,
    "start_time": "2021-08-03T12:49:41.449Z"
   },
   {
    "duration": 396,
    "start_time": "2021-08-03T12:49:53.923Z"
   },
   {
    "duration": 83,
    "start_time": "2021-08-03T12:51:48.639Z"
   },
   {
    "duration": 413,
    "start_time": "2021-08-03T12:51:55.811Z"
   },
   {
    "duration": 492,
    "start_time": "2021-08-03T13:02:07.144Z"
   },
   {
    "duration": 806,
    "start_time": "2021-08-03T13:06:10.684Z"
   },
   {
    "duration": 106,
    "start_time": "2021-08-03T13:08:54.041Z"
   },
   {
    "duration": 82,
    "start_time": "2021-08-03T13:09:01.063Z"
   },
   {
    "duration": 304,
    "start_time": "2021-08-03T13:09:13.502Z"
   },
   {
    "duration": 601,
    "start_time": "2021-08-03T13:09:56.580Z"
   },
   {
    "duration": 8376,
    "start_time": "2021-08-03T13:16:05.757Z"
   },
   {
    "duration": 8428,
    "start_time": "2021-08-03T13:16:32.645Z"
   },
   {
    "duration": 2466,
    "start_time": "2021-08-03T13:17:33.164Z"
   },
   {
    "duration": 718,
    "start_time": "2021-08-03T13:17:52.622Z"
   },
   {
    "duration": 5080,
    "start_time": "2021-08-03T13:19:44.173Z"
   },
   {
    "duration": 5055,
    "start_time": "2021-08-03T13:20:06.644Z"
   },
   {
    "duration": 7302,
    "start_time": "2021-08-03T13:20:39.675Z"
   },
   {
    "duration": 601,
    "start_time": "2021-08-03T13:23:14.040Z"
   },
   {
    "duration": 578,
    "start_time": "2021-08-03T13:23:35.972Z"
   },
   {
    "duration": 588,
    "start_time": "2021-08-03T13:23:47.556Z"
   },
   {
    "duration": 5354,
    "start_time": "2021-08-03T13:24:08.055Z"
   },
   {
    "duration": 540,
    "start_time": "2021-08-03T13:24:18.076Z"
   },
   {
    "duration": 557,
    "start_time": "2021-08-03T13:24:24.865Z"
   },
   {
    "duration": 4621,
    "start_time": "2021-08-03T13:24:39.142Z"
   },
   {
    "duration": 4543,
    "start_time": "2021-08-03T13:24:51.581Z"
   },
   {
    "duration": 1118,
    "start_time": "2021-08-03T13:27:26.916Z"
   },
   {
    "duration": 861,
    "start_time": "2021-08-03T13:27:35.164Z"
   },
   {
    "duration": 869,
    "start_time": "2021-08-03T13:27:46.101Z"
   },
   {
    "duration": 831,
    "start_time": "2021-08-03T13:28:04.559Z"
   },
   {
    "duration": 538,
    "start_time": "2021-08-03T13:28:31.332Z"
   },
   {
    "duration": 5,
    "start_time": "2021-08-03T13:46:20.850Z"
   },
   {
    "duration": 15,
    "start_time": "2021-08-03T13:46:28.050Z"
   },
   {
    "duration": 6,
    "start_time": "2021-08-03T13:47:14.387Z"
   },
   {
    "duration": 14,
    "start_time": "2021-08-03T13:47:16.827Z"
   },
   {
    "duration": 8,
    "start_time": "2021-08-03T13:50:46.400Z"
   },
   {
    "duration": 15,
    "start_time": "2021-08-03T13:50:49.959Z"
   },
   {
    "duration": 6,
    "start_time": "2021-08-03T13:52:00.680Z"
   },
   {
    "duration": 16,
    "start_time": "2021-08-03T13:52:00.688Z"
   },
   {
    "duration": 15,
    "start_time": "2021-08-03T13:52:00.707Z"
   },
   {
    "duration": 15,
    "start_time": "2021-08-03T13:52:00.725Z"
   },
   {
    "duration": 17,
    "start_time": "2021-08-03T13:52:00.742Z"
   },
   {
    "duration": 13,
    "start_time": "2021-08-03T13:52:00.762Z"
   },
   {
    "duration": 55,
    "start_time": "2021-08-03T13:52:00.778Z"
   },
   {
    "duration": 18,
    "start_time": "2021-08-03T13:52:00.836Z"
   },
   {
    "duration": 24,
    "start_time": "2021-08-03T13:52:00.858Z"
   },
   {
    "duration": 15,
    "start_time": "2021-08-03T13:52:00.886Z"
   },
   {
    "duration": 7,
    "start_time": "2021-08-03T13:52:00.903Z"
   },
   {
    "duration": 8,
    "start_time": "2021-08-03T13:52:00.913Z"
   },
   {
    "duration": 50,
    "start_time": "2021-08-03T13:52:00.924Z"
   },
   {
    "duration": 24,
    "start_time": "2021-08-03T13:52:00.976Z"
   },
   {
    "duration": 15,
    "start_time": "2021-08-03T13:52:01.002Z"
   },
   {
    "duration": 29,
    "start_time": "2021-08-03T13:52:01.019Z"
   },
   {
    "duration": 14,
    "start_time": "2021-08-03T13:52:01.068Z"
   },
   {
    "duration": 43,
    "start_time": "2021-08-03T13:52:01.085Z"
   },
   {
    "duration": 23,
    "start_time": "2021-08-03T13:52:01.131Z"
   },
   {
    "duration": 17,
    "start_time": "2021-08-03T13:52:01.156Z"
   },
   {
    "duration": 21,
    "start_time": "2021-08-03T13:52:01.176Z"
   },
   {
    "duration": 19,
    "start_time": "2021-08-03T13:52:01.200Z"
   },
   {
    "duration": 11,
    "start_time": "2021-08-03T13:52:01.221Z"
   },
   {
    "duration": 40,
    "start_time": "2021-08-03T13:52:01.234Z"
   },
   {
    "duration": 36,
    "start_time": "2021-08-03T13:52:01.277Z"
   },
   {
    "duration": 20,
    "start_time": "2021-08-03T13:52:01.315Z"
   },
   {
    "duration": 18,
    "start_time": "2021-08-03T13:52:01.341Z"
   },
   {
    "duration": 31,
    "start_time": "2021-08-03T13:52:01.366Z"
   },
   {
    "duration": 12,
    "start_time": "2021-08-03T13:52:01.399Z"
   },
   {
    "duration": 26,
    "start_time": "2021-08-03T13:52:01.413Z"
   },
   {
    "duration": 24,
    "start_time": "2021-08-03T13:52:01.442Z"
   },
   {
    "duration": 23,
    "start_time": "2021-08-03T13:52:01.468Z"
   },
   {
    "duration": 36,
    "start_time": "2021-08-03T13:52:01.494Z"
   },
   {
    "duration": 23,
    "start_time": "2021-08-03T13:52:01.532Z"
   },
   {
    "duration": 20,
    "start_time": "2021-08-03T13:52:01.557Z"
   },
   {
    "duration": 18,
    "start_time": "2021-08-03T13:52:01.579Z"
   },
   {
    "duration": 85,
    "start_time": "2021-08-03T13:52:01.600Z"
   },
   {
    "duration": 23,
    "start_time": "2021-08-03T13:52:01.689Z"
   },
   {
    "duration": 20,
    "start_time": "2021-08-03T13:52:01.717Z"
   },
   {
    "duration": 479,
    "start_time": "2021-08-03T13:52:01.740Z"
   },
   {
    "duration": 418,
    "start_time": "2021-08-03T13:52:02.221Z"
   },
   {
    "duration": 394,
    "start_time": "2021-08-03T13:52:02.641Z"
   },
   {
    "duration": 573,
    "start_time": "2021-08-03T13:52:03.037Z"
   },
   {
    "duration": 4286,
    "start_time": "2021-08-03T13:52:06.949Z"
   },
   {
    "duration": 4592,
    "start_time": "2021-08-03T13:54:04.818Z"
   },
   {
    "duration": 402,
    "start_time": "2021-08-03T13:55:18.199Z"
   },
   {
    "duration": 523,
    "start_time": "2021-08-03T13:55:37.681Z"
   },
   {
    "duration": 389,
    "start_time": "2021-08-03T13:56:07.172Z"
   },
   {
    "duration": 421,
    "start_time": "2021-08-03T13:56:34.805Z"
   },
   {
    "duration": 404,
    "start_time": "2021-08-03T13:56:38.989Z"
   },
   {
    "duration": 4600,
    "start_time": "2021-08-03T13:56:49.057Z"
   },
   {
    "duration": 391,
    "start_time": "2021-08-03T13:57:30.292Z"
   },
   {
    "duration": 420,
    "start_time": "2021-08-03T13:57:47.444Z"
   },
   {
    "duration": 447,
    "start_time": "2021-08-03T13:58:04.779Z"
   },
   {
    "duration": 449,
    "start_time": "2021-08-03T13:58:19.426Z"
   },
   {
    "duration": 402,
    "start_time": "2021-08-03T13:58:33.353Z"
   },
   {
    "duration": 397,
    "start_time": "2021-08-03T13:58:37.859Z"
   },
   {
    "duration": 4595,
    "start_time": "2021-08-03T13:58:53.734Z"
   },
   {
    "duration": 823,
    "start_time": "2021-08-03T13:59:43.590Z"
   },
   {
    "duration": 279,
    "start_time": "2021-08-03T14:02:22.150Z"
   },
   {
    "duration": 309,
    "start_time": "2021-08-03T14:02:30.379Z"
   },
   {
    "duration": 13,
    "start_time": "2021-08-03T14:03:54.280Z"
   },
   {
    "duration": 12,
    "start_time": "2021-08-03T14:04:25.935Z"
   },
   {
    "duration": 241,
    "start_time": "2021-08-03T14:05:36.757Z"
   },
   {
    "duration": 20,
    "start_time": "2021-08-03T14:08:20.393Z"
   },
   {
    "duration": 247,
    "start_time": "2021-08-03T14:08:59.054Z"
   },
   {
    "duration": 226,
    "start_time": "2021-08-03T14:09:22.202Z"
   },
   {
    "duration": 224,
    "start_time": "2021-08-03T14:10:58.719Z"
   },
   {
    "duration": 22,
    "start_time": "2021-08-03T14:11:07.676Z"
   },
   {
    "duration": 314,
    "start_time": "2021-08-03T14:12:46.246Z"
   },
   {
    "duration": 292,
    "start_time": "2021-08-03T14:13:02.605Z"
   },
   {
    "duration": 23,
    "start_time": "2021-08-03T14:16:06.858Z"
   },
   {
    "duration": 77,
    "start_time": "2021-08-03T14:17:33.751Z"
   },
   {
    "duration": 1628,
    "start_time": "2021-08-03T14:29:56.396Z"
   },
   {
    "duration": 4,
    "start_time": "2021-08-03T14:29:58.027Z"
   },
   {
    "duration": 13,
    "start_time": "2021-08-03T14:29:58.034Z"
   },
   {
    "duration": 17,
    "start_time": "2021-08-03T14:29:58.050Z"
   },
   {
    "duration": 8,
    "start_time": "2021-08-03T14:29:58.070Z"
   },
   {
    "duration": 13,
    "start_time": "2021-08-03T14:29:58.083Z"
   },
   {
    "duration": 45,
    "start_time": "2021-08-03T14:29:58.099Z"
   },
   {
    "duration": 31,
    "start_time": "2021-08-03T14:29:58.148Z"
   },
   {
    "duration": 16,
    "start_time": "2021-08-03T14:29:58.182Z"
   },
   {
    "duration": 16,
    "start_time": "2021-08-03T14:29:58.200Z"
   },
   {
    "duration": 56,
    "start_time": "2021-08-03T14:29:58.218Z"
   },
   {
    "duration": 8,
    "start_time": "2021-08-03T14:29:58.284Z"
   },
   {
    "duration": 39,
    "start_time": "2021-08-03T14:29:58.295Z"
   },
   {
    "duration": 35,
    "start_time": "2021-08-03T14:29:58.336Z"
   },
   {
    "duration": 26,
    "start_time": "2021-08-03T14:29:58.374Z"
   },
   {
    "duration": 22,
    "start_time": "2021-08-03T14:29:58.403Z"
   },
   {
    "duration": 12,
    "start_time": "2021-08-03T14:29:58.427Z"
   },
   {
    "duration": 63,
    "start_time": "2021-08-03T14:29:58.441Z"
   },
   {
    "duration": 24,
    "start_time": "2021-08-03T14:29:58.506Z"
   },
   {
    "duration": 13,
    "start_time": "2021-08-03T14:29:58.532Z"
   },
   {
    "duration": 39,
    "start_time": "2021-08-03T14:29:58.548Z"
   },
   {
    "duration": 18,
    "start_time": "2021-08-03T14:29:58.591Z"
   },
   {
    "duration": 13,
    "start_time": "2021-08-03T14:29:58.615Z"
   },
   {
    "duration": 49,
    "start_time": "2021-08-03T14:29:58.632Z"
   },
   {
    "duration": 26,
    "start_time": "2021-08-03T14:29:58.688Z"
   },
   {
    "duration": 15,
    "start_time": "2021-08-03T14:29:58.716Z"
   },
   {
    "duration": 11,
    "start_time": "2021-08-03T14:29:58.733Z"
   },
   {
    "duration": 37,
    "start_time": "2021-08-03T14:29:58.746Z"
   },
   {
    "duration": 7,
    "start_time": "2021-08-03T14:29:58.786Z"
   },
   {
    "duration": 34,
    "start_time": "2021-08-03T14:29:58.796Z"
   },
   {
    "duration": 48,
    "start_time": "2021-08-03T14:29:58.832Z"
   },
   {
    "duration": 20,
    "start_time": "2021-08-03T14:29:58.883Z"
   },
   {
    "duration": 11,
    "start_time": "2021-08-03T14:29:58.905Z"
   },
   {
    "duration": 20,
    "start_time": "2021-08-03T14:29:58.918Z"
   },
   {
    "duration": 14,
    "start_time": "2021-08-03T14:29:58.976Z"
   },
   {
    "duration": 15,
    "start_time": "2021-08-03T14:29:58.993Z"
   },
   {
    "duration": 92,
    "start_time": "2021-08-03T14:29:59.011Z"
   },
   {
    "duration": 19,
    "start_time": "2021-08-03T14:29:59.106Z"
   },
   {
    "duration": 13,
    "start_time": "2021-08-03T14:29:59.127Z"
   },
   {
    "duration": 416,
    "start_time": "2021-08-03T14:29:59.142Z"
   },
   {
    "duration": 384,
    "start_time": "2021-08-03T14:29:59.567Z"
   },
   {
    "duration": 386,
    "start_time": "2021-08-03T14:29:59.954Z"
   },
   {
    "duration": 690,
    "start_time": "2021-08-03T14:30:00.342Z"
   },
   {
    "duration": 5001,
    "start_time": "2021-08-03T14:30:01.034Z"
   },
   {
    "duration": 36,
    "start_time": "2021-08-03T14:30:06.039Z"
   },
   {
    "duration": 14,
    "start_time": "2021-08-03T14:30:06.078Z"
   },
   {
    "duration": 92,
    "start_time": "2021-08-03T14:30:06.100Z"
   },
   {
    "duration": 52,
    "start_time": "2021-08-03T14:30:06.195Z"
   },
   {
    "duration": 43,
    "start_time": "2021-08-03T14:30:06.250Z"
   },
   {
    "duration": 9,
    "start_time": "2021-08-03T14:30:06.296Z"
   },
   {
    "duration": 163,
    "start_time": "2021-08-03T14:30:06.308Z"
   },
   {
    "duration": 30597,
    "start_time": "2021-08-03T14:30:06.475Z"
   },
   {
    "duration": 36371,
    "start_time": "2021-08-03T14:30:37.075Z"
   },
   {
    "duration": 466885,
    "start_time": "2021-08-03T14:31:13.449Z"
   },
   {
    "duration": 83404,
    "start_time": "2021-08-03T14:39:00.337Z"
   },
   {
    "duration": 1389713,
    "start_time": "2021-08-03T14:40:23.744Z"
   },
   {
    "duration": 32,
    "start_time": "2021-08-03T15:03:33.459Z"
   },
   {
    "duration": 908,
    "start_time": "2021-08-03T15:03:33.495Z"
   },
   {
    "duration": 18,
    "start_time": "2021-08-03T15:03:34.405Z"
   },
   {
    "duration": 4830,
    "start_time": "2021-08-03T15:03:34.425Z"
   },
   {
    "duration": 475,
    "start_time": "2021-08-03T15:03:39.258Z"
   },
   {
    "duration": 1664,
    "start_time": "2021-08-04T18:54:55.873Z"
   },
   {
    "duration": 5,
    "start_time": "2021-08-04T18:54:57.539Z"
   },
   {
    "duration": 10,
    "start_time": "2021-08-04T18:54:57.546Z"
   },
   {
    "duration": 8,
    "start_time": "2021-08-04T18:54:57.559Z"
   },
   {
    "duration": 6,
    "start_time": "2021-08-04T18:54:57.570Z"
   },
   {
    "duration": 7,
    "start_time": "2021-08-04T18:54:57.579Z"
   },
   {
    "duration": 59,
    "start_time": "2021-08-04T18:54:57.588Z"
   },
   {
    "duration": 25,
    "start_time": "2021-08-04T18:54:57.651Z"
   },
   {
    "duration": 15,
    "start_time": "2021-08-04T18:54:57.680Z"
   },
   {
    "duration": 14,
    "start_time": "2021-08-04T18:54:57.698Z"
   },
   {
    "duration": 45,
    "start_time": "2021-08-04T18:54:57.714Z"
   },
   {
    "duration": 11,
    "start_time": "2021-08-04T18:54:57.762Z"
   },
   {
    "duration": 28,
    "start_time": "2021-08-04T18:54:57.775Z"
   },
   {
    "duration": 21,
    "start_time": "2021-08-04T18:54:57.805Z"
   },
   {
    "duration": 45,
    "start_time": "2021-08-04T18:54:57.828Z"
   },
   {
    "duration": 14,
    "start_time": "2021-08-04T18:54:57.875Z"
   },
   {
    "duration": 10,
    "start_time": "2021-08-04T18:54:57.892Z"
   },
   {
    "duration": 72,
    "start_time": "2021-08-04T18:54:57.904Z"
   },
   {
    "duration": 25,
    "start_time": "2021-08-04T18:54:57.979Z"
   },
   {
    "duration": 13,
    "start_time": "2021-08-04T18:54:58.006Z"
   },
   {
    "duration": 11,
    "start_time": "2021-08-04T18:54:58.022Z"
   },
   {
    "duration": 31,
    "start_time": "2021-08-04T18:54:58.035Z"
   },
   {
    "duration": 7,
    "start_time": "2021-08-04T18:54:58.073Z"
   },
   {
    "duration": 16,
    "start_time": "2021-08-04T18:54:58.083Z"
   },
   {
    "duration": 67,
    "start_time": "2021-08-04T18:54:58.101Z"
   },
   {
    "duration": 15,
    "start_time": "2021-08-04T18:54:58.171Z"
   },
   {
    "duration": 20,
    "start_time": "2021-08-04T18:54:58.188Z"
   },
   {
    "duration": 26,
    "start_time": "2021-08-04T18:54:58.211Z"
   },
   {
    "duration": 6,
    "start_time": "2021-08-04T18:54:58.239Z"
   },
   {
    "duration": 41,
    "start_time": "2021-08-04T18:54:58.247Z"
   },
   {
    "duration": 23,
    "start_time": "2021-08-04T18:54:58.290Z"
   },
   {
    "duration": 14,
    "start_time": "2021-08-04T18:54:58.315Z"
   },
   {
    "duration": 25,
    "start_time": "2021-08-04T18:54:58.331Z"
   },
   {
    "duration": 14,
    "start_time": "2021-08-04T18:54:58.359Z"
   },
   {
    "duration": 18,
    "start_time": "2021-08-04T18:54:58.375Z"
   },
   {
    "duration": 26,
    "start_time": "2021-08-04T18:54:58.396Z"
   },
   {
    "duration": 83,
    "start_time": "2021-08-04T18:54:58.424Z"
   },
   {
    "duration": 18,
    "start_time": "2021-08-04T18:54:58.509Z"
   },
   {
    "duration": 36,
    "start_time": "2021-08-04T18:54:58.530Z"
   },
   {
    "duration": 519,
    "start_time": "2021-08-04T18:54:58.570Z"
   },
   {
    "duration": 434,
    "start_time": "2021-08-04T18:54:59.092Z"
   },
   {
    "duration": 386,
    "start_time": "2021-08-04T18:54:59.528Z"
   },
   {
    "duration": 571,
    "start_time": "2021-08-04T18:54:59.917Z"
   },
   {
    "duration": 4586,
    "start_time": "2021-08-04T18:55:00.491Z"
   },
   {
    "duration": 18,
    "start_time": "2021-08-04T18:55:05.080Z"
   },
   {
    "duration": 8,
    "start_time": "2021-08-04T18:55:05.101Z"
   },
   {
    "duration": 108,
    "start_time": "2021-08-04T18:55:05.112Z"
   },
   {
    "duration": 18,
    "start_time": "2021-08-04T18:55:05.223Z"
   },
   {
    "duration": 18,
    "start_time": "2021-08-04T19:15:15.158Z"
   },
   {
    "duration": 30,
    "start_time": "2021-08-04T19:15:17.394Z"
   },
   {
    "duration": 10,
    "start_time": "2021-08-04T19:20:50.698Z"
   },
   {
    "duration": 118,
    "start_time": "2021-08-04T19:20:50.711Z"
   },
   {
    "duration": 18147,
    "start_time": "2021-08-04T19:20:50.832Z"
   },
   {
    "duration": 40871,
    "start_time": "2021-08-04T19:21:09.071Z"
   },
   {
    "duration": 444971,
    "start_time": "2021-08-04T19:21:49.944Z"
   },
   {
    "duration": 85139,
    "start_time": "2021-08-04T19:29:14.920Z"
   },
   {
    "duration": 1691830,
    "start_time": "2021-08-04T19:30:40.062Z"
   },
   {
    "duration": 16,
    "start_time": "2021-08-04T19:58:51.896Z"
   },
   {
    "duration": 828,
    "start_time": "2021-08-04T19:58:51.914Z"
   },
   {
    "duration": 30,
    "start_time": "2021-08-04T19:58:52.744Z"
   },
   {
    "duration": 4249,
    "start_time": "2021-08-04T19:58:52.777Z"
   },
   {
    "duration": 487,
    "start_time": "2021-08-04T19:58:57.028Z"
   }
  ],
  "kernelspec": {
   "display_name": "Python 3",
   "language": "python",
   "name": "python3"
  },
  "language_info": {
   "codemirror_mode": {
    "name": "ipython",
    "version": 3
   },
   "file_extension": ".py",
   "mimetype": "text/x-python",
   "name": "python",
   "nbconvert_exporter": "python",
   "pygments_lexer": "ipython3",
   "version": "3.8.5"
  },
  "toc": {
   "base_numbering": 1,
   "nav_menu": {},
   "number_sections": true,
   "sideBar": true,
   "skip_h1_title": true,
   "title_cell": "Содержание",
   "title_sidebar": "Contents",
   "toc_cell": true,
   "toc_position": {
    "height": "calc(100% - 180px)",
    "left": "10px",
    "top": "150px",
    "width": "308.625px"
   },
   "toc_section_display": true,
   "toc_window_display": false
  }
 },
 "nbformat": 4,
 "nbformat_minor": 2
}
